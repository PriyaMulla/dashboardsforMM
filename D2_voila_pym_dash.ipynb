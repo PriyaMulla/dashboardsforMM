{
 "cells": [
  {
   "cell_type": "code",
   "execution_count": 4,
   "id": "6b4ff65c-c731-4cc8-ac02-72784d60b030",
   "metadata": {},
   "outputs": [],
   "source": [
    "%matplotlib ipympl\n",
    "import matplotlib.pyplot as plt\n",
    "import numpy as np\n",
    "import ipywidgets as widgets\n",
    "from IPython.display import display"
   ]
  },
  {
   "cell_type": "code",
   "execution_count": 5,
   "id": "e356c3b2-f00a-424c-a4bc-c0eba05a113c",
   "metadata": {},
   "outputs": [],
   "source": [
    "from pycromanager import Core"
   ]
  },
  {
   "cell_type": "code",
   "execution_count": 6,
   "id": "609f6fb5-360e-4826-9d49-c1d68064dba9",
   "metadata": {},
   "outputs": [],
   "source": [
    "core = Core()"
   ]
  },
  {
   "cell_type": "markdown",
   "id": "b22d72b0-3bce-4cf7-a693-6de3b666d82c",
   "metadata": {
    "tags": []
   },
   "source": [
    "button = widgets.Button(description=\"Snap Image\")\n",
    "output = widgets.Output()\n",
    "\n",
    "display(button, output)\n",
    "\n",
    "def on_button_clicked(b):\n",
    "    with output:\n",
    "        output.clear_output()\n",
    "        core.snap_image()\n",
    "        tagged_image = core.get_tagged_image()\n",
    "        height = tagged_image.tags['Height']\n",
    "        width = tagged_image.tags['Width']\n",
    "        pixels = np.reshape(tagged_image.pix,\n",
    "                        newshape=[height, width, tagged_image.pix.shape[0]//(height*width)])\n",
    "        plt.imshow(pixels)\n",
    "        plt.show()\n",
    "\n",
    "button.on_click(on_button_clicked)"
   ]
  },
  {
   "cell_type": "code",
   "execution_count": null,
   "id": "aa12659e-4f02-4160-9fc3-d4c89b6f1a6c",
   "metadata": {},
   "outputs": [
    {
     "ename": "AttributeError",
     "evalue": "module 'voila.app' has no attribute '_shared_context'",
     "output_type": "error",
     "traceback": [
      "\u001b[1;31m---------------------------------------------------------------------------\u001b[0m",
      "\u001b[1;31mAttributeError\u001b[0m                            Traceback (most recent call last)",
      "Cell \u001b[1;32mIn[1], line 5\u001b[0m\n\u001b[0;32m      2\u001b[0m \u001b[38;5;28;01mimport\u001b[39;00m \u001b[38;5;21;01mvoila\u001b[39;00m\u001b[38;5;21;01m.\u001b[39;00m\u001b[38;5;21;01mapp\u001b[39;00m\n\u001b[0;32m      4\u001b[0m \u001b[38;5;66;03m# Initialize the shared context\u001b[39;00m\n\u001b[1;32m----> 5\u001b[0m \u001b[43mvoila\u001b[49m\u001b[38;5;241;43m.\u001b[39;49m\u001b[43mapp\u001b[49m\u001b[38;5;241;43m.\u001b[39;49m\u001b[43m_shared_context\u001b[49m[\u001b[38;5;124m'\u001b[39m\u001b[38;5;124mdata\u001b[39m\u001b[38;5;124m'\u001b[39m] \u001b[38;5;241m=\u001b[39m \u001b[38;5;241m0\u001b[39m\n\u001b[0;32m      7\u001b[0m \u001b[38;5;66;03m# Define the function that updates the data and puts it in the shared context\u001b[39;00m\n\u001b[0;32m      8\u001b[0m \u001b[38;5;28;01mdef\u001b[39;00m \u001b[38;5;21mupdate_data\u001b[39m(change):\n",
      "\u001b[1;31mAttributeError\u001b[0m: module 'voila.app' has no attribute '_shared_context'"
     ]
    }
   ],
   "source": []
  },
  {
   "cell_type": "code",
   "execution_count": null,
   "id": "4d624a29-4882-420c-8d4f-444e4f824672",
   "metadata": {},
   "outputs": [],
   "source": []
  }
 ],
 "metadata": {
  "kernelspec": {
   "display_name": "Python 3 (ipykernel)",
   "language": "python",
   "name": "python3"
  },
  "language_info": {
   "codemirror_mode": {
    "name": "ipython",
    "version": 3
   },
   "file_extension": ".py",
   "mimetype": "text/x-python",
   "name": "python",
   "nbconvert_exporter": "python",
   "pygments_lexer": "ipython3",
   "version": "3.11.0"
  }
 },
 "nbformat": 4,
 "nbformat_minor": 5
}
