{
 "cells": [
  {
   "cell_type": "code",
   "execution_count": 1,
   "id": "8c60602a-6cfc-42f0-8f6c-76cbba017eb5",
   "metadata": {},
   "outputs": [],
   "source": [
    "import TimeTagger"
   ]
  },
  {
   "cell_type": "code",
   "execution_count": 2,
   "id": "f48b3c6a-be91-4315-9e27-5f0abad2dc79",
   "metadata": {},
   "outputs": [],
   "source": [
    "time_tagger = TimeTagger.createTimeTagger()"
   ]
  },
  {
   "cell_type": "code",
   "execution_count": 3,
   "id": "a0999609-2cb9-4a04-8554-430f688db085",
   "metadata": {},
   "outputs": [],
   "source": [
    "syncMeas = TimeTagger.SynchronizedMeasurements(time_tagger)\n",
    "taggerSync = syncMeas.getTagger()\n",
    "counter = TimeTagger.Counter(taggerSync, [1, 2])\n",
    "countrate = TimeTagger.Countrate(taggerSync, [3, 4])\n",
    "counter2 = TimeTagger.Counter(time_tagger, [3, 4])"
   ]
  },
  {
   "cell_type": "code",
   "execution_count": 5,
   "id": "42cc108a-70de-4559-ad58-dd79ed50b7d2",
   "metadata": {},
   "outputs": [
    {
     "data": {
      "text/plain": [
       "(True, False, False)"
      ]
     },
     "execution_count": 5,
     "metadata": {},
     "output_type": "execute_result"
    }
   ],
   "source": [
    "counter2.isRunning(), countrate.isRunning(), syncMeas.isRunning()"
   ]
  },
  {
   "cell_type": "code",
   "execution_count": 13,
   "id": "84f90d72-9922-4691-ada0-dca7ecf03590",
   "metadata": {},
   "outputs": [
    {
     "data": {
      "text/plain": [
       "(array([[0],\n",
       "        [0]]),\n",
       " array([nan, nan]))"
      ]
     },
     "execution_count": 13,
     "metadata": {},
     "output_type": "execute_result"
    }
   ],
   "source": [
    "duration = 1E12\n",
    "syncMeas.startFor(duration)\n",
    "counter.getData(), countrate.getData()"
   ]
  },
  {
   "cell_type": "code",
   "execution_count": 14,
   "id": "cb44ab6f-7313-4bd3-bee4-c5b0cf05e5e4",
   "metadata": {},
   "outputs": [
    {
     "data": {
      "text/plain": [
       "array([[0],\n",
       "       [0]])"
      ]
     },
     "execution_count": 14,
     "metadata": {},
     "output_type": "execute_result"
    }
   ],
   "source": [
    "counter2.getData()"
   ]
  },
  {
   "cell_type": "code",
   "execution_count": null,
   "id": "a3db30bf-b6b5-49d4-bbb4-df68228c7bbb",
   "metadata": {},
   "outputs": [],
   "source": []
  },
  {
   "cell_type": "code",
   "execution_count": 6,
   "id": "dcf52dcc-2d32-4e1c-992a-f956fc11b142",
   "metadata": {},
   "outputs": [],
   "source": [
    "fw = TimeTagger.FileWriter(time_tagger,'test',[1])"
   ]
  },
  {
   "cell_type": "code",
   "execution_count": 8,
   "id": "402c24d2-7fe5-4c78-8662-3e1f067c1fe6",
   "metadata": {},
   "outputs": [
    {
     "data": {
      "text/plain": [
       "False"
      ]
     },
     "execution_count": 8,
     "metadata": {},
     "output_type": "execute_result"
    }
   ],
   "source": [
    "fw.stop()\n",
    "fw.isRunning()"
   ]
  },
  {
   "cell_type": "code",
   "execution_count": 10,
   "id": "2d004bb4-cab7-4712-9f2a-281bf39acc09",
   "metadata": {},
   "outputs": [],
   "source": [
    "import numpy as np"
   ]
  },
  {
   "cell_type": "code",
   "execution_count": 13,
   "id": "4436d2c9-956a-47b8-a9b6-e886a1fce2d1",
   "metadata": {},
   "outputs": [],
   "source": [
    "n_pixel = 256\n",
    "pixel_time = 1/200E3\n",
    "integ_time = 3E9\n",
    "pixel_pattern_start = np.linspace(0, n_pixel, num=n_pixel, endpoint=False, dtype=int) * (pixel_time * 1e12)\n",
    "pixel_pattern_end = pixel_pattern_start +  integ_time\n",
    "\n",
    "pixel_start_chan = TimeTagger.EventGenerator(time_tagger, 2, pixel_pattern_start)\n",
    "pixel_end_chan= TimeTagger.EventGenerator(time_tagger, 2, pixel_pattern_end)"
   ]
  },
  {
   "cell_type": "code",
   "execution_count": 15,
   "id": "99253af8-8554-47d5-b449-043eb4d796c2",
   "metadata": {},
   "outputs": [
    {
     "data": {
      "text/plain": [
       "True"
      ]
     },
     "execution_count": 15,
     "metadata": {},
     "output_type": "execute_result"
    }
   ],
   "source": [
    "pixel_start_chan.isRunning()"
   ]
  },
  {
   "cell_type": "code",
   "execution_count": 16,
   "id": "265d84cd-8b40-4e02-b077-90a5349d2232",
   "metadata": {},
   "outputs": [],
   "source": [
    "pixel_start_chan = TimeTagger.EventGenerator(taggerSync, 2, pixel_pattern_start)\n",
    "pixel_end_chan= TimeTagger.EventGenerator(taggerSync, 2, pixel_pattern_end)"
   ]
  },
  {
   "cell_type": "code",
   "execution_count": 19,
   "id": "89295563-6437-49d2-aa2f-1e1480bf8b74",
   "metadata": {},
   "outputs": [
    {
     "data": {
      "text/plain": [
       "1004"
      ]
     },
     "execution_count": 19,
     "metadata": {},
     "output_type": "execute_result"
    }
   ],
   "source": [
    "pixel_end_chan.getChannel()"
   ]
  },
  {
   "cell_type": "code",
   "execution_count": 17,
   "id": "e40060db-3b20-4d77-8b2a-0be35112f337",
   "metadata": {},
   "outputs": [
    {
     "data": {
      "text/plain": [
       "False"
      ]
     },
     "execution_count": 17,
     "metadata": {},
     "output_type": "execute_result"
    }
   ],
   "source": [
    "pixel_start_chan.isRunning()"
   ]
  },
  {
   "cell_type": "markdown",
   "id": "ba198d4e-d9f4-4cc1-b364-45588c80d3f1",
   "metadata": {
    "tags": []
   },
   "source": [
    "# file writer"
   ]
  },
  {
   "cell_type": "code",
   "execution_count": null,
   "id": "c3d334bb-8028-4049-9d5f-5d15dbfa26ef",
   "metadata": {},
   "outputs": [],
   "source": [
    "filename = \"\"\n",
    "chanels = []\n",
    "duration = 0 # in ps"
   ]
  },
  {
   "cell_type": "code",
   "execution_count": null,
   "id": "60cb1bc9-c05a-47dd-9ceb-067d9bbdd5cd",
   "metadata": {},
   "outputs": [],
   "source": [
    "file_writer = TT.FileWriter(time_tagger, filename, channels)"
   ]
  },
  {
   "cell_type": "code",
   "execution_count": null,
   "id": "67cab2a5-acc4-4d4e-ab4e-be59a2f4d30b",
   "metadata": {},
   "outputs": [],
   "source": [
    "file_writer.startFor(duration)"
   ]
  },
  {
   "cell_type": "code",
   "execution_count": null,
   "id": "366e24e9-d281-41d7-bac1-37b8212632e1",
   "metadata": {},
   "outputs": [],
   "source": []
  },
  {
   "cell_type": "code",
   "execution_count": null,
   "id": "d9590e5f-bed8-436d-9f71-7b5c530f2ce8",
   "metadata": {},
   "outputs": [],
   "source": []
  },
  {
   "cell_type": "markdown",
   "id": "c9d9e011-b4e6-4b2b-b677-60aec6ce1fe1",
   "metadata": {},
   "source": [
    "# flim measurement"
   ]
  },
  {
   "cell_type": "code",
   "execution_count": 3,
   "id": "cc14dc6d-591a-47a1-a587-76ba4b1f595a",
   "metadata": {},
   "outputs": [],
   "source": [
    "#if used file writer\n",
    "time_tagger.reset()"
   ]
  },
  {
   "cell_type": "code",
   "execution_count": 4,
   "id": "bb0f0c5c-78b4-4bd0-9882-2f1dd73e18ca",
   "metadata": {},
   "outputs": [],
   "source": [
    "laser = 1\n",
    "frame = 3 \n",
    "line = 2\n",
    "photon = -4\n",
    "\n",
    "n_bins = 256\n",
    "binwidth = 49 # 12.5ns/256\n",
    "n_pixel = 256\n",
    "\n",
    "pixel_rate = 200e3\n",
    "pixel_time = 1 / pixel_rate\n",
    "integr_time = 3e9 # Integration time of 3 ms in picoseconds"
   ]
  },
  {
   "cell_type": "code",
   "execution_count": 5,
   "id": "6290e724-6165-4960-a9b8-7a089a23ead9",
   "metadata": {},
   "outputs": [],
   "source": [
    "import numpy as np"
   ]
  },
  {
   "cell_type": "code",
   "execution_count": 6,
   "id": "5b954e7d-540f-4e1f-8470-49883b7f90ba",
   "metadata": {},
   "outputs": [],
   "source": [
    "# EventGenerator(tagger, trigger_channel, pattern, trigger_divider, stop_channel)\n",
    "#virtual channel\n",
    "pixel_pattern_start = np.linspace(0, n_pixel, num=n_pixel, endpoint=False, dtype=int) * (pixel_time * 1e12)\n",
    "pixel_pattern_end = pixel_pattern_start + integr_time\n",
    "\n",
    "pixel_start_chan = TT.EventGenerator(time_tagger, line, pixel_pattern_start)\n",
    "pixel_end_chan= TT.EventGenerator(time_tagger, line, pixel_pattern_end)"
   ]
  },
  {
   "cell_type": "code",
   "execution_count": 7,
   "id": "51a1bed0-60e5-4294-92ac-77fa6f8192d1",
   "metadata": {},
   "outputs": [],
   "source": [
    "#ConstantFractionDiscriminator(tagger, channels, search_window)\n",
    "#virtual channel\n",
    "photon_cfd_chan = TT.ConstantFractionDiscriminator(time_tagger, (photon,), 10*1000)"
   ]
  },
  {
   "cell_type": "code",
   "execution_count": 8,
   "id": "f8695a3a-368c-48a4-b2af-d554a0b506c0",
   "metadata": {},
   "outputs": [],
   "source": [
    "#DelayedChannel(tagger, input_channel, delay)\n",
    "#virtual channel\n",
    "delayed_laser_chan = TT.DelayedChannel(time_tagger, laser, 11.5e3)"
   ]
  },
  {
   "cell_type": "code",
   "execution_count": null,
   "id": "1c34dd1c-012a-4156-be8b-bfd98e121efa",
   "metadata": {},
   "outputs": [],
   "source": [
    "sync = TT.SynchronizedMeasurements(time_tagger)\n",
    "sync_tagger = sync.getTagger()"
   ]
  },
  {
   "cell_type": "code",
   "execution_count": 9,
   "id": "d817f550-3fb6-4bd7-b0ff-aa3a4b2f04e8",
   "metadata": {},
   "outputs": [],
   "source": [
    "#possibly don't need frame\n",
    "flim = TT.Flim(time_tagger, \n",
    "               start_channel = delayed_laser_chan.getChannel(), \n",
    "               click_channel = photon_cfd_chan.getChannels()[0], \n",
    "               pixel_begin_channel=pixel_start_chan.getChannel(), \n",
    "               n_pixels    = n_pixel*n_pixel, \n",
    "               n_bins      = n_bins, \n",
    "               binwidth    = binwidth, \n",
    "               pixel_end_channel= pixel_end_chan.getChannel(), \n",
    "               frame_begin_channel= frame)"
   ]
  },
  {
   "cell_type": "code",
   "execution_count": null,
   "id": "95f01cc3-ab50-4c14-8e54-78681b413f93",
   "metadata": {},
   "outputs": [],
   "source": []
  },
  {
   "cell_type": "code",
   "execution_count": null,
   "id": "2e0d12dc-109d-44b0-9bac-95401b8263b8",
   "metadata": {},
   "outputs": [],
   "source": [
    "duration = 1E12\n",
    "flim.startFor(duration)"
   ]
  },
  {
   "cell_type": "code",
   "execution_count": null,
   "id": "0d31c4de-8544-4e67-b650-7f9b96cf9606",
   "metadata": {},
   "outputs": [],
   "source": [
    "flim_3d = flim.getSummedFrames().reshape(256,256,256)"
   ]
  },
  {
   "cell_type": "code",
   "execution_count": null,
   "id": "489986ab-dac2-4a00-ba4c-8c00b5d459d1",
   "metadata": {},
   "outputs": [],
   "source": [
    "flim_mean = flim_3d.sum(2)"
   ]
  },
  {
   "cell_type": "code",
   "execution_count": null,
   "id": "98fc052e-c9ed-4d53-b8f6-ddcb5901a528",
   "metadata": {},
   "outputs": [],
   "source": [
    "from matplotlib.pyplot import *"
   ]
  },
  {
   "cell_type": "code",
   "execution_count": null,
   "id": "c5a6c928-a19f-48bb-a2b7-546674e4d64e",
   "metadata": {},
   "outputs": [],
   "source": [
    "figure(figsize=[7,7])\n",
    "imshow(flim_mean)\n",
    "colorbar()"
   ]
  },
  {
   "cell_type": "code",
   "execution_count": null,
   "id": "23d759bf-cf00-43bd-bd4c-61fa8a810a0c",
   "metadata": {},
   "outputs": [],
   "source": [
    "#flim#.getData()"
   ]
  },
  {
   "cell_type": "code",
   "execution_count": null,
   "id": "4a315e28-950d-484d-9a36-f3b8f38abced",
   "metadata": {},
   "outputs": [],
   "source": [
    "x=flim.getSummedFramesEx()"
   ]
  },
  {
   "cell_type": "code",
   "execution_count": null,
   "id": "df0ee505-2cad-4572-8afb-f81ddd83418b",
   "metadata": {},
   "outputs": [],
   "source": [
    "x.getHistograms()"
   ]
  },
  {
   "cell_type": "code",
   "execution_count": null,
   "id": "f80ce5cd-9d0b-4d42-ae1e-f925441e5ae4",
   "metadata": {},
   "outputs": [],
   "source": [
    "flim.getSummedFrames().shape"
   ]
  },
  {
   "cell_type": "code",
   "execution_count": null,
   "id": "e24faae8-ffba-41f1-8d16-f1a0e5229c15",
   "metadata": {},
   "outputs": [],
   "source": []
  }
 ],
 "metadata": {
  "kernelspec": {
   "display_name": "Python 3 (ipykernel)",
   "language": "python",
   "name": "python3"
  },
  "language_info": {
   "codemirror_mode": {
    "name": "ipython",
    "version": 3
   },
   "file_extension": ".py",
   "mimetype": "text/x-python",
   "name": "python",
   "nbconvert_exporter": "python",
   "pygments_lexer": "ipython3",
   "version": "3.11.4"
  }
 },
 "nbformat": 4,
 "nbformat_minor": 5
}
