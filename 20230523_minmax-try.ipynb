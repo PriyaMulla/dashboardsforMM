{
 "cells": [
  {
   "cell_type": "markdown",
   "id": "c3e47375-5973-4818-86a2-b65d238763ea",
   "metadata": {},
   "source": [
    "# env: pm-minmax"
   ]
  },
  {
   "cell_type": "code",
   "execution_count": 2,
   "id": "f81badeb",
   "metadata": {},
   "outputs": [],
   "source": [
    "import matplotlib.pyplot as plt \n",
    "import numpy as np\n",
    "from PIL import Image\n",
    "from scipy.ndimage import maximum_filter"
   ]
  },
  {
   "cell_type": "code",
   "execution_count": 3,
   "id": "c2fea336",
   "metadata": {},
   "outputs": [
    {
     "data": {
      "text/plain": [
       "<matplotlib.image.AxesImage at 0x15bf98d0b80>"
      ]
     },
     "execution_count": 3,
     "metadata": {},
     "output_type": "execute_result"
    },
    {
     "data": {
      "image/png": "[encoded data removed]",
      "text/plain": [
       "<Figure size 640x480 with 1 Axes>"
      ]
     },
     "metadata": {},
     "output_type": "display_data"
    }
   ],
   "source": [
    "img = np.asarray(Image.open(r\"C:\\Users\\lociu\\Desktop\\PriyaM\\Data\\20230522_sample_minmax\\priya_samplefile.tif\"))\n",
    "plt.imshow(img)"
   ]
  },
  {
   "cell_type": "code",
   "execution_count": 21,
   "id": "a4514aa8",
   "metadata": {},
   "outputs": [
    {
     "name": "stdout",
     "output_type": "stream",
     "text": [
      "[(0, 25), (0, 60), (1, 42), (2, 6), (2, 24), (3, 41), (9, 72), (22, 5), (23, 40), (24, 58), (25, 21), (27, 72), (32, 13), (36, 7), (36, 25), (36, 43), (36, 61), (36, 72)]\n"
     ]
    },
    {
     "data": {
      "image/png": "[encoded data removed]",
      "text/plain": [
       "<Figure size 640x480 with 1 Axes>"
      ]
     },
     "metadata": {},
     "output_type": "display_data"
    }
   ],
   "source": [
    "mx = (img == maximum_filter(img, size=3))\n",
    "\n",
    "plt.imshow(mx)\n",
    "\n",
    "index = np.where(mx)\n",
    "coord = list(zip(index[0], index[1]))\n",
    "print(coord)\n"
   ]
  },
  {
   "cell_type": "code",
   "execution_count": 22,
   "id": "2b27c330-c802-4396-a05a-de9bbc200337",
   "metadata": {},
   "outputs": [
    {
     "data": {
      "text/plain": [
       "array([[False, False, False, ..., False, False, False],\n",
       "       [False, False, False, ..., False, False, False],\n",
       "       [False, False, False, ..., False, False, False],\n",
       "       ...,\n",
       "       [False, False, False, ..., False, False, False],\n",
       "       [False, False, False, ..., False, False, False],\n",
       "       [False, False, False, ..., False, False,  True]])"
      ]
     },
     "execution_count": 22,
     "metadata": {},
     "output_type": "execute_result"
    }
   ],
   "source": [
    "mx"
   ]
  },
  {
   "cell_type": "code",
   "execution_count": 20,
   "id": "0031553b-f326-479b-92fa-0cb00d39b186",
   "metadata": {},
   "outputs": [
    {
     "data": {
      "text/plain": [
       "18"
      ]
     },
     "execution_count": 20,
     "metadata": {},
     "output_type": "execute_result"
    }
   ],
   "source": [
    "len(coord)"
   ]
  },
  {
   "cell_type": "code",
   "execution_count": 8,
   "id": "68e146b8",
   "metadata": {},
   "outputs": [
    {
     "data": {
      "text/plain": [
       "0.26597595"
      ]
     },
     "execution_count": 8,
     "metadata": {},
     "output_type": "execute_result"
    }
   ],
   "source": [
    "img[(2,6)]"
   ]
  },
  {
   "cell_type": "code",
   "execution_count": 14,
   "id": "69d20df2-bd08-44a5-9735-957de9a2fb18",
   "metadata": {},
   "outputs": [
    {
     "data": {
      "text/plain": [
       "array([[1., 1., 1.],\n",
       "       [1., 1., 1.],\n",
       "       [1., 1., 1.]])"
      ]
     },
     "execution_count": 14,
     "metadata": {},
     "output_type": "execute_result"
    }
   ],
   "source": [
    "np.ones((3,3))"
   ]
  },
  {
   "cell_type": "code",
   "execution_count": 11,
   "id": "f978f402",
   "metadata": {},
   "outputs": [
    {
     "data": {
      "text/plain": [
       "0.19295397"
      ]
     },
     "execution_count": 11,
     "metadata": {},
     "output_type": "execute_result"
    }
   ],
   "source": [
    "img[(36,7)]"
   ]
  },
  {
   "cell_type": "code",
   "execution_count": 12,
   "id": "736731b3-55e7-4057-b35f-b11ec604b517",
   "metadata": {},
   "outputs": [
    {
     "data": {
      "text/plain": [
       "True"
      ]
     },
     "execution_count": 12,
     "metadata": {},
     "output_type": "execute_result"
    }
   ],
   "source": [
    "mx[(0,25)]"
   ]
  },
  {
   "cell_type": "code",
   "execution_count": null,
   "id": "3b09a28b-2b32-4266-a17d-2161761058db",
   "metadata": {},
   "outputs": [],
   "source": []
  }
 ],
 "metadata": {
  "kernelspec": {
   "display_name": "Python 3 (ipykernel)",
   "language": "python",
   "name": "python3"
  },
  "language_info": {
   "codemirror_mode": {
    "name": "ipython",
    "version": 3
   },
   "file_extension": ".py",
   "mimetype": "text/x-python",
   "name": "python",
   "nbconvert_exporter": "python",
   "pygments_lexer": "ipython3",
   "version": "3.10.11"
  }
 },
 "nbformat": 4,
 "nbformat_minor": 5
}
