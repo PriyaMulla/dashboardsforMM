{
 "cells": [
  {
   "cell_type": "code",
   "execution_count": null,
   "id": "fc66ba8c-9b27-4b0b-803c-12e91f5aeab0",
   "metadata": {},
   "outputs": [],
   "source": [
    "import numpy as np\n",
    "import panel as pn\n",
    "\n",
    "pn.extension()"
   ]
  },
  {
   "cell_type": "code",
   "execution_count": null,
   "id": "35abacdc-6379-4151-8d29-1b1459f83bce",
   "metadata": {},
   "outputs": [],
   "source": [
    "from PIL import Image"
   ]
  },
  {
   "cell_type": "code",
   "execution_count": null,
   "id": "fa04badd-2df9-4b1b-aaee-ab891dc1296d",
   "metadata": {},
   "outputs": [],
   "source": [
    "what=np.array(Image.open(r\"/home/matt/Downloads/orange.png\"))"
   ]
  },
  {
   "cell_type": "code",
   "execution_count": null,
   "id": "4557c202-bc70-4757-a812-5d32f02acca2",
   "metadata": {},
   "outputs": [],
   "source": [
    "\n",
    "%%time\n",
    "from __future__ import annotations\n",
    "\n",
    "import numpy as np\n",
    "\n",
    "from bokeh import events\n",
    "from bokeh.io import curdoc, show\n",
    "from bokeh.layouts import column, row\n",
    "from bokeh.models import Button, CustomJS, Div, TextInput\n",
    "from bokeh.plotting import figure\n",
    "\n",
    "\n",
    "def display_event(div: Div, attributes: list[str] = []) -> CustomJS:\n",
    "    \"\"\"\n",
    "    Function to build a suitable CustomJS to display the current event\n",
    "    in the div model.\n",
    "    \"\"\"\n",
    "    style = 'float: left; clear: left; font-size: 13px'\n",
    "    return CustomJS(args=dict(div=div), code=f\"\"\"\n",
    "        const attrs = {attributes};\n",
    "        const args = [];\n",
    "        for (let i = 0; i < attrs.length; i++) {{\n",
    "            const val = JSON.stringify(cb_obj[attrs[i]], function(key, val) {{\n",
    "                return val.toFixed ? Number(val.toFixed(2)) : val;\n",
    "            }})\n",
    "            args.push(attrs[i] + '=' + val)\n",
    "        }}\n",
    "        const line = \"<span style={style!r}><b>\" + cb_obj.event_name + \"</b>(\" + args.join(\", \") + \")</span>\\\\n\";\n",
    "        const text = div.text.concat(line);\n",
    "        const lines = text.split(\"\\\\n\")\n",
    "        if (lines.length > 35)\n",
    "            lines.shift();\n",
    "        div.text = lines.join(\"\\\\n\");\n",
    "    \"\"\")\n",
    "\n",
    "\n",
    "\n",
    "image = np.flipud(what.view(\"uint32\").reshape(what.shape[:2]))\n",
    "\n",
    "\n",
    "p = figure(tooltips=[(\"x\", \"$x\"), (\"y\", \"$y\"), (\"value\", \"@image\")],tools=[\"box_select\"])\n",
    "\n",
    "p.image_rgba(image=[image],x=0, y=0, dw=what.shape[0], dh=what.shape[1])\n",
    "\n",
    "# Add a div to display events and a button to trigger button click events\n",
    "\n",
    "div = Div(width=1000)\n",
    "layout = column(row(p, div))#,button, text_input)\n",
    "\n",
    "# Register event callbacks\n",
    "\n",
    "# Point events\n",
    "point_attributes = ['x','y','sx','sy']\n",
    "p.js_on_event(events.Tap,       display_event(div, attributes=point_attributes))\n",
    "p.js_on_event(events.DoubleTap, display_event(div, attributes=point_attributes))\n",
    "p.js_on_event(events.Press,     display_event(div, attributes=point_attributes))\n",
    "p.js_on_event(events.PressUp,   display_event(div, attributes=point_attributes))\n",
    "\n",
    "# Ranges Update events\n",
    "p.js_on_event(events.RangesUpdate, display_event(div, attributes=['x0','x1','y0','y1']))\n",
    "\n",
    "# Selection events\n",
    "p.js_on_event(events.SelectionGeometry, display_event(div, attributes=['geometry', 'final']))\n",
    "\n",
    "#curdoc().on_event(events.DocumentReady, display_event(div))\n",
    "pn.panel(layout)"
   ]
  },
  {
   "cell_type": "code",
   "execution_count": null,
   "id": "b6ded06e-b0a2-4aa3-82eb-8f954c14cff9",
   "metadata": {},
   "outputs": [],
   "source": [
    "image[1530,689]"
   ]
  },
  {
   "cell_type": "code",
   "execution_count": null,
   "id": "60d62563-583e-4df9-ae96-22fbbd515e67",
   "metadata": {},
   "outputs": [],
   "source": []
  }
 ],
 "metadata": {
  "kernelspec": {
   "display_name": "Python 3 (ipykernel)",
   "language": "python",
   "name": "python3"
  },
  "language_info": {
   "codemirror_mode": {
    "name": "ipython",
    "version": 3
   },
   "file_extension": ".py",
   "mimetype": "text/x-python",
   "name": "python",
   "nbconvert_exporter": "python",
   "pygments_lexer": "ipython3",
   "version": "3.11.4"
  }
 },
 "nbformat": 4,
 "nbformat_minor": 5
}
