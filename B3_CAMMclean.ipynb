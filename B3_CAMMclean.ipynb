{
 "cells": [
  {
   "cell_type": "code",
   "execution_count": 1,
   "id": "0d52b37a-5d89-4a29-9bfb-9011bb5a5bf2",
   "metadata": {},
   "outputs": [],
   "source": [
    "from pycromanager import Core, Acquisition, multi_d_acquisition_events, Dataset\n",
    "import matplotlib.pyplot as plt \n",
    "import numpy as np\n",
    "from PIL import Image"
   ]
  },
  {
   "attachments": {},
   "cell_type": "markdown",
   "id": "a0ddb1a7-2b2a-4d15-97a3-453142b7b316",
   "metadata": {},
   "source": [
    "##  pycromanager initialializing"
   ]
  },
  {
   "cell_type": "code",
   "execution_count": 2,
   "id": "35f48d24-caf6-4956-a204-211b39fd7b6d",
   "metadata": {},
   "outputs": [],
   "source": [
    "core = Core()"
   ]
  },
  {
   "attachments": {},
   "cell_type": "markdown",
   "id": "a0ab7580",
   "metadata": {},
   "source": [
    "### get local maxima of an image and do ROI snapshots"
   ]
  },
  {
   "cell_type": "code",
   "execution_count": 3,
   "id": "9c716875-8af1-4516-a40c-dea0a280db70",
   "metadata": {},
   "outputs": [],
   "source": [
    "core.clear_roi()"
   ]
  },
  {
   "cell_type": "code",
   "execution_count": 4,
   "id": "bcee354c-074d-4201-9442-ed3f9403d356",
   "metadata": {},
   "outputs": [],
   "source": [
    "core.snap_image()"
   ]
  },
  {
   "cell_type": "code",
   "execution_count": 6,
   "id": "69832f24-779f-44ed-bcaf-890f0d3c3513",
   "metadata": {},
   "outputs": [],
   "source": [
    "tagged_image = core.get_tagged_image()\n",
    "\n",
    "pixels = np.reshape(tagged_image.pix,\n",
    "                    newshape=[tagged_image.tags['Height'], tagged_image.tags['Width'],4])"
   ]
  },
  {
   "cell_type": "code",
   "execution_count": 8,
   "id": "e40f240f-3f39-4c83-bbb0-367331a4854a",
   "metadata": {},
   "outputs": [],
   "source": [
    "img = pixels.sum(2)"
   ]
  },
  {
   "cell_type": "code",
   "execution_count": null,
   "id": "a24ab478-03f1-414e-8121-de4940dc7d17",
   "metadata": {
    "scrolled": true
   },
   "outputs": [],
   "source": [
    "plt.imshow(img)\n",
    "plt.colorbar()"
   ]
  },
  {
   "attachments": {},
   "cell_type": "markdown",
   "id": "82de6ed9-f912-4f65-8d85-236c5f568390",
   "metadata": {},
   "source": [
    "#### get local maximas"
   ]
  },
  {
   "cell_type": "code",
   "execution_count": 10,
   "id": "37f36ad1-3171-4c62-a5dd-2c3488118478",
   "metadata": {},
   "outputs": [
    {
     "data": {
      "text/plain": [
       "2.62144"
      ]
     },
     "execution_count": 10,
     "metadata": {},
     "output_type": "execute_result"
    }
   ],
   "source": [
    "#check how many for percent\n",
    "dec = .00001\n",
    "perc = 100- (dec*100)\n",
    "img.size* .00001"
   ]
  },
  {
   "cell_type": "code",
   "execution_count": 11,
   "id": "b76dcd9e-a67f-44ed-9c21-b480874430b2",
   "metadata": {},
   "outputs": [],
   "source": [
    "maxima = (img==np.percentile(img.ravel(), perc))"
   ]
  },
  {
   "cell_type": "markdown",
   "id": "69fb70c5-70c3-4ec6-b231-bc29a1dbef05",
   "metadata": {},
   "source": [
    "# ROI"
   ]
  },
  {
   "cell_type": "code",
   "execution_count": 13,
   "id": "a8fdecec-5460-4120-ab51-dae16029cf00",
   "metadata": {},
   "outputs": [],
   "source": [
    "#shape of image in pixels\n",
    "size_x = pixels.shape[1]\n",
    "size_y = pixels.shape[0]\n",
    "\n",
    "#avg of im size (for calculating ROI size)\n",
    "avg = (size_x+size_y)/2\n",
    "roi_size = int(avg/10) #factoring down by 10\n",
    "center_roi = int(roi_size/2)"
   ]
  },
  {
   "cell_type": "code",
   "execution_count": 14,
   "id": "235ee9ee-29f2-4f9e-8020-73ce3b657855",
   "metadata": {},
   "outputs": [],
   "source": [
    "#coords\n",
    "index = np.where(maxima)\n",
    "pixel_coord = list(zip(index[1], index[0]))"
   ]
  },
  {
   "cell_type": "code",
   "execution_count": 15,
   "id": "2b1ed7a2-65f9-4405-91db-037a8dae5e61",
   "metadata": {},
   "outputs": [],
   "source": [
    "max_im_list = []\n",
    "um_coord =[]"
   ]
  },
  {
   "cell_type": "code",
   "execution_count": 16,
   "id": "73bc740c-6a95-4029-a48f-3e34191813fb",
   "metadata": {},
   "outputs": [],
   "source": [
    "factor = core.get_pixel_size_um()\n",
    "offset_x = core.get_x_position()\n",
    "offset_y = core.get_y_position()"
   ]
  },
  {
   "cell_type": "code",
   "execution_count": 19,
   "id": "507dc0a0-d55a-4386-af1f-7fb59548754b",
   "metadata": {},
   "outputs": [],
   "source": [
    "#iterate through maximas\n",
    "for max in pixel_coord:\n",
    "\n",
    "    #translate pixel coordinates to um\n",
    "    new_x = (max[0]*factor) +offset_x\n",
    "    new_y = (max[1]*factor) +offset_y\n",
    "    um_coord.append((new_x,new_y))\n",
    "    \n",
    "    roi_x = int(max[0]-center_roi)\n",
    "    roi_y = int(max[1]-center_roi)\n",
    "    \n",
    "    #ensure within bounds\n",
    "    if roi_x < 0: roi_x = 0\n",
    "    elif roi_x > new_x-roi_size: roi_x =new_x-roi_size\n",
    "    if roi_y < 0: roi_y = 0\n",
    "    elif roi_y > new_y-roi_size: roi_y = new_y-roi_size\n",
    "    \n",
    "    #setting roi\n",
    "    core.set_roi(int(roi_x), int(roi_y), int(roi_size), int(roi_size))\n",
    "    core.snap_image()\n",
    "    \n",
    "    tagged_image = core.get_tagged_image()\n",
    "    max_im_list.append(tagged_image)\n",
    "\n",
    "    core.clear_roi()"
   ]
  },
  {
   "cell_type": "code",
   "execution_count": null,
   "id": "2b22a8b7-5370-4946-a1ce-2be85bd5a117",
   "metadata": {},
   "outputs": [],
   "source": [
    "um_coord"
   ]
  },
  {
   "cell_type": "code",
   "execution_count": null,
   "id": "c3e58540-c2bc-4398-a361-3c61a7246982",
   "metadata": {},
   "outputs": [],
   "source": [
    "max_im_list"
   ]
  }
 ],
 "metadata": {
  "kernelspec": {
   "display_name": "Python 3 (ipykernel)",
   "language": "python",
   "name": "python3"
  },
  "language_info": {
   "codemirror_mode": {
    "name": "ipython",
    "version": 3
   },
   "file_extension": ".py",
   "mimetype": "text/x-python",
   "name": "python",
   "nbconvert_exporter": "python",
   "pygments_lexer": "ipython3",
<<<<<<< HEAD:20230711_maxima_roi.ipynb
   "version": "3.11.0"
=======
   "version": "3.10.11"
  },
  "vscode": {
   "interpreter": {
    "hash": "19d1d53a962d236aa061289c2ac16dc8e6d9648c89fe79f459ae9a3493bc67b4"
   }
>>>>>>> 001524b0ad1dd0d2df7894d8ab1728957eb44cd3:B3_CAMMclean.ipynb
  }
 },
 "nbformat": 4,
 "nbformat_minor": 5
}
