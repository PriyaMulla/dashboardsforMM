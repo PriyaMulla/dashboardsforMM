{
 "cells": [
  {
   "cell_type": "code",
   "execution_count": 11,
   "id": "3a0d8942-55a2-4f45-9526-9f577a66bb2a",
   "metadata": {},
   "outputs": [],
   "source": [
    "import TimeTagger\n",
    "import numpy as np"
   ]
  },
  {
   "cell_type": "raw",
   "id": "20b4c8bc-ceeb-4c37-b5e3-282f380f514a",
   "metadata": {},
   "source": [
    "The class CustomMeasurement allows you to access the raw time tag stream with very little overhead. \n",
    "By inheriting from CustomMeasurement, you can implement your fully customized measurement class. \n",
    "The CustomMeasurement.process() method of this class will be invoked as soon as new data is available."
   ]
  },
  {
   "cell_type": "markdown",
   "id": "2d4b9a98-d336-4413-99dd-941c8bd3a7c7",
   "metadata": {},
   "source": [
    "## channel/channel example (photon mean per channel)"
   ]
  },
  {
   "cell_type": "code",
   "execution_count": 2,
   "id": "526909af-3be9-4972-8c60-02df80431e71",
   "metadata": {},
   "outputs": [],
   "source": [
    "class PhotonMean(TimeTagger.CustomMeasurement):\n",
    "    \"\"\"\n",
    "    CustomMeasurement that gets channel_1/channel_2.\n",
    "    \"\"\"\n",
    "\n",
    "    def __init__(self, tagger, channels):\n",
    "        TimeTagger.CustomMeasurement.__init__(self, tagger)\n",
    "        self.channels = list(channels)\n",
    "        self.counts = np.zeros((len(channels),), dtype=np.int32)\n",
    "\n",
    "        # Each used channel must be registered\n",
    "        for channel in channels:\n",
    "            self.register_channel(channel)\n",
    "\n",
    "        self.clear_impl()\n",
    "\n",
    "        # At the end of a Measurement construction we must indicate that we\n",
    "        # have finished\n",
    "        self.finalize_init()\n",
    "\n",
    "    def __del__(self):\n",
    "        # The measurement must be stopped before deconstruction to avoid\n",
    "        # concurrent measure() calls\n",
    "        self.stop()\n",
    "\n",
    "    def getData(self):\n",
    "        # lock this instance to avoid conflicting results while measure is\n",
    "        # running apart.\n",
    "        with self.mutex:\n",
    "            counts = np.array(self.counts)\n",
    "        return counts[0]/counts[1]\n",
    "\n",
    "    def getIndex(self):\n",
    "        # this method does not depend on the internal state, so there is no\n",
    "        # need for a lock\n",
    "        return list(self.channels)\n",
    "\n",
    "    def clear_impl(self):\n",
    "        # the lock is already acquired\n",
    "        self.counts *= 0\n",
    "\n",
    "    def on_start(self):\n",
    "        # the lock is already acquired\n",
    "        pass\n",
    "\n",
    "    def on_stop(self):\n",
    "        # the lock is already acquired\n",
    "        pass\n",
    "\n",
    "    def process(self, incoming_tags, begin_time, end_time):\n",
    "        # the lock is already acquired\n",
    "        # self.data is provided as reference, so it must not be accessed\n",
    "        # anywhere else without locking the mutex.\n",
    "        # incoming_tags is provided as a read-only reference. The storage will\n",
    "        # be deallocated after this call, so you must not store a reference to\n",
    "        # this object. Make a copy instead.\n",
    "        channel_numbers, counts = np.unique(incoming_tags[\"channel\"], return_counts=True)\n",
    "        for channel_number, count in zip(channel_numbers, counts):\n",
    "            self.counts[self.channels.index(channel_number)] += count"
   ]
  },
  {
   "cell_type": "code",
   "execution_count": 3,
   "id": "7b8d4b24-2c02-46bd-a668-70b142b5d59f",
   "metadata": {},
   "outputs": [],
   "source": [
    "photon = 4\n",
    "frame = 3"
   ]
  },
  {
   "cell_type": "code",
   "execution_count": 4,
   "id": "90a20508-b722-45c7-bdc4-e2b1c5eac6c0",
   "metadata": {},
   "outputs": [],
   "source": [
    "dump_file = r\"Z:\\PriyaM\\swabian_data\\20230712_tissue\\test_tissue_2023-07-12_154752.1.ttbin\""
   ]
  },
  {
   "cell_type": "code",
   "execution_count": 5,
   "id": "7ebaad81-c651-4f0b-bc5e-40d035d7011c",
   "metadata": {},
   "outputs": [],
   "source": [
    "tagger = TimeTagger.createTimeTaggerVirtual()"
   ]
  },
  {
   "cell_type": "code",
   "execution_count": 6,
   "id": "d06d3d84-6e28-4d87-84b6-a95278d3b111",
   "metadata": {},
   "outputs": [],
   "source": [
    "photon_mean = PhotonMean(tagger, channels=[photon, frame])"
   ]
  },
  {
   "cell_type": "code",
   "execution_count": 7,
   "id": "e8f85ef4-e1b3-476f-82fb-403f4f03f80f",
   "metadata": {},
   "outputs": [
    {
     "data": {
      "text/plain": [
       "True"
      ]
     },
     "execution_count": 7,
     "metadata": {},
     "output_type": "execute_result"
    }
   ],
   "source": [
    "tagger.setReplaySpeed(-1)\n",
    "replay = tagger.replay(dump_file)\n",
    "tagger.waitForCompletion()"
   ]
  },
  {
   "cell_type": "code",
   "execution_count": 8,
   "id": "9bdee89d-aee8-41ce-a194-cf165d6e8b39",
   "metadata": {},
   "outputs": [
    {
     "name": "stdout",
     "output_type": "stream",
     "text": [
      "mean photons per frame: 622230.6666666666\n"
     ]
    }
   ],
   "source": [
    "photon_mean_data = photon_mean.getData()\n",
    "print(\"mean photons per frame:\", photon_mean_data)\n"
   ]
  },
  {
   "cell_type": "code",
   "execution_count": null,
   "id": "8f2ea0db-bf85-4063-b011-f4a35aeb15d4",
   "metadata": {},
   "outputs": [],
   "source": []
  },
  {
   "cell_type": "code",
   "execution_count": null,
   "id": "c5c7c3ba-ccb5-4f69-ad5c-fffca1a569f7",
   "metadata": {},
   "outputs": [],
   "source": []
  },
  {
   "cell_type": "code",
   "execution_count": 9,
   "id": "ba2aa9a6-5a13-4563-b4bb-a3d317c6628e",
   "metadata": {},
   "outputs": [],
   "source": [
    "photon_mean.clear_impl()"
   ]
  }
 ],
 "metadata": {
  "kernelspec": {
   "display_name": "Python 3 (ipykernel)",
   "language": "python",
   "name": "python3"
  },
  "language_info": {
   "codemirror_mode": {
    "name": "ipython",
    "version": 3
   },
   "file_extension": ".py",
   "mimetype": "text/x-python",
   "name": "python",
   "nbconvert_exporter": "python",
   "pygments_lexer": "ipython3",
   "version": "3.10.11"
  }
 },
 "nbformat": 4,
 "nbformat_minor": 5
}
