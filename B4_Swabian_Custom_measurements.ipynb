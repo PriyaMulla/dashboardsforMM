{
 "cells": [
  {
   "cell_type": "code",
   "execution_count": 1,
   "id": "274dd5c7-3519-44cf-95bc-1afc7d3ccc2a",
   "metadata": {},
   "outputs": [],
   "source": [
    "import TimeTagger\n",
    "import numpy as np\n",
    "%matplotlib ipympl\n",
    "import ipywidgets as widgets\n",
    "import matplotlib.pyplot as plt\n",
    "import numba"
   ]
  },
  {
   "cell_type": "code",
   "execution_count": 2,
   "id": "90a20508-b722-45c7-bdc4-e2b1c5eac6c0",
   "metadata": {},
   "outputs": [],
   "source": [
    "dump_file = r\"Z:\\PriyaM\\swabian_data\\20230712_tissue\\test_tissue_2023-07-12_154752.1.ttbin\""
   ]
  },
  {
   "cell_type": "code",
   "execution_count": 3,
   "id": "bd0bbca5-b755-4d03-a85d-66c5c60f6dd5",
   "metadata": {},
   "outputs": [],
   "source": [
    "tagger = TimeTagger.createTimeTaggerVirtual()"
   ]
  },
  {
   "cell_type": "code",
   "execution_count": 4,
   "id": "a53c62a4-ce9c-408c-b2aa-1abae02a828e",
   "metadata": {},
   "outputs": [],
   "source": [
    "laser = 1\n",
    "frame = 3 \n",
    "line = 2\n",
    "photon = 4"
   ]
  },
  {
   "cell_type": "raw",
   "id": "20b4c8bc-ceeb-4c37-b5e3-282f380f514a",
   "metadata": {},
   "source": [
    "The class CustomMeasurement allows you to access the raw time tag stream with very little overhead. \n",
    "By inheriting from CustomMeasurement, you can implement your fully customized measurement class. \n",
    "The CustomMeasurement.process() method of this class will be invoked as soon as new data is available."
   ]
  },
  {
   "cell_type": "markdown",
   "id": "2b922504-b1c7-486b-9d63-be088f83e763",
   "metadata": {
    "tags": []
   },
   "source": [
    "# access indiv tags"
   ]
  },
  {
   "cell_type": "raw",
   "id": "cc5dab77-dd57-46d3-b3f1-8fae575b947c",
   "metadata": {
    "jupyter": {
     "source_hidden": true
    },
    "tags": []
   },
   "source": [
    "class timeTaken(TimeTagger.CustomMeasurement):\n",
    "    \"\"\"\n",
    "    CustomMeasurement that gets channel_1/channel_2.\n",
    "    \"\"\"\n",
    "\n",
    "    def __init__(self, tagger):\n",
    "        TimeTagger.CustomMeasurement.__init__(self, tagger)\n",
    "        self.data = 0\n",
    "        self.register_channel(4)\n",
    "        self.clear_impl()\n",
    "        self.finalize_init()      \n",
    "        \n",
    "\n",
    "    def __del__(self):\n",
    "        # The measurement must be stopped before deconstruction to avoid\n",
    "        # concurrent measure() calls\n",
    "        self.stop()\n",
    "\n",
    "    def getData(self):\n",
    "        # lock this instance to avoid conflicting results while measure is\n",
    "        # running apart.\n",
    "        with self.mutex:            \n",
    "            data = self.data\n",
    "        return data\n",
    "\n",
    "    def getIndex(self):\n",
    "        # this method does not depend on the internal state, so there is no\n",
    "        # need for a lock\n",
    "        return 0\n",
    "    \n",
    "    def clear_impl(self):\n",
    "        self.data = 0\n",
    "\n",
    "    \n",
    "    \n",
    "    def process(self, incoming_tags, begin_time, end_time):\n",
    "        # the lock is already acquired\n",
    "        # self.data is provided as reference, so it must not be accessed\n",
    "        # anywhere else without locking the mutex.\n",
    "        # incoming_tags is provided as a read-only reference. The storage will\n",
    "        # be deallocated after this call, so you must not store a reference to\n",
    "        # this object. Make a copy instead.\n",
    "        \n",
    "        #In Python, the incoming_tags are a structured Numpy array. \n",
    "        #You can access single tags as well as arrays of tag entries directly:\n",
    "        #first_tag = incoming_tags[0]\n",
    "        #all_timestamps = incoming_tags['time']\n",
    "        #print(incoming_tags[0])\n",
    "        \n",
    "        #for tag in incoming_tags:\n",
    "        #    self.data += 1\n",
    "        data= np.unique(incoming_tags[\"channel\"])\n",
    "        self.data = len(data)\n",
    "        \n",
    "        #print(len(incoming_tags))\n",
    "        #incoming_tags[\"channel\"]\n",
    "        \n",
    "        #self.index = PhotonMedian.fast_process(            incoming_tags,            self.data,            self.count_channel,            self.click_channel,            self.index)\n",
    "\n",
    "        \n",
    "        \n",
    "tagger.reset()\n",
    "times  = timeTaken(tagger)\n",
    "tagger.setReplaySpeed(-1)\n",
    "replay = tagger.replay(dump_file,duration=20E12)\n",
    "tagger.waitForCompletion()\n",
    "times.getData(),times.getIndex()"
   ]
  },
  {
   "cell_type": "code",
   "execution_count": null,
   "id": "9529dcb4-5d49-4376-8bd2-f96e02d6e377",
   "metadata": {},
   "outputs": [],
   "source": []
  },
  {
   "cell_type": "code",
   "execution_count": null,
   "id": "3562a2f1-0dfc-42a6-a3a4-7a0a4cf1b91c",
   "metadata": {},
   "outputs": [],
   "source": []
  },
  {
   "cell_type": "code",
   "execution_count": 99,
   "id": "db70989d-7f7d-4720-b061-4a82a60dbd43",
   "metadata": {},
   "outputs": [],
   "source": []
  },
  {
   "cell_type": "code",
   "execution_count": 136,
   "id": "d62f4fd1-0d1d-4202-8ad1-f50657114807",
   "metadata": {},
   "outputs": [],
   "source": [
    "class timeTaken2(TimeTagger.CustomMeasurement):\n",
    "    \"\"\"\n",
    "    CustomMeasurement that gets channel_1/channel_2.\n",
    "    \"\"\"\n",
    "\n",
    "    def __init__(self, tagger, channels):\n",
    "        TimeTagger.CustomMeasurement.__init__(self, tagger)\n",
    "        \n",
    "        \n",
    "        #not needed unless accessing channels outside of this\n",
    "        self.channels = list(channels)\n",
    "        \n",
    "        self.counts = [] \n",
    "        \n",
    "        #need to register what channels are being looked at\n",
    "        for channel in channels:\n",
    "                    self.register_channel(channel)\n",
    "                \n",
    "        #only need this if some variable isn't being cleared in initialization\n",
    "        #self.clear_impl()\n",
    "\n",
    "        # At the end of a Measurement construction we must indicate that we\n",
    "        # have finished\n",
    "        self.finalize_init()\n",
    "\n",
    "\n",
    "    def getData(self):\n",
    "        # lock this instance to avoid conflicting results while measure is\n",
    "        # running apart.\n",
    "        with self.mutex:\n",
    "            counts = self.counts \n",
    "        return counts\n",
    "       \n",
    "    \n",
    "    #create own clear\n",
    "    #def clear_impl(self):\n",
    "        # the lock is already acquired\n",
    "        #self.counts =* 0\n",
    "        \n",
    "\n",
    "\n",
    "    def process(self, incoming_tags, begin_time, end_time):\n",
    "        # the lock is already acquired\n",
    "        # self.data is provided as reference, so it must not be accessed\n",
    "        # anywhere else without locking the mutex.\n",
    "        # incoming_tags is provided as a read-only reference. The storage will\n",
    "        # be deallocated after this call, so you must not store a reference to\n",
    "        # this object. Make a copy instead.\n",
    "        \n",
    "        \n",
    "        channel_numbers = incoming_tags['time']\n",
    "        for channel_number in channel_numbers: \n",
    "            self.counts.append(channel_number) \n",
    "            \n"
   ]
  },
  {
   "cell_type": "code",
   "execution_count": 145,
   "id": "cdd479f1-f83c-46a3-ab92-3170d76a446b",
   "metadata": {},
   "outputs": [
    {
     "data": {
      "text/plain": [
       "True"
      ]
     },
     "execution_count": 145,
     "metadata": {},
     "output_type": "execute_result"
    }
   ],
   "source": [
    "tagger.reset()\n",
    "\n",
    "timeTaken_pho = timeTaken2(tagger, channels=[photon])\n",
    "\n",
    "\n",
    "tagger.setReplaySpeed(-1)\n",
    "replay = tagger.replay(dump_file)\n",
    "tagger.waitForCompletion()"
   ]
  },
  {
   "cell_type": "code",
   "execution_count": 167,
   "id": "d1d9b1bc-2950-45c5-9928-7f1cce67d547",
   "metadata": {
    "jupyter": {
     "source_hidden": true
    },
    "tags": []
   },
   "outputs": [
    {
     "data": {
      "text/plain": [
       "True"
      ]
     },
     "execution_count": 173,
     "metadata": {},
     "output_type": "execute_result"
    }
   ],
   "source": [
    "#sync measurements class??\n",
    "\n",
    "tagger.reset()\n",
    "sync = TimeTagger.SynchronizedMeasurements(tagger)\n",
    "\n",
    "timeTaken_pho = timeTaken2(tagger, channels=[photon])\n",
    "timeTaken_frame = timeTaken2(tagger, channels=[frame])\n",
    "timeTaken_laser = timeTaken2(tagger, channels=[laser])\n",
    "timeTaken_line = timeTaken2(tagger, channels=[line])\n",
    "timeTaken_pho_frame = timeTaken2(tagger, channels=[photon, frame])\n",
    "timeTaken_line_las = timeTaken2(tagger, channels=[line, laser])\n",
    "\n",
    "tests = [\n",
    "timeTaken_pho,\n",
    "timeTaken_frame, \n",
    "timeTaken_laser, \n",
    "timeTaken_line, \n",
    "timeTaken_pho_frame, \n",
    "timeTaken_line_las]\n",
    "\n",
    "for test in tests:\n",
    "    sync.registerMeasurement(test)\n",
    "\n",
    "sync.start()\n",
    "\n",
    "tagger.setReplaySpeed(-1)\n",
    "replay = tagger.replay(dump_file, duration=10E12)\n",
    "tagger.waitForCompletion()"
   ]
  },
  {
   "cell_type": "code",
   "execution_count": 178,
   "id": "df6a53d1-6d6a-40ae-9879-0c3dd6ab70b5",
   "metadata": {
    "tags": []
   },
   "outputs": [
    {
     "data": {
      "text/plain": [
       "True"
      ]
     },
     "execution_count": 178,
     "metadata": {},
     "output_type": "execute_result"
    }
   ],
   "source": [
    "#sync measurements class??\n",
    "\n",
    "tagger.reset()\n",
    "\n",
    "timeTaken_pho = timeTaken2(tagger, channels=[photon])\n",
    "tagger.setReplaySpeed(-1)\n",
    "replay = tagger.replay(dump_file, duration=10E12)\n",
    "tagger.waitForCompletion()\n",
    "\n",
    "tagger.reset()\n",
    "timeTaken_frame = timeTaken2(tagger, channels=[frame])\n",
    "tagger.setReplaySpeed(-1)\n",
    "replay = tagger.replay(dump_file, duration=10E12)\n",
    "tagger.waitForCompletion()\n",
    "\n",
    "tagger.reset()\n",
    "timeTaken_laser = timeTaken2(tagger, channels=[laser])\n",
    "tagger.setReplaySpeed(-1)\n",
    "replay = tagger.replay(dump_file, duration=10E12)\n",
    "tagger.waitForCompletion()\n",
    "\n",
    "tagger.reset()\n",
    "timeTaken_line = timeTaken2(tagger, channels=[line])\n",
    "tagger.setReplaySpeed(-1)\n",
    "replay = tagger.replay(dump_file, duration=10E12)\n",
    "tagger.waitForCompletion()\n",
    "\n",
    "tagger.reset()\n",
    "timeTaken_pho_frame = timeTaken2(tagger, channels=[photon, frame])\n",
    "tagger.setReplaySpeed(-1)\n",
    "replay = tagger.replay(dump_file, duration=10E12)\n",
    "tagger.waitForCompletion()\n",
    "\n",
    "tagger.reset()\n",
    "timeTaken_line_las = timeTaken2(tagger, channels=[line, laser])\n",
    "tagger.setReplaySpeed(-1)\n",
    "replay = tagger.replay(dump_file, duration=10E12)\n",
    "tagger.waitForCompletion()"
   ]
  },
  {
   "cell_type": "code",
   "execution_count": 179,
   "id": "e2c6f8f6-f113-4ce6-bbaa-2fdc0f891cef",
   "metadata": {},
   "outputs": [
    {
     "name": "stdout",
     "output_type": "stream",
     "text": [
      "2200805 0.006342801566 9.99997945342\n"
     ]
    }
   ],
   "source": [
    "print(len(timeTaken_pho.getData()), timeTaken_pho.getData()[0]/1E12, timeTaken_pho.getData()[-1]/1E12)"
   ]
  },
  {
   "cell_type": "code",
   "execution_count": 180,
   "id": "787875f4-3511-4d44-b107-3b94fb520faf",
   "metadata": {},
   "outputs": [],
   "source": [
    "tests = [\n",
    "timeTaken_pho,\n",
    "timeTaken_frame, \n",
    "timeTaken_laser, \n",
    "timeTaken_line, \n",
    "timeTaken_pho_frame, \n",
    "timeTaken_line_las]"
   ]
  },
  {
   "cell_type": "code",
   "execution_count": 181,
   "id": "5d2ee925-dbc7-48b4-ac14-83383e69c1aa",
   "metadata": {},
   "outputs": [
    {
     "name": "stdout",
     "output_type": "stream",
     "text": [
      "[4] : 2200805 0.006342801566 9.99997945342\n",
      "-----------------\n",
      "[3] : 3 8.358713276442 9.601111128023\n",
      "-----------------\n",
      "[1] : 2198936 0.006342804871 9.999979462735\n",
      "-----------------\n",
      "[2] : 883 7.804070943239 9.99865513318\n",
      "-----------------\n",
      "[4, 3] : 2200808 0.006342801566 9.99997945342\n",
      "-----------------\n",
      "[2, 1] : 2199819 0.006342804871 9.999979462735\n",
      "-----------------\n"
     ]
    }
   ],
   "source": [
    "for test in tests:\n",
    "    print(test.channels, \":\", len(test.getData()), test.getData()[0]/1E12, test.getData()[-1]/1E12)\n",
    "    print(\"-----------------\")"
   ]
  },
  {
   "cell_type": "code",
   "execution_count": 122,
   "id": "39ee9fad-7d5a-48c2-b19b-0b50e7554f28",
   "metadata": {},
   "outputs": [
    {
     "data": {
      "text/plain": [
       "10.0"
      ]
     },
     "execution_count": 122,
     "metadata": {},
     "output_type": "execute_result"
    }
   ],
   "source": [
    "timeTaken_frame.getCaptureDuration()//1E12"
   ]
  },
  {
   "cell_type": "raw",
   "id": "dcd4448f-c469-4227-a00c-be202e4cbc7d",
   "metadata": {
    "jupyter": {
     "source_hidden": true
    },
    "tags": []
   },
   "source": [
    "class timeTaken(TimeTagger.CustomMeasurement):\n",
    "    \"\"\"\n",
    "    CustomMeasurement that gets channel_1/channel_2.\n",
    "    \"\"\"\n",
    "\n",
    "    def __init__(self, tagger):\n",
    "        TimeTagger.CustomMeasurement.__init__(self, tagger)\n",
    "\n",
    "\n",
    "        self.clear_impl()\n",
    "\n",
    "        # At the end of a Measurement construction we must indicate that we\n",
    "        # have finished\n",
    "        self.finalize_init()\n",
    "        self.data = 0\n",
    "\n",
    "    def __del__(self):\n",
    "        # The measurement must be stopped before deconstruction to avoid\n",
    "        # concurrent measure() calls\n",
    "        self.stop()\n",
    "\n",
    "    def getData(self):\n",
    "        # lock this instance to avoid conflicting results while measure is\n",
    "        # running apart.\n",
    "        with self.mutex:            \n",
    "            return self.data\n",
    "\n",
    "    def getIndex(self):\n",
    "        # this method does not depend on the internal state, so there is no\n",
    "        # need for a lock\n",
    "        return 0\n",
    "\n",
    "    def clear_impl(self):\n",
    "        # the lock is already acquired\n",
    "        0 \n",
    "\n",
    "    def on_start(self):\n",
    "        # the lock is already acquired\n",
    "        pass\n",
    "\n",
    "    def on_stop(self):\n",
    "        # the lock is already acquired\n",
    "        pass\n",
    "\n",
    "    @staticmethod\n",
    "    @numba.jit(nopython=True, nogil=True)\n",
    "    def fast_process(\n",
    "            tags,\n",
    "            data,\n",
    "            count_channel,\n",
    "            click_channel,\n",
    "            index):\n",
    "        \"\"\"\n",
    "        A precompiled version for better performance\n",
    "        nopython=True: Only a subset of the python syntax is supported.\n",
    "                       Avoid everything but primitives and numpy arrays.\n",
    "                       All slow operation will yield an exception\n",
    "        nogil=True:    This method will release the global interpreter lock. So\n",
    "                       this method can run in parallel with other python code\n",
    "        \"\"\"\n",
    "        for tag in tags:\n",
    "            if tag['type'] == TimeTagger.TagType.TimeTag and tag['channel'] == count_channel:\n",
    "                data[index] +=1\n",
    "            if tag['type'] == TimeTagger.TagType.TimeTag and tag['channel'] == click_channel:\n",
    "                index +=1\n",
    "                    \n",
    "        return index\n",
    "    \n",
    "    \n",
    "    def process(self, incoming_tags, begin_time, end_time):\n",
    "        # the lock is already acquired\n",
    "        # self.data is provided as reference, so it must not be accessed\n",
    "        # anywhere else without locking the mutex.\n",
    "        # incoming_tags is provided as a read-only reference. The storage will\n",
    "        # be deallocated after this call, so you must not store a reference to\n",
    "        # this object. Make a copy instead.\n",
    "        \n",
    "        #In Python, the incoming_tags are a structured Numpy array. \n",
    "        #You can access single tags as well as arrays of tag entries directly:\n",
    "        #first_tag = incoming_tags[0]\n",
    "        #all_timestamps = incoming_tags['time']\n",
    "        #print(incoming_tags[0])\n",
    "        \n",
    "        #for tag in incoming_tags:\n",
    "        #    self.data += 1\n",
    "        self.data = np.unique(incoming_tags[\"channel\"])\n",
    "        \n",
    "        #print(len(incoming_tags))\n",
    "        #incoming_tags[\"channel\"]\n",
    "        \n",
    "        #self.index = PhotonMedian.fast_process(            incoming_tags,            self.data,            self.count_channel,            self.click_channel,            self.index)\n",
    "\n",
    "        \n",
    "        \n",
    "        "
   ]
  },
  {
   "cell_type": "code",
   "execution_count": 37,
   "id": "3279f181-a4e1-4239-8150-7a0ea12cc1dc",
   "metadata": {
    "tags": []
   },
   "outputs": [],
   "source": [
    "tagger.reset()\n",
    "times  = timeTaken(tagger)\n",
    "#times  = PhotonMean(tagger,channels=[photon, frame])\n",
    "tagger.setReplaySpeed(-1)\n",
    "replay = tagger.replay(dump_file)\n",
    "tagger.waitForCompletion();\n"
   ]
  },
  {
   "cell_type": "code",
   "execution_count": 38,
   "id": "7caea6d2-7b3f-4e4c-8ba7-f1014dd28db5",
   "metadata": {
    "tags": []
   },
   "outputs": [
    {
     "data": {
      "text/plain": [
       "array([], dtype=int32)"
      ]
     },
     "execution_count": 38,
     "metadata": {},
     "output_type": "execute_result"
    }
   ],
   "source": [
    "times.getData()"
   ]
  },
  {
   "cell_type": "markdown",
   "id": "2d4b9a98-d336-4413-99dd-941c8bd3a7c7",
   "metadata": {
    "jp-MarkdownHeadingCollapsed": true,
    "tags": []
   },
   "source": [
    "# channel/channel example (photon mean per channel)"
   ]
  },
  {
   "cell_type": "code",
   "execution_count": 5,
   "id": "d9d70e3d-e10a-4d0f-b4e6-03cf76610b79",
   "metadata": {},
   "outputs": [],
   "source": [
    "arr = []\n",
    "\n",
    "photon = 4\n",
    "frame = 3"
   ]
  },
  {
   "cell_type": "code",
   "execution_count": 6,
   "id": "44a877aa-c7ca-4611-b53a-09461b53c8fd",
   "metadata": {},
   "outputs": [],
   "source": [
    "class PhotonMean(TimeTagger.CustomMeasurement):\n",
    "    \"\"\"\n",
    "    CustomMeasurement that gets channel_1/channel_2.\n",
    "    \"\"\"\n",
    "\n",
    "    def __init__(self, tagger, channels):\n",
    "        TimeTagger.CustomMeasurement.__init__(self, tagger)\n",
    "        self.channels = list(channels)\n",
    "        self.counts = np.zeros((len(channels),), dtype=np.int32)\n",
    "\n",
    "        # Each used channel must be registered\n",
    "        for channel in channels:\n",
    "            self.register_channel(channel)\n",
    "\n",
    "        self.clear_impl()\n",
    "\n",
    "        # At the end of a Measurement construction we must indicate that we\n",
    "        # have finished\n",
    "        self.finalize_init()\n",
    "\n",
    "    def __del__(self):\n",
    "        # The measurement must be stopped before deconstruction to avoid\n",
    "        # concurrent measure() calls\n",
    "        self.stop()\n",
    "\n",
    "    def getData(self):\n",
    "        # lock this instance to avoid conflicting results while measure is\n",
    "        # running apart.\n",
    "        with self.mutex:\n",
    "            counts = np.array(self.counts)\n",
    "        if counts[1]!=0:\n",
    "            return counts[0]/counts[1]\n",
    "        else:\n",
    "            return \"no frames yet\"\n",
    "\n",
    "    def getIndex(self):\n",
    "        # this method does not depend on the internal state, so there is no\n",
    "        # need for a lock\n",
    "        return list(self.channels)\n",
    "\n",
    "    def clear_impl(self):\n",
    "        # the lock is already acquired\n",
    "        self.counts *= 0\n",
    "\n",
    "    def on_start(self):\n",
    "        # the lock is already acquired\n",
    "        pass\n",
    "\n",
    "    def on_stop(self):\n",
    "        # the lock is already acquired\n",
    "        pass\n",
    "\n",
    "    def process(self, incoming_tags, begin_time, end_time):\n",
    "        # the lock is already acquired\n",
    "        # self.data is provided as reference, so it must not be accessed\n",
    "        # anywhere else without locking the mutex.\n",
    "        # incoming_tags is provided as a read-only reference. The storage will\n",
    "        # be deallocated after this call, so you must not store a reference to\n",
    "        # this object. Make a copy instead.\n",
    "        channel_numbers, counts = np.unique(incoming_tags[\"channel\"], return_counts=True)\n",
    "        for channel_number, count in zip(channel_numbers, counts):\n",
    "            self.counts[self.channels.index(channel_number)] += count\n",
    "            \n",
    "            #if count%1E5:\n",
    "            #    arr.append(count)\n",
    "            "
   ]
  },
  {
   "cell_type": "code",
   "execution_count": 7,
   "id": "7ebaad81-c651-4f0b-bc5e-40d035d7011c",
   "metadata": {
    "tags": []
   },
   "outputs": [],
   "source": [
    "tagger = TimeTagger.createTimeTaggerVirtual()"
   ]
  },
  {
   "cell_type": "code",
   "execution_count": 8,
   "id": "f4d3545e-3b18-4551-8556-f0bc02394acb",
   "metadata": {
    "tags": []
   },
   "outputs": [],
   "source": [
    "slider_duration = widgets.IntSlider(\n",
    "    orientation='horizontal',\n",
    "    description='Duration (ps):',\n",
    "    step=.5E12,\n",
    "    min=0,\n",
    "    max=45E12\n",
    ")\n",
    "\n",
    "slider_begin = widgets.IntSlider(\n",
    "    orientation='horizontal',\n",
    "    description='Start at (ps):',\n",
    "    step=.5E12,\n",
    "    min=0,\n",
    "    max=45E12\n",
    ")\n",
    "\n",
    "slider_duration.layout.width = '60%'\n",
    "slider_begin.layout.width = '60%'\n"
   ]
  },
  {
   "cell_type": "code",
   "execution_count": 9,
   "id": "38876655-0ffe-420c-8c3e-0d86af646ca3",
   "metadata": {
    "tags": []
   },
   "outputs": [
    {
     "data": {
      "application/vnd.jupyter.widget-view+json": {
       "model_id": "8c345a4403014e87a1c349ad3b203a2d",
       "version_major": 2,
       "version_minor": 0
      },
      "text/plain": [
       "interactive(children=(IntSlider(value=0, description='Start at (ps):', layout=Layout(width='60%'), max=4500000…"
      ]
     },
     "metadata": {},
     "output_type": "display_data"
    },
    {
     "data": {
      "text/plain": [
       "<function __main__.update_duration(begin, duration)>"
      ]
     },
     "execution_count": 9,
     "metadata": {},
     "output_type": "execute_result"
    }
   ],
   "source": [
    "\n",
    "def update_duration(begin, duration):\n",
    "    arr.clear()\n",
    "    tagger.reset()\n",
    "    photon_mean = PhotonMean(tagger, channels=[photon, frame])\n",
    "    \n",
    "    tagger.setReplaySpeed(-1)\n",
    "    replay = tagger.replay(dump_file, begin=begin, duration=duration)\n",
    "    tagger.waitForCompletion()\n",
    "    \n",
    "    photon_mean_data = photon_mean.getData()\n",
    "    print(\"mean photons per frame:\", photon_mean_data)\n",
    "    \n",
    "    print(\"length= \",len(arr), '\\n', arr)\n",
    "    \n",
    "widgets.interact(update_duration, begin=slider_begin, duration=slider_duration)\n"
   ]
  },
  {
   "cell_type": "markdown",
   "id": "e3397b5a-a14b-4d37-a6b3-3175cc6a9510",
   "metadata": {
    "jp-MarkdownHeadingCollapsed": true,
    "tags": []
   },
   "source": [
    "# Photon median"
   ]
  },
  {
   "cell_type": "code",
   "execution_count": 5,
   "id": "ecef2cb3-4795-43c3-85a5-6022b355763f",
   "metadata": {},
   "outputs": [],
   "source": [
    "class PhotonMedian(TimeTagger.CustomMeasurement):\n",
    "    \"\"\"\n",
    "    counts number of photons per each frame, with getMedian() will return median photons\n",
    "    \"\"\"\n",
    "\n",
    "    def __init__(self, tagger, count_channel, click_channel):\n",
    "        TimeTagger.CustomMeasurement.__init__(self, tagger)\n",
    "        self.count_channel = count_channel\n",
    "        self.click_channel = click_channel\n",
    "\n",
    "        # The method register_channel(channel) activates\n",
    "        # that data from the respective channels is transferred\n",
    "        # from the Time Tagger to the PC.\n",
    "        self.register_channel(channel=count_channel)\n",
    "        self.register_channel(channel=click_channel)\n",
    "        \n",
    "\n",
    "        self.clear_impl()\n",
    "\n",
    "        # At the end of a CustomMeasurement construction,\n",
    "        # we must indicate that we have finished.\n",
    "        self.finalize_init()\n",
    "\n",
    "    def __del__(self):\n",
    "        # The measurement must be stopped before deconstruction to avoid\n",
    "        # concurrent process() calls.\n",
    "        self.stop()\n",
    "\n",
    "    def getData(self):\n",
    "        # Acquire a lock this instance to guarantee that process() is not running in parallel\n",
    "        # This ensures to return a consistent data.\n",
    "        with self.mutex:\n",
    "            return self.data.copy()[:self.index]\n",
    "\n",
    "    def getIndex(self):\n",
    "        # This method does not depend on the internal state, so there is no\n",
    "        # need for a lock.\n",
    "        arr = np.arange(0, self.index)\n",
    "        return arr\n",
    "    \n",
    "    def getMedian(self):\n",
    "        with self.mutex:\n",
    "            med1 = self.data.copy()[(self.index//2)]\n",
    "            med2 = self.data.copy()[((self.index-1)//2)]\n",
    "            return (med1+med2)/2\n",
    "\n",
    "    def clear_impl(self):\n",
    "        # The lock is already acquired within the backend.\n",
    "        self.index = 0\n",
    "        self.data = np.zeros((100,), dtype=np.uint64)\n",
    "\n",
    "    def on_start(self):\n",
    "        # The lock is already acquired within the backend.\n",
    "        pass\n",
    "\n",
    "    def on_stop(self):\n",
    "        # The lock is already acquired within the backend.\n",
    "        pass\n",
    "    \n",
    "    #In Python, it is advisable to use numpy.array() \n",
    "    #for calculation or even pre-compiled code with Numba if an explicit iteration of the tags is necessary\n",
    "\n",
    "    @staticmethod\n",
    "    @numba.jit(nopython=True, nogil=True)\n",
    "    def fast_process(\n",
    "            tags,\n",
    "            data,\n",
    "            count_channel,\n",
    "            click_channel,\n",
    "            index):\n",
    "        \"\"\"\n",
    "        A precompiled version for better performance\n",
    "        nopython=True: Only a subset of the python syntax is supported.\n",
    "                       Avoid everything but primitives and numpy arrays.\n",
    "                       All slow operation will yield an exception\n",
    "        nogil=True:    This method will release the global interpreter lock. So\n",
    "                       this method can run in parallel with other python code\n",
    "        \"\"\"\n",
    "        for tag in tags:\n",
    "            if tag['type'] == TimeTagger.TagType.TimeTag and tag['channel'] == count_channel:\n",
    "                data[index] +=1\n",
    "            if tag['type'] == TimeTagger.TagType.TimeTag and tag['channel'] == click_channel:\n",
    "                index +=1\n",
    "                    \n",
    "        return index\n",
    "\n",
    "    def process(self, incoming_tags, begin_time, end_time):\n",
    "        \"\"\"\n",
    "        Main processing method for the incoming raw time-tags.\n",
    "\n",
    "        The lock is already acquired within the backend.\n",
    "        self.data is provided as reference, so it must not be accessed\n",
    "        anywhere else without locking the mutex.\n",
    "\n",
    "        Parameters\n",
    "        ----------\n",
    "        incoming_tags\n",
    "            The incoming raw time tag stream provided as a read-only reference.\n",
    "            The storage will be deallocated after this call, so you must not store a reference to\n",
    "            this object. Make a copy instead.\n",
    "            Please note that the time tag stream of all channels is passed to the process method,\n",
    "            not only the ones from register_channel(...).\n",
    "        begin_time\n",
    "            Begin timestamp of the of the current data block.\n",
    "        end_time\n",
    "            End timestamp of the of the current data block.\n",
    "        \"\"\"\n",
    "        self.index = PhotonMedian.fast_process(\n",
    "            incoming_tags,\n",
    "            self.data,\n",
    "            self.count_channel,\n",
    "            self.click_channel,\n",
    "            self.index)\n"
   ]
  },
  {
   "cell_type": "code",
   "execution_count": 18,
   "id": "c5c7c3ba-ccb5-4f69-ad5c-fffca1a569f7",
   "metadata": {},
   "outputs": [
    {
     "data": {
      "text/plain": [
       "True"
      ]
     },
     "execution_count": 18,
     "metadata": {},
     "output_type": "execute_result"
    }
   ],
   "source": [
    "tagger.reset()\n",
    "\n",
    "photon_med  = PhotonMedian(tagger,count_channel= frame, click_channel= frame)\n",
    "#photon_mean = PhotonMean(tagger, channels=[photon, frame])\n",
    "\n",
    "tagger.setReplaySpeed(-1)\n",
    "replay = tagger.replay(dump_file)\n",
    "tagger.waitForCompletion()"
   ]
  },
  {
   "cell_type": "code",
   "execution_count": 17,
   "id": "a2d1b0ae-2ae7-4583-9bba-1eeed62392ca",
   "metadata": {},
   "outputs": [
    {
     "data": {
      "text/plain": [
       "array([1, 1, 1, 1, 1, 1, 1, 1, 1, 1, 1, 1, 1, 1, 1, 1, 1, 1, 1, 1, 1, 1,\n",
       "       1, 1], dtype=uint64)"
      ]
     },
     "execution_count": 17,
     "metadata": {},
     "output_type": "execute_result"
    }
   ],
   "source": [
    "(photon_med.getData())"
   ]
  },
  {
   "cell_type": "code",
   "execution_count": 13,
   "id": "f44cf9e8-972a-4e09-8296-75a5f9c5aa73",
   "metadata": {},
   "outputs": [
    {
     "data": {
      "text/plain": [
       "1.0"
      ]
     },
     "execution_count": 13,
     "metadata": {},
     "output_type": "execute_result"
    }
   ],
   "source": [
    "np.median(photon_med.getData())"
   ]
  },
  {
   "cell_type": "code",
   "execution_count": 10,
   "id": "97d6cd03-342c-47be-bfa6-26612dbf6cc4",
   "metadata": {},
   "outputs": [
    {
     "data": {
      "text/plain": [
       "578121.5"
      ]
     },
     "execution_count": 10,
     "metadata": {},
     "output_type": "execute_result"
    }
   ],
   "source": [
    "#photon_mean.getIndex(), photon_mean.getData()\n",
    "#photon_mean.\n",
    "photon_med.getMedian()"
   ]
  },
  {
   "cell_type": "code",
   "execution_count": 25,
   "id": "48c600c3-2188-4ca7-ac05-39fc03a50ea1",
   "metadata": {},
   "outputs": [],
   "source": [
    "%matplotlib inline"
   ]
  },
  {
   "cell_type": "code",
   "execution_count": 31,
   "id": "7da2d9aa-0cf9-47d7-ba75-c69e88062c50",
   "metadata": {},
   "outputs": [
    {
     "data": {
      "text/plain": [
       "Text(0.5, 1.0, 'Median= 578121.5')"
      ]
     },
     "execution_count": 31,
     "metadata": {},
     "output_type": "execute_result"
    },
    {
     "data": {
      "image/png": "[encoded data removed]",
      "text/plain": [
       "<Figure size 432x288 with 1 Axes>"
      ]
     },
     "metadata": {
      "needs_background": "light"
     },
     "output_type": "display_data"
    }
   ],
   "source": [
    "\n",
    "x_custom_histogram = photon_med.getIndex()\n",
    "y_custom_histogram = photon_med.getData()\n",
    "\n",
    "\n",
    "plt.plot(x_custom_histogram, y_custom_histogram,'r')\n",
    "#plt.plot(photon_mean.getIndex(), photon_mean.getData())\n",
    "\n",
    "plt.xlabel('frame #')\n",
    "plt.ylabel('# of photons')\n",
    "plt.title(('Median= '+ str(photon_med.getMedian())))\n"
   ]
  },
  {
   "cell_type": "code",
   "execution_count": null,
   "id": "0a360116-492a-452f-94eb-f024589454eb",
   "metadata": {},
   "outputs": [],
   "source": []
  },
  {
   "cell_type": "code",
   "execution_count": 61,
   "id": "fc1d6390-604b-4dfc-a877-5cf12b5c4fb7",
   "metadata": {},
   "outputs": [
    {
     "data": {
      "text/plain": [
       "578121.5"
      ]
     },
     "execution_count": 61,
     "metadata": {},
     "output_type": "execute_result"
    }
   ],
   "source": [
    "photon_med.getMedian()"
   ]
  },
  {
   "cell_type": "code",
   "execution_count": 10,
   "id": "4a8f7ce1-8749-44eb-9f53-7ef1c49a089b",
   "metadata": {},
   "outputs": [
    {
     "data": {
      "text/plain": [
       "(array([ 0,  1,  2,  3,  4,  5,  6,  7,  8,  9, 10, 11, 12, 13, 14, 15, 16,\n",
       "        17, 18, 19, 20, 21, 22, 23]),\n",
       " array([627228, 559951, 560180, 690452, 567660, 576280, 561581, 571035,\n",
       "        570756, 568827, 577448, 577240, 579003, 571183, 706105, 727837,\n",
       "        702348, 584937, 581351, 585613, 652867, 610461, 699495, 744894],\n",
       "       dtype=uint64))"
      ]
     },
     "execution_count": 10,
     "metadata": {},
     "output_type": "execute_result"
    }
   ],
   "source": [
    "x_custom_histogram, y_custom_histogram"
   ]
  },
  {
   "cell_type": "code",
   "execution_count": null,
   "id": "f501d388-e753-4c1f-8563-c24297db0ec3",
   "metadata": {},
   "outputs": [],
   "source": []
  },
  {
   "cell_type": "code",
   "execution_count": null,
   "id": "6e222dc0-5517-46ce-a7d8-24d46bf74cc5",
   "metadata": {},
   "outputs": [],
   "source": []
  }
 ],
 "metadata": {
  "kernelspec": {
   "display_name": "Python 3 (ipykernel)",
   "language": "python",
   "name": "python3"
  },
  "language_info": {
   "codemirror_mode": {
    "name": "ipython",
    "version": 3
   },
   "file_extension": ".py",
   "mimetype": "text/x-python",
   "name": "python",
   "nbconvert_exporter": "python",
   "pygments_lexer": "ipython3",
   "version": "3.11.4"
  }
 },
 "nbformat": 4,
 "nbformat_minor": 5
}
