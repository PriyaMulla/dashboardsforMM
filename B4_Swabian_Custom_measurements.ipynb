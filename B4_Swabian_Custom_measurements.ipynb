{
 "cells": [
  {
   "cell_type": "code",
   "execution_count": 1,
   "id": "274dd5c7-3519-44cf-95bc-1afc7d3ccc2a",
   "metadata": {},
   "outputs": [],
   "source": [
    "import TimeTagger\n",
    "import numpy as np\n",
    "%matplotlib ipympl\n",
    "import ipywidgets as widgets\n",
    "import matplotlib.pyplot as plt\n",
    "import numba"
   ]
  },
  {
   "cell_type": "code",
   "execution_count": 2,
   "id": "90a20508-b722-45c7-bdc4-e2b1c5eac6c0",
   "metadata": {},
   "outputs": [],
   "source": [
    "dump_file = r\"Z:\\PriyaM\\swabian_data\\20230712_tissue\\test_tissue_2023-07-12_154752.1.ttbin\""
   ]
  },
  {
   "cell_type": "code",
   "execution_count": 3,
   "id": "bd0bbca5-b755-4d03-a85d-66c5c60f6dd5",
   "metadata": {},
   "outputs": [],
   "source": [
    "tagger = TimeTagger.createTimeTaggerVirtual()"
   ]
  },
  {
   "cell_type": "raw",
   "id": "20b4c8bc-ceeb-4c37-b5e3-282f380f514a",
   "metadata": {},
   "source": [
    "The class CustomMeasurement allows you to access the raw time tag stream with very little overhead. \n",
    "By inheriting from CustomMeasurement, you can implement your fully customized measurement class. \n",
    "The CustomMeasurement.process() method of this class will be invoked as soon as new data is available."
   ]
  },
  {
   "cell_type": "code",
   "execution_count": 31,
   "id": "9fb6dbe8-e9b9-43ec-bf8b-2c28b7515324",
   "metadata": {},
   "outputs": [],
   "source": [
    "histo = TimeTagger.StartStop(tagger,-4,4,48)"
   ]
  },
  {
   "cell_type": "code",
   "execution_count": 32,
   "id": "d7e86c38-72bf-4546-898e-b1a1c7b1b37f",
   "metadata": {},
   "outputs": [
    {
     "data": {
      "text/plain": [
       "True"
      ]
     },
     "execution_count": 32,
     "metadata": {},
     "output_type": "execute_result"
    }
   ],
   "source": [
    "tagger.setReplaySpeed(-1)\n",
    "tagger.replay(dump_file)\n",
    "tagger.waitForCompletion()"
   ]
  },
  {
   "cell_type": "code",
   "execution_count": 43,
   "id": "c035671b-9268-495b-9409-deda425660dc",
   "metadata": {},
   "outputs": [],
   "source": [
    "x =histo.getData()"
   ]
  },
  {
   "cell_type": "code",
   "execution_count": 68,
   "id": "aac1af6d-eeeb-4bd6-9a55-eda238102daf",
   "metadata": {},
   "outputs": [],
   "source": [
    "y = x.flatten()"
   ]
  },
  {
   "cell_type": "code",
   "execution_count": 69,
   "id": "cb527bd8-3f7d-4bc5-8375-858ba7faad7e",
   "metadata": {},
   "outputs": [
    {
     "data": {
      "application/vnd.jupyter.widget-view+json": {
       "model_id": "d54f55f3de874a5b9184ca2d1962dbc2",
       "version_major": 2,
       "version_minor": 0
      },
      "image/png": "[encoded data removed]",
      "text/html": [
       "\n",
       "            <div style=\"display: inline-block;\">\n",
       "                <div class=\"jupyter-widgets widget-label\" style=\"text-align: center;\">\n",
       "                    Figure\n",
       "                </div>\n",
       "                <img src='data:image/png;base64,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' width=640.0/>\n",
       "            </div>\n",
       "        "
      ],
      "text/plain": [
       "Canvas(toolbar=Toolbar(toolitems=[('Home', 'Reset original view', 'home', 'home'), ('Back', 'Back to previous …"
      ]
     },
     "metadata": {},
     "output_type": "display_data"
    }
   ],
   "source": [
    "plt.close()\n",
    "plt.plot(y)\n",
    "plt.show()"
   ]
  },
  {
   "cell_type": "markdown",
   "id": "2d4b9a98-d336-4413-99dd-941c8bd3a7c7",
   "metadata": {
    "tags": []
   },
   "source": [
    "## channel/channel example (photon mean per channel)"
   ]
  },
  {
   "cell_type": "code",
   "execution_count": 5,
   "id": "d9d70e3d-e10a-4d0f-b4e6-03cf76610b79",
   "metadata": {},
   "outputs": [],
   "source": [
    "arr = []\n",
    "\n",
    "photon = 4\n",
    "frame = 3"
   ]
  },
  {
   "cell_type": "code",
   "execution_count": 82,
   "id": "526909af-3be9-4972-8c60-02df80431e71",
   "metadata": {},
   "outputs": [],
   "source": [
    "class PhotonMean(TimeTagger.CustomMeasurement):\n",
    "    \"\"\"\n",
    "    CustomMeasurement that gets channel_1/channel_2.\n",
    "    \"\"\"\n",
    "\n",
    "    def __init__(self, tagger, channels):\n",
    "        TimeTagger.CustomMeasurement.__init__(self, tagger)\n",
    "        self.channels = list(channels)\n",
    "        self.counts = np.zeros((len(channels),), dtype=np.int32)\n",
    "\n",
    "        # Each used channel must be registered\n",
    "        for channel in channels:\n",
    "            self.register_channel(channel)\n",
    "\n",
    "        self.clear_impl()\n",
    "\n",
    "        # At the end of a Measurement construction we must indicate that we\n",
    "        # have finished\n",
    "        self.finalize_init()\n",
    "\n",
    "    def __del__(self):\n",
    "        # The measurement must be stopped before deconstruction to avoid\n",
    "        # concurrent measure() calls\n",
    "        self.stop()\n",
    "\n",
    "    def getData(self):\n",
    "        # lock this instance to avoid conflicting results while measure is\n",
    "        # running apart.\n",
    "        with self.mutex:\n",
    "            counts = np.array(self.counts)\n",
    "        if counts[1]!=0:\n",
    "            return counts[0]/counts[1]\n",
    "        else:\n",
    "            return \"no frames yet\"\n",
    "\n",
    "    def getIndex(self):\n",
    "        # this method does not depend on the internal state, so there is no\n",
    "        # need for a lock\n",
    "        return list(self.channels)\n",
    "\n",
    "    def clear_impl(self):\n",
    "        # the lock is already acquired\n",
    "        self.counts *= 0\n",
    "\n",
    "    def on_start(self):\n",
    "        # the lock is already acquired\n",
    "        pass\n",
    "\n",
    "    def on_stop(self):\n",
    "        # the lock is already acquired\n",
    "        pass\n",
    "\n",
    "    def process(self, incoming_tags, begin_time, end_time):\n",
    "        # the lock is already acquired\n",
    "        # self.data is provided as reference, so it must not be accessed\n",
    "        # anywhere else without locking the mutex.\n",
    "        # incoming_tags is provided as a read-only reference. The storage will\n",
    "        # be deallocated after this call, so you must not store a reference to\n",
    "        # this object. Make a copy instead.\n",
    "        channel_numbers, counts = np.unique(incoming_tags[\"channel\"], return_counts=True)\n",
    "        for channel_number, count in zip(channel_numbers, counts):\n",
    "            self.counts[self.channels.index(channel_number)] += count\n",
    "            \n",
    "            if count%1E5:\n",
    "                arr.append(count)"
   ]
  },
  {
   "cell_type": "code",
   "execution_count": 58,
   "id": "7ebaad81-c651-4f0b-bc5e-40d035d7011c",
   "metadata": {
    "tags": []
   },
   "outputs": [],
   "source": [
    "tagger = TimeTagger.createTimeTaggerVirtual()"
   ]
  },
  {
   "cell_type": "code",
   "execution_count": 80,
   "id": "f4d3545e-3b18-4551-8556-f0bc02394acb",
   "metadata": {
    "tags": []
   },
   "outputs": [],
   "source": [
    "slider_duration = widgets.IntSlider(\n",
    "    orientation='horizontal',\n",
    "    description='Duration (ps):',\n",
    "    step=.5E12,\n",
    "    min=0,\n",
    "    max=45E12\n",
    ")\n",
    "\n",
    "slider_begin = widgets.IntSlider(\n",
    "    orientation='horizontal',\n",
    "    description='Start at (ps):',\n",
    "    step=.5E12,\n",
    "    min=0,\n",
    "    max=45E12\n",
    ")\n",
    "\n",
    "slider_duration.layout.width = '60%'\n",
    "slider_begin.layout.width = '60%'\n"
   ]
  },
  {
   "cell_type": "code",
   "execution_count": 106,
   "id": "f8a5b2f2-49eb-44ae-a4cc-59f556d31437",
   "metadata": {},
   "outputs": [
    {
     "data": {
      "text/plain": [
       "(array([1, 2, 3, 4, 5, 6, 7, 8]), array([3, 4, 3, 4, 5, 3, 3, 2], dtype=int64))"
      ]
     },
     "execution_count": 106,
     "metadata": {},
     "output_type": "execute_result"
    }
   ],
   "source": [
    "arr3= [1,2,1,3,4,5,6,7,7,8,5,3,2,4,5,6,3,2,2,1,4,5,7,8,4,5,6]\n",
    "np.unique(arr3, return_counts = True)"
   ]
  },
  {
   "cell_type": "code",
   "execution_count": 81,
   "id": "38876655-0ffe-420c-8c3e-0d86af646ca3",
   "metadata": {
    "tags": []
   },
   "outputs": [
    {
     "data": {
      "application/vnd.jupyter.widget-view+json": {
       "model_id": "ac0fddfeb5bd4bcf81d40e3074a0f31c",
       "version_major": 2,
       "version_minor": 0
      },
      "text/plain": [
       "interactive(children=(IntSlider(value=0, description='Start at (ps):', layout=Layout(width='60%'), max=4500000…"
      ]
     },
     "metadata": {},
     "output_type": "display_data"
    },
    {
     "data": {
      "text/plain": [
       "<function __main__.update_duration(begin, duration)>"
      ]
     },
     "execution_count": 81,
     "metadata": {},
     "output_type": "execute_result"
    }
   ],
   "source": [
    "\n",
    "def update_duration(begin, duration):\n",
    "    arr.clear()\n",
    "    tagger.reset()\n",
    "    photon_mean = PhotonMean(tagger, channels=[photon, frame])\n",
    "    \n",
    "    tagger.setReplaySpeed(-1)\n",
    "    replay = tagger.replay(dump_file, begin=begin, duration=duration)\n",
    "    tagger.waitForCompletion()\n",
    "    \n",
    "    photon_mean_data = photon_mean.getData()\n",
    "    print(\"mean photons per frame:\", photon_mean_data)\n",
    "    \n",
    "    print(\"length= \",len(arr), '\\n', arr)\n",
    "    \n",
    "widgets.interact(update_duration, begin=slider_begin, duration=slider_duration)\n"
   ]
  },
  {
   "cell_type": "markdown",
   "id": "e3397b5a-a14b-4d37-a6b3-3175cc6a9510",
   "metadata": {},
   "source": [
    "# Photon median"
   ]
  },
  {
   "cell_type": "code",
   "execution_count": null,
   "id": "ba69bbff-b4fd-4947-bd08-31e794a3f294",
   "metadata": {},
   "outputs": [],
   "source": [
    "279827555654787 | 279827555661643"
   ]
  },
  {
   "cell_type": "code",
   "execution_count": 20,
   "id": "b15cb568-31e8-4520-945d-ebae65d977b4",
   "metadata": {},
   "outputs": [
    {
     "data": {
      "text/plain": [
       "142.83333333333334"
      ]
     },
     "execution_count": 20,
     "metadata": {},
     "output_type": "execute_result"
    }
   ],
   "source": [
    "(279827555661643-279827555654787)/48"
   ]
  },
  {
   "cell_type": "code",
   "execution_count": 23,
   "id": "ecef2cb3-4795-43c3-85a5-6022b355763f",
   "metadata": {},
   "outputs": [
    {
     "name": "stderr",
     "output_type": "stream",
     "text": [
      "Traceback (most recent call last):\n",
      "  File \"C:\\Program Files\\Swabian Instruments\\Time Tagger\\driver\\python\\TimeTagger.py\", line 5011, in next_impl\n",
      "    self.process(tags, begin_time, end_time)\n",
      "  File \"C:\\Users\\lociu\\AppData\\Local\\Temp\\ipykernel_9200\\2013594441.py\", line 102, in process\n",
      "    self.last_start_timestamp = PhotonMedian.fast_process(\n",
      "                                ^^^^^^^^^^^^^^^^^^^^^^^^^^\n",
      "  File \"C:\\Users\\lociu\\anaconda\\envs\\swabian\\Lib\\site-packages\\numba\\core\\dispatcher.py\", line 468, in _compile_for_args\n",
      "    error_rewrite(e, 'typing')\n",
      "  File \"C:\\Users\\lociu\\anaconda\\envs\\swabian\\Lib\\site-packages\\numba\\core\\dispatcher.py\", line 409, in error_rewrite\n",
      "    raise e.with_traceback(None)\n",
      "numba.core.errors.TypingError: Failed in nopython mode pipeline (step: nopython frontend)\n",
      "\u001b[1mNameError: name 'click_channel' is not defined\u001b[0m\n"
     ]
    }
   ],
   "source": [
    "class PhotonMedian(TimeTagger.CustomMeasurement):\n",
    "    \"\"\"\n",
    "    \n",
    "    \"\"\"\n",
    "\n",
    "    def __init__(self, tagger, start_channel, binwidth, n_bins):\n",
    "        TimeTagger.CustomMeasurement.__init__(self, tagger)\n",
    "        self.start_channel = start_channel\n",
    "        self.binwidth = binwidth\n",
    "        self.max_bins = n_bins\n",
    "\n",
    "        # The method register_channel(channel) activates\n",
    "        # that data from the respective channels is transferred\n",
    "        # from the Time Tagger to the PC.\n",
    "        self.register_channel(channel=start_channel)\n",
    "\n",
    "        self.clear_impl()\n",
    "\n",
    "        # At the end of a CustomMeasurement construction,\n",
    "        # we must indicate that we have finished.\n",
    "        self.finalize_init()\n",
    "\n",
    "    def __del__(self):\n",
    "        # The measurement must be stopped before deconstruction to avoid\n",
    "        # concurrent process() calls.\n",
    "        self.stop()\n",
    "\n",
    "    def getData(self):\n",
    "        # Acquire a lock this instance to guarantee that process() is not running in parallel\n",
    "        # This ensures to return a consistent data.\n",
    "        with self.mutex:\n",
    "            return self.data.copy()\n",
    "\n",
    "    def getIndex(self):\n",
    "        # This method does not depend on the internal state, so there is no\n",
    "        # need for a lock.\n",
    "        arr = np.arange(0, self.max_bins) * self.binwidth\n",
    "        return arr\n",
    "\n",
    "    def clear_impl(self):\n",
    "        # The lock is already acquired within the backend.\n",
    "        self.last_start_timestamp = 0\n",
    "        self.data = np.zeros((self.max_bins,), dtype=np.uint64)\n",
    "\n",
    "    def on_start(self):\n",
    "        # The lock is already acquired within the backend.\n",
    "        pass\n",
    "\n",
    "    def on_stop(self):\n",
    "        # The lock is already acquired within the backend.\n",
    "        pass\n",
    "\n",
    "    @staticmethod\n",
    "    @numba.jit(nopython=True, nogil=True)\n",
    "    def fast_process(\n",
    "            tags,\n",
    "            data,\n",
    "            start_channel,\n",
    "            binwidth,\n",
    "            last_start_timestamp):\n",
    "        \"\"\"\n",
    "        A precompiled version of the histogram algorithm for better performance\n",
    "        nopython=True: Only a subset of the python syntax is supported.\n",
    "                       Avoid everything but primitives and numpy arrays.\n",
    "                       All slow operation will yield an exception\n",
    "        nogil=True:    This method will release the global interpreter lock. So\n",
    "                       this method can run in parallel with other python code\n",
    "        \"\"\"\n",
    "        for tag in tags:\n",
    "            # tag.type can be: 0 - TimeTag, 1- Error, 2 - OverflowBegin, 3 -\n",
    "            # OverflowEnd, 4 - MissedEvents (you can use the TimeTagger.TagType IntEnum)\n",
    "            if tag['type'] == TimeTagger.TagType.TimeTag and tag['channel'] == click_channel:\n",
    "            # valid event\n",
    "                index = (tag['time'] - last_start_timestamp) // binwidth\n",
    "                if index < data.shape[0]:\n",
    "                    data[index] += 1\n",
    "            if tag['channel'] == start_channel:\n",
    "                last_start_timestamp = tag['time']\n",
    "                    \n",
    "        return last_start_timestamp\n",
    "\n",
    "    def process(self, incoming_tags, begin_time, end_time):\n",
    "        \"\"\"\n",
    "        Main processing method for the incoming raw time-tags.\n",
    "\n",
    "        The lock is already acquired within the backend.\n",
    "        self.data is provided as reference, so it must not be accessed\n",
    "        anywhere else without locking the mutex.\n",
    "\n",
    "        Parameters\n",
    "        ----------\n",
    "        incoming_tags\n",
    "            The incoming raw time tag stream provided as a read-only reference.\n",
    "            The storage will be deallocated after this call, so you must not store a reference to\n",
    "            this object. Make a copy instead.\n",
    "            Please note that the time tag stream of all channels is passed to the process method,\n",
    "            not only the ones from register_channel(...).\n",
    "        begin_time\n",
    "            Begin timestamp of the of the current data block.\n",
    "        end_time\n",
    "            End timestamp of the of the current data block.\n",
    "        \"\"\"\n",
    "        self.last_start_timestamp = PhotonMedian.fast_process(\n",
    "            incoming_tags,\n",
    "            self.data,\n",
    "            self.start_channel,\n",
    "            self.binwidth,\n",
    "            self.last_start_timestamp)\n"
   ]
  },
  {
   "cell_type": "code",
   "execution_count": 22,
   "id": "c5c7c3ba-ccb5-4f69-ad5c-fffca1a569f7",
   "metadata": {},
   "outputs": [
    {
     "data": {
      "text/plain": [
       "True"
      ]
     },
     "execution_count": 22,
     "metadata": {},
     "output_type": "execute_result"
    }
   ],
   "source": [
    "tagger.reset()\n",
    "photon_med = PhotonMedian(tagger, 4, 48, 256)\n",
    "\n",
    "tagger.setReplaySpeed(-1)\n",
    "replay = tagger.replay(dump_file)\n",
    "tagger.waitForCompletion()"
   ]
  },
  {
   "cell_type": "code",
   "execution_count": 15,
   "id": "f95e02c5-39d9-448f-998b-b97218bd5062",
   "metadata": {
    "tags": []
   },
   "outputs": [
    {
     "data": {
      "text/plain": [
       "256"
      ]
     },
     "execution_count": 15,
     "metadata": {},
     "output_type": "execute_result"
    }
   ],
   "source": [
    "photon_med.getData().shape[0]"
   ]
  },
  {
   "cell_type": "code",
   "execution_count": 14,
   "id": "bd1422e8-f4a6-42a3-8695-201975ac8331",
   "metadata": {},
   "outputs": [
    {
     "data": {
      "text/plain": [
       "(256,)"
      ]
     },
     "execution_count": 14,
     "metadata": {},
     "output_type": "execute_result"
    }
   ],
   "source": [
    "photon_med.getIndex().shape"
   ]
  },
  {
   "cell_type": "code",
   "execution_count": 166,
   "id": "7da2d9aa-0cf9-47d7-ba75-c69e88062c50",
   "metadata": {},
   "outputs": [
    {
     "data": {
      "application/vnd.jupyter.widget-view+json": {
       "model_id": "f8fa96653c3d44a4aacad70d397dae1f",
       "version_major": 2,
       "version_minor": 0
      },
      "image/png": "[encoded data removed]",
      "text/html": [
       "\n",
       "            <div style=\"display: inline-block;\">\n",
       "                <div class=\"jupyter-widgets widget-label\" style=\"text-align: center;\">\n",
       "                    Figure\n",
       "                </div>\n",
       "                <img src='data:image/png;base64,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' width=640.0/>\n",
       "            </div>\n",
       "        "
      ],
      "text/plain": [
       "Canvas(toolbar=Toolbar(toolitems=[('Home', 'Reset original view', 'home', 'home'), ('Back', 'Back to previous …"
      ]
     },
     "metadata": {},
     "output_type": "display_data"
    }
   ],
   "source": [
    "plt.close()\n",
    "\n",
    "x_custom_histogram = photon_med.getIndex()\n",
    "y_custom_histogram = photon_med.getData()\n",
    "\n",
    "\n",
    "plt.plot(x_custom_histogram, y_custom_histogram, label='custom histogram')\n",
    "plt.xlabel('Time difference (ps)')\n",
    "plt.ylabel('Counts')\n",
    "plt.legend()\n",
    "plt.show()"
   ]
  },
  {
   "cell_type": "code",
   "execution_count": 213,
   "id": "4a8f7ce1-8749-44eb-9f53-7ef1c49a089b",
   "metadata": {},
   "outputs": [
    {
     "data": {
      "text/plain": [
       "(array([    0,    48,    96,   144,   192,   240,   288,   336,   384,\n",
       "          432,   480,   528,   576,   624,   672,   720,   768,   816,\n",
       "          864,   912,   960,  1008,  1056,  1104,  1152,  1200,  1248,\n",
       "         1296,  1344,  1392,  1440,  1488,  1536,  1584,  1632,  1680,\n",
       "         1728,  1776,  1824,  1872,  1920,  1968,  2016,  2064,  2112,\n",
       "         2160,  2208,  2256,  2304,  2352,  2400,  2448,  2496,  2544,\n",
       "         2592,  2640,  2688,  2736,  2784,  2832,  2880,  2928,  2976,\n",
       "         3024,  3072,  3120,  3168,  3216,  3264,  3312,  3360,  3408,\n",
       "         3456,  3504,  3552,  3600,  3648,  3696,  3744,  3792,  3840,\n",
       "         3888,  3936,  3984,  4032,  4080,  4128,  4176,  4224,  4272,\n",
       "         4320,  4368,  4416,  4464,  4512,  4560,  4608,  4656,  4704,\n",
       "         4752,  4800,  4848,  4896,  4944,  4992,  5040,  5088,  5136,\n",
       "         5184,  5232,  5280,  5328,  5376,  5424,  5472,  5520,  5568,\n",
       "         5616,  5664,  5712,  5760,  5808,  5856,  5904,  5952,  6000,\n",
       "         6048,  6096,  6144,  6192,  6240,  6288,  6336,  6384,  6432,\n",
       "         6480,  6528,  6576,  6624,  6672,  6720,  6768,  6816,  6864,\n",
       "         6912,  6960,  7008,  7056,  7104,  7152,  7200,  7248,  7296,\n",
       "         7344,  7392,  7440,  7488,  7536,  7584,  7632,  7680,  7728,\n",
       "         7776,  7824,  7872,  7920,  7968,  8016,  8064,  8112,  8160,\n",
       "         8208,  8256,  8304,  8352,  8400,  8448,  8496,  8544,  8592,\n",
       "         8640,  8688,  8736,  8784,  8832,  8880,  8928,  8976,  9024,\n",
       "         9072,  9120,  9168,  9216,  9264,  9312,  9360,  9408,  9456,\n",
       "         9504,  9552,  9600,  9648,  9696,  9744,  9792,  9840,  9888,\n",
       "         9936,  9984, 10032, 10080, 10128, 10176, 10224, 10272, 10320,\n",
       "        10368, 10416, 10464, 10512, 10560, 10608, 10656, 10704, 10752,\n",
       "        10800, 10848, 10896, 10944, 10992, 11040, 11088, 11136, 11184,\n",
       "        11232, 11280, 11328, 11376, 11424, 11472, 11520, 11568, 11616,\n",
       "        11664, 11712, 11760, 11808, 11856, 11904, 11952, 12000, 12048,\n",
       "        12096, 12144, 12192, 12240]),\n",
       " array([   56,    42,    29,    36,    35,    34,    48,    49,    67,\n",
       "           80,   106,   112,   140,   150,   195,   182,   211,   231,\n",
       "          231,   233,   249,   280,   254,   329,   341,   339,   318,\n",
       "          309,   313,   292,   309,   291,   250,   273,   280,   277,\n",
       "          273,   241,   216,   236,   207,   228,   271,   244,   234,\n",
       "          256,   195,   140,   188,   155,   141,   128,   113,   130,\n",
       "          129,   119,   113,   118,    98,    99,   110,   110,    96,\n",
       "          101,    78,    64,    73,    70,    74,    87,    97,    67,\n",
       "           77,    68,    76,    72,    64,    68,    66,    56,    73,\n",
       "           55,    58,    59,    49,    64,    65,    63,    57,    69,\n",
       "           46,    60,    65,    65,    58,    55,    54,    64,    48,\n",
       "           66,    70,    70,    66,    58,    70,    63,    61,    51,\n",
       "           60,    49,    68,    70,    82,    72,    72,    59,    80,\n",
       "           53,    64,    76,    59,    49,    74,    56,    72,    70,\n",
       "           64,    77,    62,    70,    72,    59,    94,    99,    66,\n",
       "           73,    76,    76,    82,    76,    95,   103,    93,    93,\n",
       "          105,    94,   124,   122,   107,    92,   125,   135,   108,\n",
       "          149,   138,   159,   168,   184,   194,   200,   252,   240,\n",
       "          236,   241,   270,   302,   324,   355,   338,   362,   368,\n",
       "          414,   387,   394,   404,   415,   448,   424,   402,   432,\n",
       "          411,   452,   464,   421,   415,   471,   436,   447,   440,\n",
       "          472,   497,   489,   527,   506,   531,   601,   649,   667,\n",
       "          730,   736,   817,   858,   862,   968,  1028,  1205,  1219,\n",
       "         1384,  1519,  1683,  1909,  2138,  2304,  2720,  2896,  3193,\n",
       "         3677,  4183,  4717,  5608,  6176,  6900,  7676,  8644,  9723,\n",
       "        10561, 11435, 12272, 13003, 13436, 13680, 14036, 13814, 13903,\n",
       "        13626, 13280, 12656, 11940, 11117, 10641,  9506,  8778,  7949,\n",
       "         7441,  6468,  5822,  5109,  4527,  4141,  3702,  3198,  2918,\n",
       "         2662,  2395,  2195,  1926], dtype=uint64))"
      ]
     },
     "execution_count": 213,
     "metadata": {},
     "output_type": "execute_result"
    }
   ],
   "source": [
    "x_custom_histogram, y_custom_histogram"
   ]
  },
  {
   "cell_type": "code",
   "execution_count": null,
   "id": "82b810bb-5e2d-4164-8b10-0ea434b8895b",
   "metadata": {},
   "outputs": [],
   "source": []
  }
 ],
 "metadata": {
  "kernelspec": {
   "display_name": "Python 3 (ipykernel)",
   "language": "python",
   "name": "python3"
  },
  "language_info": {
   "codemirror_mode": {
    "name": "ipython",
    "version": 3
   },
   "file_extension": ".py",
   "mimetype": "text/x-python",
   "name": "python",
   "nbconvert_exporter": "python",
   "pygments_lexer": "ipython3",
   "version": "3.11.3"
  }
 },
 "nbformat": 4,
 "nbformat_minor": 5
}
