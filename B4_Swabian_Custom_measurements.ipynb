{
 "cells": [
  {
   "cell_type": "code",
   "execution_count": 3,
   "id": "3a0d8942-55a2-4f45-9526-9f577a66bb2a",
   "metadata": {},
   "outputs": [],
   "source": [
    "import TimeTagger\n",
    "import numpy as np\n",
    "%matplotlib ipympl\n",
    "import ipywidgets as widgets"
   ]
  },
  {
   "cell_type": "code",
   "execution_count": 4,
   "id": "90a20508-b722-45c7-bdc4-e2b1c5eac6c0",
   "metadata": {},
   "outputs": [],
   "source": [
    "dump_file = r\"Z:\\PriyaM\\swabian_data\\20230712_tissue\\test_tissue_2023-07-12_154752.1.ttbin\""
   ]
  },
  {
   "cell_type": "code",
   "execution_count": 8,
   "id": "bd0bbca5-b755-4d03-a85d-66c5c60f6dd5",
   "metadata": {},
   "outputs": [],
   "source": [
    "tagger = TimeTagger.createTimeTaggerVirtual()"
   ]
  },
  {
   "cell_type": "raw",
   "id": "20b4c8bc-ceeb-4c37-b5e3-282f380f514a",
   "metadata": {},
   "source": [
    "The class CustomMeasurement allows you to access the raw time tag stream with very little overhead. \n",
    "By inheriting from CustomMeasurement, you can implement your fully customized measurement class. \n",
    "The CustomMeasurement.process() method of this class will be invoked as soon as new data is available."
   ]
  },
  {
   "cell_type": "markdown",
   "id": "2d4b9a98-d336-4413-99dd-941c8bd3a7c7",
   "metadata": {},
   "source": [
    "## channel/channel example (photon mean per channel)"
   ]
  },
  {
   "cell_type": "code",
   "execution_count": 5,
   "id": "d9d70e3d-e10a-4d0f-b4e6-03cf76610b79",
   "metadata": {},
   "outputs": [],
   "source": [
    "arr = []\n",
    "\n",
    "photon = 4\n",
    "frame = 3"
   ]
  },
  {
   "cell_type": "code",
   "execution_count": 82,
   "id": "526909af-3be9-4972-8c60-02df80431e71",
   "metadata": {},
   "outputs": [],
   "source": [
    "class PhotonMean(TimeTagger.CustomMeasurement):\n",
    "    \"\"\"\n",
    "    CustomMeasurement that gets channel_1/channel_2.\n",
    "    \"\"\"\n",
    "\n",
    "    def __init__(self, tagger, channels):\n",
    "        TimeTagger.CustomMeasurement.__init__(self, tagger)\n",
    "        self.channels = list(channels)\n",
    "        self.counts = np.zeros((len(channels),), dtype=np.int32)\n",
    "\n",
    "        # Each used channel must be registered\n",
    "        for channel in channels:\n",
    "            self.register_channel(channel)\n",
    "\n",
    "        self.clear_impl()\n",
    "\n",
    "        # At the end of a Measurement construction we must indicate that we\n",
    "        # have finished\n",
    "        self.finalize_init()\n",
    "\n",
    "    def __del__(self):\n",
    "        # The measurement must be stopped before deconstruction to avoid\n",
    "        # concurrent measure() calls\n",
    "        self.stop()\n",
    "\n",
    "    def getData(self):\n",
    "        # lock this instance to avoid conflicting results while measure is\n",
    "        # running apart.\n",
    "        with self.mutex:\n",
    "            counts = np.array(self.counts)\n",
    "        if counts[1]!=0:\n",
    "            return counts[0]/counts[1]\n",
    "        else:\n",
    "            return \"no frames yet\"\n",
    "\n",
    "    def getIndex(self):\n",
    "        # this method does not depend on the internal state, so there is no\n",
    "        # need for a lock\n",
    "        return list(self.channels)\n",
    "\n",
    "    def clear_impl(self):\n",
    "        # the lock is already acquired\n",
    "        self.counts *= 0\n",
    "\n",
    "    def on_start(self):\n",
    "        # the lock is already acquired\n",
    "        pass\n",
    "\n",
    "    def on_stop(self):\n",
    "        # the lock is already acquired\n",
    "        pass\n",
    "\n",
    "    def process(self, incoming_tags, begin_time, end_time):\n",
    "        # the lock is already acquired\n",
    "        # self.data is provided as reference, so it must not be accessed\n",
    "        # anywhere else without locking the mutex.\n",
    "        # incoming_tags is provided as a read-only reference. The storage will\n",
    "        # be deallocated after this call, so you must not store a reference to\n",
    "        # this object. Make a copy instead.\n",
    "        channel_numbers, counts = np.unique(incoming_tags[\"channel\"], return_counts=True)\n",
    "        for channel_number, count in zip(channel_numbers, counts):\n",
    "            self.counts[self.channels.index(channel_number)] += count\n",
    "            \n",
    "            if count%1E5:\n",
    "                arr.append(count)"
   ]
  },
  {
   "cell_type": "code",
   "execution_count": 58,
   "id": "7ebaad81-c651-4f0b-bc5e-40d035d7011c",
   "metadata": {
    "jupyter": {
     "source_hidden": true
    },
    "tags": []
   },
   "outputs": [],
   "source": [
    "tagger = TimeTagger.createTimeTaggerVirtual()"
   ]
  },
  {
   "cell_type": "code",
   "execution_count": 80,
   "id": "f4d3545e-3b18-4551-8556-f0bc02394acb",
   "metadata": {
    "jupyter": {
     "source_hidden": true
    },
    "tags": []
   },
   "outputs": [],
   "source": [
    "slider_duration = widgets.IntSlider(\n",
    "    orientation='horizontal',\n",
    "    description='Duration (ps):',\n",
    "    step=.5E12,\n",
    "    min=0,\n",
    "    max=45E12\n",
    ")\n",
    "\n",
    "slider_begin = widgets.IntSlider(\n",
    "    orientation='horizontal',\n",
    "    description='Start at (ps):',\n",
    "    step=.5E12,\n",
    "    min=0,\n",
    "    max=45E12\n",
    ")\n",
    "\n",
    "slider_duration.layout.width = '60%'\n",
    "slider_begin.layout.width = '60%'\n"
   ]
  },
  {
   "cell_type": "code",
   "execution_count": 106,
   "id": "f8a5b2f2-49eb-44ae-a4cc-59f556d31437",
   "metadata": {},
   "outputs": [
    {
     "data": {
      "text/plain": [
       "(array([1, 2, 3, 4, 5, 6, 7, 8]), array([3, 4, 3, 4, 5, 3, 3, 2], dtype=int64))"
      ]
     },
     "execution_count": 106,
     "metadata": {},
     "output_type": "execute_result"
    }
   ],
   "source": [
    "arr3= [1,2,1,3,4,5,6,7,7,8,5,3,2,4,5,6,3,2,2,1,4,5,7,8,4,5,6]\n",
    "np.unique(arr3, return_counts = True)"
   ]
  },
  {
   "cell_type": "code",
   "execution_count": 81,
   "id": "38876655-0ffe-420c-8c3e-0d86af646ca3",
   "metadata": {
    "collapsed": true,
    "jupyter": {
     "outputs_hidden": true
    },
    "tags": []
   },
   "outputs": [
    {
     "data": {
      "application/vnd.jupyter.widget-view+json": {
       "model_id": "ac0fddfeb5bd4bcf81d40e3074a0f31c",
       "version_major": 2,
       "version_minor": 0
      },
      "text/plain": [
       "interactive(children=(IntSlider(value=0, description='Start at (ps):', layout=Layout(width='60%'), max=4500000…"
      ]
     },
     "metadata": {},
     "output_type": "display_data"
    },
    {
     "data": {
      "text/plain": [
       "<function __main__.update_duration(begin, duration)>"
      ]
     },
     "execution_count": 81,
     "metadata": {},
     "output_type": "execute_result"
    }
   ],
   "source": [
    "\n",
    "def update_duration(begin, duration):\n",
    "    arr.clear()\n",
    "    tagger.reset()\n",
    "    photon_mean = PhotonMean(tagger, channels=[photon, frame])\n",
    "    \n",
    "    tagger.setReplaySpeed(-1)\n",
    "    replay = tagger.replay(dump_file, begin=begin, duration=duration)\n",
    "    tagger.waitForCompletion()\n",
    "    \n",
    "    photon_mean_data = photon_mean.getData()\n",
    "    print(\"mean photons per frame:\", photon_mean_data)\n",
    "    \n",
    "    print(\"length= \",len(arr), '\\n', arr)\n",
    "    \n",
    "widgets.interact(update_duration, begin=slider_begin, duration=slider_duration)\n"
   ]
  },
  {
   "cell_type": "markdown",
   "id": "e3397b5a-a14b-4d37-a6b3-3175cc6a9510",
   "metadata": {},
   "source": [
    "# Photon median"
   ]
  },
  {
   "cell_type": "code",
   "execution_count": 18,
   "id": "218aa64c-b16d-412c-9d4a-513f5442569c",
   "metadata": {},
   "outputs": [],
   "source": [
    "class PhotonMedian(TimeTagger.CustomMeasurement):\n",
    "    \"\"\"\n",
    "    CustomMeasurement that gets channel_1/channel_2.\n",
    "    \"\"\"\n",
    "\n",
    "    def __init__(self, tagger, channels):\n",
    "        TimeTagger.CustomMeasurement.__init__(self, tagger)\n",
    "        self.channels = list(channels)\n",
    "        self.it=[]\n",
    "        \n",
    "        # Each used channel must be registered\n",
    "        for channel in channels:\n",
    "            self.register_channel(channel)\n",
    "        \n",
    "        \n",
    "        self.clear_impl()\n",
    "\n",
    "        # At the end of a Measurement construction we must indicate that we\n",
    "        # have finished\n",
    "        self.finalize_init()\n",
    "\n",
    "    def __del__(self):\n",
    "        # The measurement must be stopped before deconstruction to avoid\n",
    "        # concurrent measure() calls\n",
    "        self.stop()\n",
    "\n",
    "    def getData(self):\n",
    "        # lock this instance to avoid conflicting results while measure is\n",
    "        # running apart.\n",
    "        with self.mutex:\n",
    "            return self.data.copy\n",
    "\n",
    "    def getIndex(self):\n",
    "        # this method does not depend on the internal state, so there is no\n",
    "        # need for a lock\n",
    "        return list(self.channels)\n",
    "\n",
    "    def clear_impl(self):\n",
    "        # the lock is already acquired\n",
    "        self.it *= 0\n",
    "\n",
    "    def on_start(self):\n",
    "        # the lock is already acquired\n",
    "        pass\n",
    "\n",
    "    def on_stop(self):\n",
    "        # the lock is already acquired\n",
    "        pass\n",
    "\n",
    "    def process(self, incoming_tags, begin_time, end_time):\n",
    "        # the lock is already acquired\n",
    "        # self.data is provided as reference, so it must not be accessed\n",
    "        # anywhere else without locking the mutex.\n",
    "        # incoming_tags is provided as a read-only reference. The storage will\n",
    "        # be deallocated after this call, so you must not store a reference to\n",
    "        # this object. Make a copy instead.\n",
    "        self.it = incoming_tags['channel']"
   ]
  },
  {
   "cell_type": "code",
   "execution_count": 19,
   "id": "c5c7c3ba-ccb5-4f69-ad5c-fffca1a569f7",
   "metadata": {},
   "outputs": [
    {
     "data": {
      "text/plain": [
       "True"
      ]
     },
     "execution_count": 19,
     "metadata": {},
     "output_type": "execute_result"
    }
   ],
   "source": [
    "tagger.reset()\n",
    "photon_med = PhotonMedian(tagger, channels=[photon])\n",
    "\n",
    "tagger.setReplaySpeed(-1)\n",
    "replay = tagger.replay(dump_file)\n",
    "tagger.waitForCompletion()"
   ]
  },
  {
   "cell_type": "code",
   "execution_count": 20,
   "id": "3e9a7da6-9c4f-48e3-b245-5b88ed23ea1b",
   "metadata": {},
   "outputs": [
    {
     "data": {
      "text/plain": [
       "array([], dtype=int32)"
      ]
     },
     "execution_count": 20,
     "metadata": {},
     "output_type": "execute_result"
    }
   ],
   "source": [
    "photon_med.getData()"
   ]
  },
  {
   "cell_type": "code",
   "execution_count": null,
   "id": "6d556928-be87-4764-9106-b8c10ff5ba9f",
   "metadata": {},
   "outputs": [],
   "source": []
  },
  {
   "cell_type": "code",
   "execution_count": 90,
   "id": "0244b16b-d902-4324-9888-11f55bc284fd",
   "metadata": {},
   "outputs": [
    {
     "data": {
      "text/plain": [
       "array([],\n",
       "      dtype={'names': ['type', 'missed_events', 'channel', 'time'], 'formats': ['u1', '<u2', '<i4', '<i8'], 'offsets': [0, 2, 4, 8], 'itemsize': 16, 'aligned': True})"
      ]
     },
     "execution_count": 90,
     "metadata": {},
     "output_type": "execute_result"
    }
   ],
   "source": [
    "photon_med.getData()"
   ]
  },
  {
   "cell_type": "code",
   "execution_count": null,
   "id": "6ee0c014-889d-4b73-ac54-9a0866f539f8",
   "metadata": {},
   "outputs": [],
   "source": []
  }
 ],
 "metadata": {
  "kernelspec": {
   "display_name": "Python 3 (ipykernel)",
   "language": "python",
   "name": "python3"
  },
  "language_info": {
   "codemirror_mode": {
    "name": "ipython",
    "version": 3
   },
   "file_extension": ".py",
   "mimetype": "text/x-python",
   "name": "python",
   "nbconvert_exporter": "python",
   "pygments_lexer": "ipython3",
   "version": "3.11.3"
  }
 },
 "nbformat": 4,
 "nbformat_minor": 5
}
