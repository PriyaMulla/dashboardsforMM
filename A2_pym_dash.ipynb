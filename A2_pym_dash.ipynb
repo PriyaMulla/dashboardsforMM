{
 "cells": [
  {
   "cell_type": "code",
   "execution_count": 1,
   "id": "6b4ff65c-c731-4cc8-ac02-72784d60b030",
   "metadata": {},
   "outputs": [],
   "source": [
    "%matplotlib ipympl\n",
    "import matplotlib.pyplot as plt\n",
    "import numpy as np\n",
    "import ipywidgets as widgets\n",
    "from IPython.display import display"
   ]
  },
  {
   "cell_type": "code",
   "execution_count": 2,
   "id": "e356c3b2-f00a-424c-a4bc-c0eba05a113c",
   "metadata": {},
   "outputs": [],
   "source": [
    "from pycromanager import Core"
   ]
  },
  {
   "cell_type": "code",
   "execution_count": 3,
   "id": "609f6fb5-360e-4826-9d49-c1d68064dba9",
   "metadata": {},
   "outputs": [],
   "source": [
    "core = Core()"
   ]
  },
  {
   "cell_type": "code",
   "execution_count": 4,
   "id": "0a178363-6020-4436-922e-afac8a0fdb77",
   "metadata": {},
   "outputs": [
    {
     "data": {
      "application/vnd.jupyter.widget-view+json": {
       "model_id": "4036dddd62584fb7a81c49d307ffae5c",
       "version_major": 2,
       "version_minor": 0
      },
      "text/plain": [
       "Button(description='Snap Image', style=ButtonStyle())"
      ]
     },
     "metadata": {},
     "output_type": "display_data"
    },
    {
     "data": {
      "application/vnd.jupyter.widget-view+json": {
       "model_id": "ed3a44affeda4460be2df7a935c7cc63",
       "version_major": 2,
       "version_minor": 0
      },
      "text/plain": [
       "Output()"
      ]
     },
     "metadata": {},
     "output_type": "display_data"
    }
   ],
   "source": [
    "button = widgets.Button(description=\"Snap Image\")\n",
    "output = widgets.Output()\n",
    "\n",
    "display(button, output)\n",
    "\n",
    "def on_button_clicked(b):\n",
    "    with output:\n",
    "        output.clear_output()\n",
    "        core.snap_image()\n",
    "        tagged_image = core.get_tagged_image()\n",
    "        pixels = np.reshape(tagged_image.pix,\n",
    "                        newshape=[tagged_image.tags['Height'], tagged_image.tags['Width'],4])\n",
    "        plt.imshow(pixels)\n",
    "        plt.show()\n",
    "\n",
    "button.on_click(on_button_clicked)"
   ]
  },
  {
   "cell_type": "code",
   "execution_count": null,
   "id": "aa12659e-4f02-4160-9fc3-d4c89b6f1a6c",
   "metadata": {},
   "outputs": [],
   "source": []
  },
  {
   "cell_type": "code",
   "execution_count": null,
   "id": "a8b9843b-677f-479d-8696-3da8929126ff",
   "metadata": {},
   "outputs": [],
   "source": []
  },
  {
   "cell_type": "code",
   "execution_count": null,
   "id": "9b5de2f2-6a7e-4037-844d-5c4ecf90c553",
   "metadata": {},
   "outputs": [],
   "source": []
  }
 ],
 "metadata": {
  "kernelspec": {
   "display_name": "Python 3 (ipykernel)",
   "language": "python",
   "name": "python3"
  },
  "language_info": {
   "codemirror_mode": {
    "name": "ipython",
    "version": 3
   },
   "file_extension": ".py",
   "mimetype": "text/x-python",
   "name": "python",
   "nbconvert_exporter": "python",
   "pygments_lexer": "ipython3",
   "version": "3.11.0"
  }
 },
 "nbformat": 4,
 "nbformat_minor": 5
}
