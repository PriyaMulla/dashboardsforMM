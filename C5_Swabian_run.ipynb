{
 "cells": [
  {
   "cell_type": "code",
   "execution_count": 2,
   "id": "8c60602a-6cfc-42f0-8f6c-76cbba017eb5",
   "metadata": {},
   "outputs": [],
   "source": [
    "import TimeTagger as TT"
   ]
  },
  {
   "cell_type": "markdown",
   "id": "d07e067b-1205-4e70-b489-0f8f7286198e",
   "metadata": {},
   "source": [
    "# set up swabian configs"
   ]
  },
  {
   "cell_type": "code",
   "execution_count": null,
   "id": "f48b3c6a-be91-4315-9e27-5f0abad2dc79",
   "metadata": {},
   "outputs": [],
   "source": [
    "time_tagger = TT.createTimeTagger()"
   ]
  },
  {
   "cell_type": "code",
   "execution_count": null,
   "id": "a0999609-2cb9-4a04-8554-430f688db085",
   "metadata": {},
   "outputs": [],
   "source": []
  },
  {
   "cell_type": "code",
   "execution_count": null,
   "id": "84f90d72-9922-4691-ada0-dca7ecf03590",
   "metadata": {},
   "outputs": [],
   "source": []
  },
  {
   "cell_type": "code",
   "execution_count": null,
   "id": "cb44ab6f-7313-4bd3-bee4-c5b0cf05e5e4",
   "metadata": {},
   "outputs": [],
   "source": []
  },
  {
   "cell_type": "markdown",
   "id": "ba198d4e-d9f4-4cc1-b364-45588c80d3f1",
   "metadata": {
    "jp-MarkdownHeadingCollapsed": true,
    "tags": []
   },
   "source": [
    "# file writer"
   ]
  },
  {
   "cell_type": "code",
   "execution_count": null,
   "id": "c3d334bb-8028-4049-9d5f-5d15dbfa26ef",
   "metadata": {},
   "outputs": [],
   "source": [
    "filename = \"\"\n",
    "chanels = []\n",
    "duration = 0 # in ps"
   ]
  },
  {
   "cell_type": "code",
   "execution_count": null,
   "id": "60cb1bc9-c05a-47dd-9ceb-067d9bbdd5cd",
   "metadata": {},
   "outputs": [],
   "source": [
    "file_writer = TT.FileWriter(time_tagger, filename, channels)"
   ]
  },
  {
   "cell_type": "code",
   "execution_count": null,
   "id": "67cab2a5-acc4-4d4e-ab4e-be59a2f4d30b",
   "metadata": {},
   "outputs": [],
   "source": [
    "file_writer.startFor(duration)"
   ]
  },
  {
   "cell_type": "code",
   "execution_count": null,
   "id": "366e24e9-d281-41d7-bac1-37b8212632e1",
   "metadata": {},
   "outputs": [],
   "source": []
  },
  {
   "cell_type": "code",
   "execution_count": null,
   "id": "d9590e5f-bed8-436d-9f71-7b5c530f2ce8",
   "metadata": {},
   "outputs": [],
   "source": []
  },
  {
   "cell_type": "markdown",
   "id": "c9d9e011-b4e6-4b2b-b677-60aec6ce1fe1",
   "metadata": {},
   "source": [
    "# flim measurement"
   ]
  },
  {
   "cell_type": "code",
   "execution_count": null,
   "id": "cc14dc6d-591a-47a1-a587-76ba4b1f595a",
   "metadata": {},
   "outputs": [],
   "source": [
    "#if used file writer\n",
    "time_tagger.reset()"
   ]
  },
  {
   "cell_type": "code",
   "execution_count": null,
   "id": "bb0f0c5c-78b4-4bd0-9882-2f1dd73e18ca",
   "metadata": {},
   "outputs": [],
   "source": [
    "laser = 1\n",
    "frame = 3 \n",
    "line = 2\n",
    "photon = -4\n",
    "\n",
    "n_bins = 256\n",
    "binwidth = 49 # 12.5ns/256\n",
    "n_pixel = 256\n",
    "\n",
    "pixel_rate = 200e3\n",
    "pixel_time = 1 / pixel_rate\n",
    "integr_time = 3e9 # Integration time of 3 ms in picoseconds"
   ]
  },
  {
   "cell_type": "code",
   "execution_count": null,
   "id": "5b954e7d-540f-4e1f-8470-49883b7f90ba",
   "metadata": {},
   "outputs": [],
   "source": [
    "# EventGenerator(tagger, trigger_channel, pattern, trigger_divider, stop_channel)\n",
    "#virtual channel\n",
    "pixel_pattern_start = np.linspace(0, n_pixel, num=n_pixel, endpoint=False, dtype=int) * (pixel_time * 1e12)\n",
    "pixel_pattern_end = pixel_pattern_start + integr_time\n",
    "\n",
    "pixel_start_chan = TT.EventGenerator(time_tagger, line, pixel_pattern_start)\n",
    "pixel_end_chan= TT.EventGenerator(time_tagger, line, pixel_pattern_end)"
   ]
  },
  {
   "cell_type": "code",
   "execution_count": null,
   "id": "51a1bed0-60e5-4294-92ac-77fa6f8192d1",
   "metadata": {},
   "outputs": [],
   "source": [
    "#ConstantFractionDiscriminator(tagger, channels, search_window)\n",
    "#virtual channel\n",
    "photon_cfd_chan = TT.ConstantFractionDiscriminator(time_tagger, (photon,), 10*1000)"
   ]
  },
  {
   "cell_type": "code",
   "execution_count": null,
   "id": "f8695a3a-368c-48a4-b2af-d554a0b506c0",
   "metadata": {},
   "outputs": [],
   "source": [
    "#DelayedChannel(tagger, input_channel, delay)\n",
    "#virtual channel\n",
    "delayed_laser_chan = TT.DelayedChannel(time_tagger, laser, 11.5e3)"
   ]
  },
  {
   "cell_type": "code",
   "execution_count": null,
   "id": "d817f550-3fb6-4bd7-b0ff-aa3a4b2f04e8",
   "metadata": {},
   "outputs": [],
   "source": [
    "#possibly don't need frame\n",
    "flim = TT.Flim(time_tagger, start_channel=delayed_laser_chan.getChannel(), click_channel=photon_cfd_chan.getChannels()[0], pixel_begin_channel=pixel_start_chan.getChannel(), \n",
    "            n_pixels=n_pixel*n_pixel, n_bins=n_bins, binwidth=binwidth, pixel_end_channel=pixel_end_chan.getChannel(), frame_begin_channel=frame)"
   ]
  },
  {
   "cell_type": "code",
   "execution_count": null,
   "id": "2e0d12dc-109d-44b0-9bac-95401b8263b8",
   "metadata": {},
   "outputs": [],
   "source": [
    "flim.startFor(duration)"
   ]
  },
  {
   "cell_type": "code",
   "execution_count": null,
   "id": "0d31c4de-8544-4e67-b650-7f9b96cf9606",
   "metadata": {},
   "outputs": [],
   "source": [
    "flim_3d = flim.getSummedFrames().reshape(256,256,256)"
   ]
  },
  {
   "cell_type": "code",
   "execution_count": null,
   "id": "489986ab-dac2-4a00-ba4c-8c00b5d459d1",
   "metadata": {},
   "outputs": [],
   "source": [
    "flim_mean = flim_2d.sum(2)"
   ]
  },
  {
   "cell_type": "code",
   "execution_count": null,
   "id": "c5a6c928-a19f-48bb-a2b7-546674e4d64e",
   "metadata": {},
   "outputs": [],
   "source": [
    "figure(figsize=[7,7])\n",
    "imshow(flim_mean)\n",
    "colorbar()"
   ]
  }
 ],
 "metadata": {
  "kernelspec": {
   "display_name": "Python 3 (ipykernel)",
   "language": "python",
   "name": "python3"
  },
  "language_info": {
   "codemirror_mode": {
    "name": "ipython",
    "version": 3
   },
   "file_extension": ".py",
   "mimetype": "text/x-python",
   "name": "python",
   "nbconvert_exporter": "python",
   "pygments_lexer": "ipython3",
   "version": "3.11.3"
  }
 },
 "nbformat": 4,
 "nbformat_minor": 5
}
