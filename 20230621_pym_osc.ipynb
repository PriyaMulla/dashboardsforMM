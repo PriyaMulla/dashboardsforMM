{
 "cells": [
  {
   "cell_type": "code",
   "execution_count": 1,
   "metadata": {},
   "outputs": [],
   "source": [
    "import pycromanager as pym\n",
    "from pycromanager import Core"
   ]
  },
  {
   "cell_type": "code",
   "execution_count": 3,
   "metadata": {},
   "outputs": [],
   "source": [
    "core = pym.Core()"
   ]
  },
  {
   "cell_type": "code",
   "execution_count": 8,
   "metadata": {},
   "outputs": [],
   "source": [
    "dev = core.get_loaded_devices()"
   ]
  },
  {
   "cell_type": "code",
   "execution_count": 12,
   "metadata": {},
   "outputs": [],
   "source": [
    "def obj_to_lst(obj):\n",
    "    return [obj.get(i) for i in range(obj.size())]"
   ]
  },
  {
   "cell_type": "code",
   "execution_count": 13,
   "metadata": {},
   "outputs": [
    {
     "data": {
      "text/plain": [
       "['COM7',\n",
       " 'OScHub',\n",
       " 'OSc-LSM',\n",
       " 'OSc-Magnifier',\n",
       " 'NIMultiAnalogDev1',\n",
       " 'LED-Dev1ao0',\n",
       " 'PockelsCell-Dev1ao1',\n",
       " 'Shutters-DigitalIODev1',\n",
       " 'UniblitzShutter',\n",
       " 'WhiteLED',\n",
       " 'QCamera',\n",
       " 'TigerCommHub',\n",
       " 'XYStage:XY:31',\n",
       " 'ZStage:Z:32',\n",
       " 'ZStage:F:32',\n",
       " 'Turret:O:35',\n",
       " 'DCC100',\n",
       " 'Core']"
      ]
     },
     "execution_count": 13,
     "metadata": {},
     "output_type": "execute_result"
    }
   ],
   "source": [
    "obj_to_lst(dev)"
   ]
  },
  {
   "cell_type": "code",
   "execution_count": 16,
   "metadata": {},
   "outputs": [],
   "source": [
    "osc = core.get_device_property_names('OSc-LSM')"
   ]
  },
  {
   "cell_type": "code",
   "execution_count": 25,
   "metadata": {},
   "outputs": [],
   "source": [
    "osc_props = obj_to_lst(osc)"
   ]
  },
  {
   "cell_type": "code",
   "execution_count": 22,
   "metadata": {},
   "outputs": [
    {
     "name": "stdout",
     "output_type": "stream",
     "text": [
      "Binning val: 1 \n",
      "\n",
      "Clock val: OpenScan-NIDAQ-at-PXI2Slot2 \n",
      "\n",
      "Detector val: OpenScan-NIDAQ-at-PXI2Slot2 \n",
      "\n",
      "Exposure val: 0.0000 \n",
      "\n",
      "LSM-PixelRateHz val: 1000000.0000 \n",
      "\n",
      "LSM-Resolution val: 1024 \n",
      "\n",
      "LSM-ZoomFactor val: 1.0000 \n",
      "\n",
      "PXI2Slot2-Acq Buffer Size (lines) val: 8 \n",
      "\n",
      "PXI2Slot2-EnableChannel0 val: Yes \n",
      "\n",
      "PXI2Slot2-EnableChannel1 val: No \n",
      "\n",
      "PXI2Slot2-EnableChannel2 val: No \n",
      "\n",
      "PXI2Slot2-EnableChannel3 val: No \n",
      "\n",
      "PXI2Slot2-EnableChannel4 val: No \n",
      "\n",
      "PXI2Slot2-EnableChannel5 val: No \n",
      "\n",
      "PXI2Slot2-EnableChannel6 val: No \n",
      "\n",
      "PXI2Slot2-EnableChannel7 val: No \n",
      "\n",
      "PXI2Slot2-GalvoOffsetX (degree) val: 0.0000 \n",
      "\n",
      "PXI2Slot2-GalvoOffsetY (degree) val: 0.0000 \n",
      "\n",
      "PXI2Slot2-Input Voltage Range val: 10.0000 \n",
      "\n",
      "PXI2Slot2-Line Delay (pixels) val: 50 \n",
      "\n",
      "PXI2Slot2-Parking Position X (pixels) val: 0 \n",
      "\n",
      "PXI2Slot2-Parking Position Y (pixels) val: 0 \n",
      "\n",
      "PXI2Slot2-ScannerOnly val: No \n",
      "\n",
      "Scanner val: OpenScan-NIDAQ-at-PXI2Slot2 \n",
      "\n",
      "TransposeCorrection val: 0 \n",
      "\n",
      "TransposeMirrorX val: 0 \n",
      "\n",
      "TransposeMirrorY val: 0 \n",
      "\n",
      "TransposeXY val: 0 \n",
      "\n"
     ]
    }
   ],
   "source": [
    "for prop in osc_props:\n",
    "    print(prop, \"val:\", core.get_property('OSc-LSM', prop), \"\\n\")"
   ]
  },
  {
   "cell_type": "code",
   "execution_count": 23,
   "metadata": {},
   "outputs": [
    {
     "data": {
      "text/plain": [
       "-1610.8600000000001"
      ]
     },
     "execution_count": 23,
     "metadata": {},
     "output_type": "execute_result"
    }
   ],
   "source": [
    "core.get_x_position()"
   ]
  },
  {
   "cell_type": "code",
   "execution_count": 24,
   "metadata": {},
   "outputs": [
    {
     "data": {
      "text/plain": [
       "12032.77"
      ]
     },
     "execution_count": 24,
     "metadata": {},
     "output_type": "execute_result"
    }
   ],
   "source": [
    "core.get_y_position()"
   ]
  },
  {
   "cell_type": "code",
   "execution_count": 26,
   "metadata": {},
   "outputs": [],
   "source": [
    "xystage = core.get_device_property_names('XYStage:XY:31')"
   ]
  },
  {
   "cell_type": "code",
   "execution_count": 28,
   "metadata": {},
   "outputs": [],
   "source": [
    "xystage_prop = obj_to_lst(xystage)"
   ]
  },
  {
   "cell_type": "code",
   "execution_count": 29,
   "metadata": {},
   "outputs": [
    {
     "name": "stdout",
     "output_type": "stream",
     "text": [
      "AccelerationX-AC(ms) val: 101 \n",
      "\n",
      "AccelerationY-AC(ms) val: 101 \n",
      "\n",
      "AxisLetterX val: X \n",
      "\n",
      "AxisLetterY val: Y \n",
      "\n",
      "AxisPolarityX val: Normal \n",
      "\n",
      "AxisPolarityY val: Normal \n",
      "\n",
      "BacklashX-B(um) val: 40.0000 \n",
      "\n",
      "BacklashY-B(um) val: 40.0000 \n",
      "\n",
      "Description val: ASI XY Stage Xaxis=X Yaxis=Y HexAddr=31 \n",
      "\n",
      "DriftErrorX-E(um) val: 0.4000 \n",
      "\n",
      "DriftErrorY-E(um) val: 0.4000 \n",
      "\n",
      "EnableAdvancedProperties val: No \n",
      "\n",
      "FinishErrorX-PC(um) val: 0.0240 \n",
      "\n",
      "FinishErrorY-PC(um) val: 0.0240 \n",
      "\n",
      "FirmwareBuild val: STD_XY_LED \n",
      "\n",
      "FirmwareDate val: Jul 28 2020:16:09:10 \n",
      "\n",
      "FirmwareVersion val: 3.3200 \n",
      "\n",
      "JoystickEnabled val: Yes \n",
      "\n",
      "JoystickFastSpeed val: 80.0000 \n",
      "\n",
      "JoystickReverse val: No \n",
      "\n",
      "JoystickRotate val: No \n",
      "\n",
      "JoystickSlowSpeed val: 3.0000 \n",
      "\n",
      "LowerLimX(mm) val: -532.3190 \n",
      "\n",
      "LowerLimY(mm) val: -460.6487 \n",
      "\n",
      "MaintainStateX-MA val: 0 - Motors off but correct drift for 0.5 sec \n",
      "\n",
      "MaintainStateY-MA val: 0 - Motors off but correct drift for 0.5 sec \n",
      "\n",
      "MotorOnOffX val: On \n",
      "\n",
      "MotorOnOffY val: On \n",
      "\n",
      "MotorSpeedMaximumX(mm/s) val: 8.5763 \n",
      "\n",
      "MotorSpeedMaximumY(mm/s) val: 8.5763 \n",
      "\n",
      "MotorSpeedMinimumX(um/s) val: 0.6880 \n",
      "\n",
      "MotorSpeedMinimumY(um/s) val: 0.6880 \n",
      "\n",
      "MotorSpeedX(um/s) val: 5745.7600 \n",
      "\n",
      "MotorSpeedX-S(mm/s) val: 5.7458 \n",
      "\n",
      "MotorSpeedY(um/s) val: 5745.7600 \n",
      "\n",
      "MotorSpeedY-S(mm/s) val: 5.7458 \n",
      "\n",
      "Name val: XYStage:XY:31 \n",
      "\n",
      "RefreshPropertyValues val: No \n",
      "\n",
      "RingBufferAutoplayRunning val: No \n",
      "\n",
      "RingBufferDelayBetweenPoints(ms) val: 0 \n",
      "\n",
      "RingBufferMode val: 1 - One Point \n",
      "\n",
      "RingBufferTrigger val: Not done \n",
      "\n",
      "SaveCardSettings val: no action \n",
      "\n",
      "StepSizeX(um) val: 0.0010 \n",
      "\n",
      "StepSizeY(um) val: 0.0010 \n",
      "\n",
      "TigerHexAddress val: 31 \n",
      "\n",
      "TransposeMirrorX val: 0 \n",
      "\n",
      "TransposeMirrorY val: 0 \n",
      "\n",
      "UpperLimX(mm) val: 467.6809 \n",
      "\n",
      "UpperLimY(mm) val: 539.3512 \n",
      "\n",
      "UseSequence val: No \n",
      "\n",
      "VectorMoveX-VE(mm/s) val: 0.0000 \n",
      "\n",
      "VectorMoveY-VE(mm/s) val: 0.0000 \n",
      "\n",
      "WaitTime(ms) val: 0 \n",
      "\n",
      "WheelFastSpeed val: 5.0000 \n",
      "\n",
      "WheelReverse val: No \n",
      "\n",
      "WheelSlowSpeed val: 1.0000 \n",
      "\n"
     ]
    }
   ],
   "source": [
    "for prop in xystage_prop:\n",
    "    print(prop, \"val:\", core.get_property('XYStage:XY:31', prop), \"\\n\")"
   ]
  },
  {
   "cell_type": "code",
   "execution_count": 34,
   "metadata": {},
   "outputs": [
    {
     "data": {
      "text/plain": [
       "2.21"
      ]
     },
     "execution_count": 34,
     "metadata": {},
     "output_type": "execute_result"
    }
   ],
   "source": [
    "#256\n",
    "core.get_pixel_size_um()"
   ]
  },
  {
   "cell_type": "code",
   "execution_count": 35,
   "metadata": {},
   "outputs": [
    {
     "data": {
      "text/plain": [
       "1.105"
      ]
     },
     "execution_count": 35,
     "metadata": {},
     "output_type": "execute_result"
    }
   ],
   "source": [
    "#512\n",
    "core.get_pixel_size_um()"
   ]
  },
  {
   "cell_type": "code",
   "execution_count": 36,
   "metadata": {},
   "outputs": [
    {
     "data": {
      "text/plain": [
       "0.5525"
      ]
     },
     "execution_count": 36,
     "metadata": {},
     "output_type": "execute_result"
    }
   ],
   "source": [
    "#1024\n",
    "core.get_pixel_size_um()"
   ]
  },
  {
   "cell_type": "code",
   "execution_count": 37,
   "metadata": {},
   "outputs": [
    {
     "data": {
      "text/plain": [
       "0.27625"
      ]
     },
     "execution_count": 37,
     "metadata": {},
     "output_type": "execute_result"
    }
   ],
   "source": [
    "#2048\n",
    "core.get_pixel_size_um()"
   ]
  },
  {
   "cell_type": "code",
   "execution_count": null,
   "metadata": {},
   "outputs": [],
   "source": []
  }
 ],
 "metadata": {
  "kernelspec": {
   "display_name": "Python 3",
   "language": "python",
   "name": "python3"
  },
  "language_info": {
   "codemirror_mode": {
    "name": "ipython",
    "version": 3
   },
   "file_extension": ".py",
   "mimetype": "text/x-python",
   "name": "python",
   "nbconvert_exporter": "python",
   "pygments_lexer": "ipython3",
   "version": "3.7.9"
  }
 },
 "nbformat": 4,
 "nbformat_minor": 4
}
