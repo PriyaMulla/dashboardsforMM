{
 "cells": [
  {
   "cell_type": "code",
   "execution_count": 1,
   "metadata": {},
   "outputs": [],
   "source": [
    "import pycromanager as pym\n",
    "from pycromanager import Core\n",
    "import numpy as np\n",
    "from matplotlib.pyplot import *\n"
   ]
  },
  {
   "cell_type": "code",
   "execution_count": 3,
   "metadata": {},
   "outputs": [],
   "source": [
    "core = Core()"
   ]
  },
  {
   "cell_type": "markdown",
   "metadata": {},
   "source": [
    "# osc-lsm info"
   ]
  },
  {
   "cell_type": "code",
   "execution_count": 8,
   "metadata": {},
   "outputs": [],
   "source": [
    "dev = core.get_loaded_devices()"
   ]
  },
  {
   "cell_type": "code",
   "execution_count": 8,
   "metadata": {},
   "outputs": [],
   "source": [
    "def obj_to_lst(obj):\n",
    "    return [obj.get(i) for i in range(obj.size())]"
   ]
  },
  {
   "cell_type": "code",
   "execution_count": 13,
   "metadata": {},
   "outputs": [
    {
     "data": {
      "text/plain": [
       "['COM7',\n",
       " 'OScHub',\n",
       " 'OSc-LSM',\n",
       " 'OSc-Magnifier',\n",
       " 'NIMultiAnalogDev1',\n",
       " 'LED-Dev1ao0',\n",
       " 'PockelsCell-Dev1ao1',\n",
       " 'Shutters-DigitalIODev1',\n",
       " 'UniblitzShutter',\n",
       " 'WhiteLED',\n",
       " 'QCamera',\n",
       " 'TigerCommHub',\n",
       " 'XYStage:XY:31',\n",
       " 'ZStage:Z:32',\n",
       " 'ZStage:F:32',\n",
       " 'Turret:O:35',\n",
       " 'DCC100',\n",
       " 'Core']"
      ]
     },
     "execution_count": 13,
     "metadata": {},
     "output_type": "execute_result"
    }
   ],
   "source": [
    "obj_to_lst(dev)"
   ]
  },
  {
   "cell_type": "code",
   "execution_count": 16,
   "metadata": {},
   "outputs": [],
   "source": [
    "osc = core.get_device_property_names('OSc-LSM')"
   ]
  },
  {
   "cell_type": "code",
   "execution_count": 25,
   "metadata": {},
   "outputs": [],
   "source": [
    "osc_props = obj_to_lst(osc)"
   ]
  },
  {
   "cell_type": "code",
   "execution_count": 22,
   "metadata": {},
   "outputs": [
    {
     "name": "stdout",
     "output_type": "stream",
     "text": [
      "Binning val: 1 \n",
      "\n",
      "Clock val: OpenScan-NIDAQ-at-PXI2Slot2 \n",
      "\n",
      "Detector val: OpenScan-NIDAQ-at-PXI2Slot2 \n",
      "\n",
      "Exposure val: 0.0000 \n",
      "\n",
      "LSM-PixelRateHz val: 1000000.0000 \n",
      "\n",
      "LSM-Resolution val: 1024 \n",
      "\n",
      "LSM-ZoomFactor val: 1.0000 \n",
      "\n",
      "PXI2Slot2-Acq Buffer Size (lines) val: 8 \n",
      "\n",
      "PXI2Slot2-EnableChannel0 val: Yes \n",
      "\n",
      "PXI2Slot2-EnableChannel1 val: No \n",
      "\n",
      "PXI2Slot2-EnableChannel2 val: No \n",
      "\n",
      "PXI2Slot2-EnableChannel3 val: No \n",
      "\n",
      "PXI2Slot2-EnableChannel4 val: No \n",
      "\n",
      "PXI2Slot2-EnableChannel5 val: No \n",
      "\n",
      "PXI2Slot2-EnableChannel6 val: No \n",
      "\n",
      "PXI2Slot2-EnableChannel7 val: No \n",
      "\n",
      "PXI2Slot2-GalvoOffsetX (degree) val: 0.0000 \n",
      "\n",
      "PXI2Slot2-GalvoOffsetY (degree) val: 0.0000 \n",
      "\n",
      "PXI2Slot2-Input Voltage Range val: 10.0000 \n",
      "\n",
      "PXI2Slot2-Line Delay (pixels) val: 50 \n",
      "\n",
      "PXI2Slot2-Parking Position X (pixels) val: 0 \n",
      "\n",
      "PXI2Slot2-Parking Position Y (pixels) val: 0 \n",
      "\n",
      "PXI2Slot2-ScannerOnly val: No \n",
      "\n",
      "Scanner val: OpenScan-NIDAQ-at-PXI2Slot2 \n",
      "\n",
      "TransposeCorrection val: 0 \n",
      "\n",
      "TransposeMirrorX val: 0 \n",
      "\n",
      "TransposeMirrorY val: 0 \n",
      "\n",
      "TransposeXY val: 0 \n",
      "\n"
     ]
    }
   ],
   "source": [
    "for prop in osc_props:\n",
    "    print(prop, \"val:\", core.get_property('OSc-LSM', prop), \"\\n\")"
   ]
  },
  {
   "cell_type": "code",
   "execution_count": 23,
   "metadata": {},
   "outputs": [
    {
     "data": {
      "text/plain": [
       "-1610.8600000000001"
      ]
     },
     "execution_count": 23,
     "metadata": {},
     "output_type": "execute_result"
    }
   ],
   "source": [
    "core.get_x_position()"
   ]
  },
  {
   "cell_type": "code",
   "execution_count": 24,
   "metadata": {},
   "outputs": [
    {
     "data": {
      "text/plain": [
       "12032.77"
      ]
     },
     "execution_count": 24,
     "metadata": {},
     "output_type": "execute_result"
    }
   ],
   "source": [
    "core.get_y_position()"
   ]
  },
  {
   "cell_type": "code",
   "execution_count": 26,
   "metadata": {},
   "outputs": [],
   "source": [
    "xystage = core.get_device_property_names('XYStage:XY:31')"
   ]
  },
  {
   "cell_type": "code",
   "execution_count": 28,
   "metadata": {},
   "outputs": [],
   "source": [
    "xystage_prop = obj_to_lst(xystage)"
   ]
  },
  {
   "cell_type": "code",
   "execution_count": 29,
   "metadata": {},
   "outputs": [
    {
     "name": "stdout",
     "output_type": "stream",
     "text": [
      "AccelerationX-AC(ms) val: 101 \n",
      "\n",
      "AccelerationY-AC(ms) val: 101 \n",
      "\n",
      "AxisLetterX val: X \n",
      "\n",
      "AxisLetterY val: Y \n",
      "\n",
      "AxisPolarityX val: Normal \n",
      "\n",
      "AxisPolarityY val: Normal \n",
      "\n",
      "BacklashX-B(um) val: 40.0000 \n",
      "\n",
      "BacklashY-B(um) val: 40.0000 \n",
      "\n",
      "Description val: ASI XY Stage Xaxis=X Yaxis=Y HexAddr=31 \n",
      "\n",
      "DriftErrorX-E(um) val: 0.4000 \n",
      "\n",
      "DriftErrorY-E(um) val: 0.4000 \n",
      "\n",
      "EnableAdvancedProperties val: No \n",
      "\n",
      "FinishErrorX-PC(um) val: 0.0240 \n",
      "\n",
      "FinishErrorY-PC(um) val: 0.0240 \n",
      "\n",
      "FirmwareBuild val: STD_XY_LED \n",
      "\n",
      "FirmwareDate val: Jul 28 2020:16:09:10 \n",
      "\n",
      "FirmwareVersion val: 3.3200 \n",
      "\n",
      "JoystickEnabled val: Yes \n",
      "\n",
      "JoystickFastSpeed val: 80.0000 \n",
      "\n",
      "JoystickReverse val: No \n",
      "\n",
      "JoystickRotate val: No \n",
      "\n",
      "JoystickSlowSpeed val: 3.0000 \n",
      "\n",
      "LowerLimX(mm) val: -532.3190 \n",
      "\n",
      "LowerLimY(mm) val: -460.6487 \n",
      "\n",
      "MaintainStateX-MA val: 0 - Motors off but correct drift for 0.5 sec \n",
      "\n",
      "MaintainStateY-MA val: 0 - Motors off but correct drift for 0.5 sec \n",
      "\n",
      "MotorOnOffX val: On \n",
      "\n",
      "MotorOnOffY val: On \n",
      "\n",
      "MotorSpeedMaximumX(mm/s) val: 8.5763 \n",
      "\n",
      "MotorSpeedMaximumY(mm/s) val: 8.5763 \n",
      "\n",
      "MotorSpeedMinimumX(um/s) val: 0.6880 \n",
      "\n",
      "MotorSpeedMinimumY(um/s) val: 0.6880 \n",
      "\n",
      "MotorSpeedX(um/s) val: 5745.7600 \n",
      "\n",
      "MotorSpeedX-S(mm/s) val: 5.7458 \n",
      "\n",
      "MotorSpeedY(um/s) val: 5745.7600 \n",
      "\n",
      "MotorSpeedY-S(mm/s) val: 5.7458 \n",
      "\n",
      "Name val: XYStage:XY:31 \n",
      "\n",
      "RefreshPropertyValues val: No \n",
      "\n",
      "RingBufferAutoplayRunning val: No \n",
      "\n",
      "RingBufferDelayBetweenPoints(ms) val: 0 \n",
      "\n",
      "RingBufferMode val: 1 - One Point \n",
      "\n",
      "RingBufferTrigger val: Not done \n",
      "\n",
      "SaveCardSettings val: no action \n",
      "\n",
      "StepSizeX(um) val: 0.0010 \n",
      "\n",
      "StepSizeY(um) val: 0.0010 \n",
      "\n",
      "TigerHexAddress val: 31 \n",
      "\n",
      "TransposeMirrorX val: 0 \n",
      "\n",
      "TransposeMirrorY val: 0 \n",
      "\n",
      "UpperLimX(mm) val: 467.6809 \n",
      "\n",
      "UpperLimY(mm) val: 539.3512 \n",
      "\n",
      "UseSequence val: No \n",
      "\n",
      "VectorMoveX-VE(mm/s) val: 0.0000 \n",
      "\n",
      "VectorMoveY-VE(mm/s) val: 0.0000 \n",
      "\n",
      "WaitTime(ms) val: 0 \n",
      "\n",
      "WheelFastSpeed val: 5.0000 \n",
      "\n",
      "WheelReverse val: No \n",
      "\n",
      "WheelSlowSpeed val: 1.0000 \n",
      "\n"
     ]
    }
   ],
   "source": [
    "for prop in xystage_prop:\n",
    "    print(prop, \"val:\", core.get_property('XYStage:XY:31', prop), \"\\n\")"
   ]
  },
  {
   "cell_type": "code",
   "execution_count": 34,
   "metadata": {},
   "outputs": [
    {
     "data": {
      "text/plain": [
       "2.21"
      ]
     },
     "execution_count": 34,
     "metadata": {},
     "output_type": "execute_result"
    }
   ],
   "source": [
    "#256\n",
    "core.get_pixel_size_um()"
   ]
  },
  {
   "cell_type": "code",
   "execution_count": 35,
   "metadata": {},
   "outputs": [
    {
     "data": {
      "text/plain": [
       "1.105"
      ]
     },
     "execution_count": 35,
     "metadata": {},
     "output_type": "execute_result"
    }
   ],
   "source": [
    "#512\n",
    "core.get_pixel_size_um()"
   ]
  },
  {
   "cell_type": "code",
   "execution_count": 36,
   "metadata": {},
   "outputs": [
    {
     "data": {
      "text/plain": [
       "0.5525"
      ]
     },
     "execution_count": 36,
     "metadata": {},
     "output_type": "execute_result"
    }
   ],
   "source": [
    "#1024\n",
    "core.get_pixel_size_um()"
   ]
  },
  {
   "cell_type": "code",
   "execution_count": 37,
   "metadata": {},
   "outputs": [
    {
     "data": {
      "text/plain": [
       "0.27625"
      ]
     },
     "execution_count": 37,
     "metadata": {},
     "output_type": "execute_result"
    }
   ],
   "source": [
    "#2048\n",
    "core.get_pixel_size_um()"
   ]
  },
  {
   "cell_type": "code",
   "execution_count": null,
   "metadata": {},
   "outputs": [],
   "source": []
  },
  {
   "cell_type": "markdown",
   "metadata": {},
   "source": [
    "# roi try"
   ]
  },
  {
   "cell_type": "code",
   "execution_count": 36,
   "metadata": {},
   "outputs": [],
   "source": [
    "core.set_roi(3,5,256,256)\n",
    "\n",
    "#pixel (local)point of image, pixel (local)point of image, pixel size, pixel size"
   ]
  },
  {
   "cell_type": "code",
   "execution_count": 37,
   "metadata": {},
   "outputs": [],
   "source": [
    "q = core.get_roi()"
   ]
  },
  {
   "cell_type": "code",
   "execution_count": 38,
   "metadata": {},
   "outputs": [],
   "source": [
    "def roi_test():\n",
    "    q = core.get_roi()\n",
    "    print(\"shape:\", q.to_string(), \"\\n\",\n",
    "          \"center x:\", q.get_center_x(), \"\\n\",\n",
    "          \"center y:\", q.get_center_y(), \"\\n\",\n",
    "          \"max x:\", q.get_max_x(), \"\\n\",\n",
    "          \"max y:\", q.get_max_y(), \"\\n\",\n",
    "          \"min x:\", q.get_min_x(), \"\\n\",\n",
    "          \"min y:\", q.get_min_y(), \"\\n\",\n",
    "          \"roi x pos:\", q.get_x(), \"\\n\",\n",
    "          \"roi y pos:\", q.get_y(), \"\\n\")"
   ]
  },
  {
   "cell_type": "code",
   "execution_count": 41,
   "metadata": {},
   "outputs": [
    {
     "name": "stdout",
     "output_type": "stream",
     "text": [
      "shape: java.awt.Rectangle[x=3,y=5,width=256,height=256] \n",
      " center x: 131 \n",
      " center y: 133 \n",
      " max x: 259 \n",
      " max y: 261 \n",
      " min x: 3 \n",
      " min y: 5 \n",
      " roi x pos: 3 \n",
      " roi y pos: 5 \n",
      "\n"
     ]
    }
   ],
   "source": [
    "#everything based on pixels of current image (==| array points)\n",
    "#stage position doesn't move at all\n",
    "\n",
    "roi_test()"
   ]
  },
  {
   "cell_type": "code",
   "execution_count": null,
   "metadata": {},
   "outputs": [],
   "source": []
  },
  {
   "cell_type": "code",
   "execution_count": 31,
   "metadata": {},
   "outputs": [
    {
     "data": {
      "text/plain": [
       "6.029999999999999"
      ]
     },
     "execution_count": 31,
     "metadata": {},
     "output_type": "execute_result"
    }
   ],
   "source": [
    "core.get_x_position()"
   ]
  },
  {
   "cell_type": "code",
   "execution_count": 19,
   "metadata": {},
   "outputs": [],
   "source": [
    "core.snap_image()"
   ]
  },
  {
   "cell_type": "code",
   "execution_count": 20,
   "metadata": {},
   "outputs": [
    {
     "data": {
      "text/plain": [
       "<matplotlib.image.AxesImage at 0x14f018d0970>"
      ]
     },
     "execution_count": 20,
     "metadata": {},
     "output_type": "execute_result"
    },
    {
     "data": {
      "image/png": "[encoded data removed]",
      "text/plain": [
       "<Figure size 640x480 with 1 Axes>"
      ]
     },
     "metadata": {},
     "output_type": "display_data"
    }
   ],
   "source": [
    "tagged_image = core.get_tagged_image()\n",
    "pixels = np.reshape(tagged_image.pix,\n",
    "                        newshape=[tagged_image.tags['Height'], tagged_image.tags['Width']])\n",
    "imshow(pixels)"
   ]
  },
  {
   "cell_type": "code",
   "execution_count": null,
   "metadata": {},
   "outputs": [],
   "source": []
  },
  {
   "cell_type": "code",
   "execution_count": 42,
   "metadata": {},
   "outputs": [],
   "source": [
    "core.clear_roi()"
   ]
  },
  {
   "cell_type": "code",
   "execution_count": 43,
   "metadata": {},
   "outputs": [
    {
     "name": "stdout",
     "output_type": "stream",
     "text": [
      "shape: java.awt.Rectangle[x=0,y=0,width=512,height=512] \n",
      " center x: 256 \n",
      " center y: 256 \n",
      " max x: 512 \n",
      " max y: 512 \n",
      " min x: 0 \n",
      " min y: 0 \n",
      " roi x pos: 0 \n",
      " roi y pos: 0 \n",
      "\n"
     ]
    }
   ],
   "source": [
    "roi_test()"
   ]
  },
  {
   "cell_type": "code",
   "execution_count": 44,
   "metadata": {},
   "outputs": [
    {
     "data": {
      "text/plain": [
       "<matplotlib.image.AxesImage at 0x14f01903c40>"
      ]
     },
     "execution_count": 44,
     "metadata": {},
     "output_type": "execute_result"
    },
    {
     "data": {
      "image/png": "[encoded data removed]",
      "text/plain": [
       "<Figure size 640x480 with 1 Axes>"
      ]
     },
     "metadata": {},
     "output_type": "display_data"
    }
   ],
   "source": [
    "core.snap_image()\n",
    "tagged_image = core.get_tagged_image()\n",
    "pixels = np.reshape(tagged_image.pix,\n",
    "                        newshape=[tagged_image.tags['Height'], tagged_image.tags['Width']])\n",
    "imshow(pixels)"
   ]
  },
  {
   "cell_type": "code",
   "execution_count": 46,
   "metadata": {},
   "outputs": [
    {
     "data": {
      "text/plain": [
       "['DHub',\n",
       " 'Camera',\n",
       " 'Dichroic',\n",
       " 'Emission',\n",
       " 'Excitation',\n",
       " 'Objective',\n",
       " 'Z',\n",
       " 'Path',\n",
       " 'XY',\n",
       " 'Shutter',\n",
       " 'Autofocus',\n",
       " 'Core']"
      ]
     },
     "execution_count": 46,
     "metadata": {},
     "output_type": "execute_result"
    }
   ],
   "source": [
    "dev = core.get_loaded_devices()\n",
    "obj_to_lst(dev)"
   ]
  },
  {
   "cell_type": "markdown",
   "metadata": {},
   "source": [
    "# roi steps"
   ]
  },
  {
   "cell_type": "code",
   "execution_count": 5,
   "metadata": {},
   "outputs": [
    {
     "data": {
      "text/plain": [
       "512"
      ]
     },
     "execution_count": 5,
     "metadata": {},
     "output_type": "execute_result"
    }
   ],
   "source": [
    "#core.get_property('OSc-LSM', 'LSM-Resolution')\n",
    "im_pix_size = int(core.get_property('Camera', 'OnCameraCCDYSize'))\n",
    "im_pix_size"
   ]
  },
  {
   "cell_type": "code",
   "execution_count": 6,
   "metadata": {},
   "outputs": [
    {
     "data": {
      "text/plain": [
       "256"
      ]
     },
     "execution_count": 6,
     "metadata": {},
     "output_type": "execute_result"
    }
   ],
   "source": [
    "#if ROI were half the image size (so 512/2 = 256)\n",
    "transl_poi = int(im_pix_size/2)\n",
    "transl_poi"
   ]
  },
  {
   "cell_type": "code",
   "execution_count": 9,
   "metadata": {},
   "outputs": [
    {
     "name": "stdout",
     "output_type": "stream",
     "text": [
      "['10X', '20X', '40X']\n"
     ]
    },
    {
     "data": {
      "text/plain": [
       "'10X'"
      ]
     },
     "execution_count": 9,
     "metadata": {},
     "output_type": "execute_result"
    }
   ],
   "source": [
    "#would be 'res' and list of ['128','256','512'..]\n",
    "camera_config_presets = core.get_available_configs('Objective')\n",
    "print(obj_to_lst(camera_config_presets))\n",
    "core.get_current_config('Objective')"
   ]
  },
  {
   "cell_type": "code",
   "execution_count": 10,
   "metadata": {},
   "outputs": [
    {
     "data": {
      "text/plain": [
       "'20X'"
      ]
     },
     "execution_count": 10,
     "metadata": {},
     "output_type": "execute_result"
    }
   ],
   "source": [
    "#set new res/ objective in this case, (.5 um/pix)\n",
    "core.set_config('Objective', '20X')\n",
    "core.get_current_config('Objective')"
   ]
  },
  {
   "cell_type": "code",
   "execution_count": 12,
   "metadata": {},
   "outputs": [],
   "source": [
    "#if poi were 90p, 50p\n",
    "core.set_roi(90-transl_poi,50-transl_poi,im_pix_size,im_pix_size)\n"
   ]
  },
  {
   "cell_type": "code",
   "execution_count": null,
   "metadata": {},
   "outputs": [],
   "source": []
  }
 ],
 "metadata": {
  "kernelspec": {
   "display_name": "Python 3 (ipykernel)",
   "language": "python",
   "name": "python3"
  },
  "language_info": {
   "codemirror_mode": {
    "name": "ipython",
    "version": 3
   },
   "file_extension": ".py",
   "mimetype": "text/x-python",
   "name": "python",
   "nbconvert_exporter": "python",
   "pygments_lexer": "ipython3",
   "version": "3.11.0"
  }
 },
 "nbformat": 4,
 "nbformat_minor": 4
}
