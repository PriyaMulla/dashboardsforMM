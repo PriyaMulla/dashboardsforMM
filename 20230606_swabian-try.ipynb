{
 "cells": [
  {
   "cell_type": "markdown",
   "id": "341475f0-3162-4685-9301-940e2c14a8dc",
   "metadata": {},
   "source": [
    "# env: swabian"
   ]
  },
  {
   "cell_type": "code",
   "execution_count": 1,
   "id": "bd6d44c0-dcf6-42d2-9d2b-5f2c71ad95a1",
   "metadata": {},
   "outputs": [],
   "source": [
    "import TimeTagger as TT\n",
    "from TimeTagger import Flim, TimeTagStream, createTimeTaggerVirtual, EventGenerator, Countrate \n",
    "#from intensity_renderer import IntensityRenderer\n",
    "import numpy as np\n",
    "from matplotlib.pyplot import *"
   ]
  },
  {
   "cell_type": "code",
   "execution_count": 2,
   "id": "22cd6b36-86a6-4c1d-b7e7-b039166f11a1",
   "metadata": {},
   "outputs": [],
   "source": [
    "dump_file = r\"C:\\Users\\lociu\\Desktop\\PriyaM\\Data\\Swabian_tests\\test.ttbin\""
   ]
  },
  {
   "cell_type": "markdown",
   "id": "4c2bc33b-7b4b-4eca-a271-59a18b1b8251",
   "metadata": {},
   "source": [
    "# flim"
   ]
  },
  {
   "cell_type": "code",
   "execution_count": 3,
   "id": "59b9da73-bcf7-47ba-83f6-44e2dd68e25c",
   "metadata": {},
   "outputs": [
    {
     "data": {
      "text/plain": [
       "5e-06"
      ]
     },
     "execution_count": 3,
     "metadata": {},
     "output_type": "execute_result"
    }
   ],
   "source": [
    "laser = 1\n",
    "click = laser\n",
    "frame = 3 \n",
    "frame_n = -3\n",
    "line = 2\n",
    "line_n = -2\n",
    "photon = 4\n",
    "\n",
    "bins = 256\n",
    "binwidth = 49 # 12.5ns/256\n",
    "n_pixel = 256\n",
    "\n",
    "#from example\n",
    "laser_frequency = 80e6  # 1/12.5ns\n",
    "\n",
    "pixel_rate = 200e3\n",
    "pixel_time = 1 / pixel_rate\n",
    "pixel_time"
   ]
  },
  {
   "cell_type": "code",
   "execution_count": 4,
   "id": "b55727e6-f95c-4bf9-9c71-7b13ab233caf",
   "metadata": {},
   "outputs": [],
   "source": [
    "pixel_pattern = np.linspace(0,256,num=256,endpoint=False, dtype=int) * (pixel_time * 1e12)"
   ]
  },
  {
   "cell_type": "code",
   "execution_count": 5,
   "id": "2850c356-1f1e-41fc-bff8-8abeeca95267",
   "metadata": {},
   "outputs": [],
   "source": [
    "time_tag_virt=TT.createTimeTaggerVirtual()"
   ]
  },
  {
   "cell_type": "code",
   "execution_count": 6,
   "id": "cb4246ef-81ec-41e3-b0be-d0ba919b54b0",
   "metadata": {},
   "outputs": [],
   "source": [
    "# EventGenerator(tagger, trigger_channel, pattern, trigger_divider, stop_channel)\n",
    "pixel_measurement = EventGenerator(time_tag_virt, line, pixel_pattern)"
   ]
  },
  {
   "cell_type": "code",
   "execution_count": 7,
   "id": "a5a3922e-dde0-4f14-b6c1-7ebe0b382304",
   "metadata": {},
   "outputs": [
    {
     "data": {
      "text/plain": [
       "258"
      ]
     },
     "execution_count": 7,
     "metadata": {},
     "output_type": "execute_result"
    }
   ],
   "source": [
    "pixel = pixel_measurement.getChannel()\n",
    "pixel"
   ]
  },
  {
   "cell_type": "code",
   "execution_count": 8,
   "id": "e0b3b87c-f692-47e0-a9f5-46b3da1a339c",
   "metadata": {},
   "outputs": [],
   "source": [
    "# Countrate(tagger, channels)\n",
    "rate = Countrate(time_tag_virt, [frame, line, pixel])"
   ]
  },
  {
   "cell_type": "code",
   "execution_count": 9,
   "id": "4b725ff3-52a2-40f8-939b-2b708a25d0d4",
   "metadata": {},
   "outputs": [],
   "source": [
    "all_rates = Countrate(time_tag_virt, [1, 2, 3, 4, -1, -2, -3, -4])"
   ]
  },
  {
   "cell_type": "code",
   "execution_count": 10,
   "id": "117cc15e-2e0e-4891-9353-c83223190ffa",
   "metadata": {},
   "outputs": [],
   "source": [
    "intervals = TT.StartStop(time_tag_virt, -line, line, 0.1e-3/1e-12)"
   ]
  },
  {
   "cell_type": "code",
   "execution_count": 11,
   "id": "eea1f9e1-0977-4a7d-a339-3455a31f77d5",
   "metadata": {},
   "outputs": [
    {
     "data": {
      "text/plain": [
       "True"
      ]
     },
     "execution_count": 11,
     "metadata": {},
     "output_type": "execute_result"
    }
   ],
   "source": [
    "%%time\n",
    "time_tag_virt.setReplaySpeed(0.7)\n",
    "replay = time_tag_virt.replay(dump_file)\n",
    "time_tag_virt.waitForCompletion()"
   ]
  },
  {
   "cell_type": "code",
   "execution_count": 12,
   "id": "42ec154b-9e95-4d44-a857-9ee700cfc515",
   "metadata": {},
   "outputs": [
    {
     "data": {
      "text/plain": [
       "array([1.28486282e+00, 3.29336697e+02, 2.02921350e+04])"
      ]
     },
     "execution_count": 12,
     "metadata": {},
     "output_type": "execute_result"
    }
   ],
   "source": [
    "#check that pixel clock is correct\n",
    "# Run Countrate for 1 second and print the result for all three channels\n",
    "#rate.startFor(int(1e12), clear=True)\n",
    "#rate.waitUntilFinished()\n",
    "comp_data = rate.getData()\n",
    "comp_data"
   ]
  },
  {
   "cell_type": "code",
   "execution_count": 13,
   "id": "a35acf4e-5a49-4e48-8913-f1976bddb596",
   "metadata": {},
   "outputs": [
    {
     "name": "stdout",
     "output_type": "stream",
     "text": [
      "lines/frame =  256.3205128205128\n",
      "pixels/line =  61.61516530785775\n"
     ]
    }
   ],
   "source": [
    "print(\"lines/frame = \", comp_data[1]/comp_data[0])\n",
    "print(\"pixels/line = \", comp_data[2]/comp_data[1])"
   ]
  },
  {
   "cell_type": "code",
   "execution_count": 232,
   "id": "7e93d228-4a41-4453-889a-1d627e1de199",
   "metadata": {},
   "outputs": [
    {
     "data": {
      "text/plain": [
       "array([7.56482430e+07, 3.79684552e+02, 1.48128820e+00, 1.88861283e+05,\n",
       "       7.56482430e+07, 3.79684552e+02, 1.48128820e+00, 1.88915559e+05])"
      ]
     },
     "execution_count": 232,
     "metadata": {},
     "output_type": "execute_result"
    }
   ],
   "source": [
    "all_rates.getData()"
   ]
  },
  {
   "cell_type": "code",
   "execution_count": 19,
   "id": "755fbed0-a582-41c7-a5c7-13bcbb67a04a",
   "metadata": {},
   "outputs": [
    {
     "data": {
      "text/plain": [
       "array([[1200000000,       4797]], dtype=int64)"
      ]
     },
     "execution_count": 19,
     "metadata": {},
     "output_type": "execute_result"
    }
   ],
   "source": [
    "fi = intervals.getData()\n",
    "fi"
   ]
  },
  {
   "cell_type": "markdown",
   "id": "635dd4b1-ea26-4236-ba3e-34cb0ee5cfa8",
   "metadata": {
    "tags": []
   },
   "source": [
    "# flim class"
   ]
  },
  {
   "cell_type": "code",
   "execution_count": 20,
   "id": "ff8a54a6-247e-4508-a443-64cd12eecb87",
   "metadata": {},
   "outputs": [],
   "source": [
    "time_tag_virt=TT.createTimeTaggerVirtual()\n",
    "time_tag_virt.reset()\n",
    "# EventGenerator(tagger, trigger_channel, pattern, trigger_divider, stop_channel)\n",
    "pixel_measurement = EventGenerator(time_tag_virt, line, pixel_pattern)\n",
    "pixel = pixel_measurement.getChannel()"
   ]
  },
  {
   "cell_type": "code",
   "execution_count": 21,
   "id": "01366005-8277-4cb1-9b2c-1cd1752046df",
   "metadata": {},
   "outputs": [],
   "source": [
    "flim = Flim(time_tag_virt, start_channel=photon, click_channel=laser, pixel_begin_channel=pixel, n_pixels=n_pixel*n_pixel,\n",
    "             n_bins=bins, binwidth=binwidth, frame_begin_channel=frame)"
   ]
  },
  {
   "cell_type": "code",
   "execution_count": 22,
   "id": "65bec6e2-fd84-4232-a882-3bfef52a1f7e",
   "metadata": {},
   "outputs": [
    {
     "name": "stdout",
     "output_type": "stream",
     "text": [
      "CPU times: total: 1min 4s\n",
      "Wall time: 17.8 s\n"
     ]
    },
    {
     "data": {
      "text/plain": [
       "True"
      ]
     },
     "execution_count": 38,
     "metadata": {},
     "output_type": "execute_result"
    }
   ],
   "source": [
    "%%time\n",
    "time_tag_virt.setReplaySpeed(0.7)\n",
    "replay = time_tag_virt.replay(dump_file)\n",
    "time_tag_virt.waitForCompletion()"
   ]
  },
  {
   "cell_type": "code",
   "execution_count": 23,
   "id": "b18b3ba4-4a22-4737-8283-587ac04c7016",
   "metadata": {},
   "outputs": [
    {
     "data": {
      "text/plain": [
       "21"
      ]
     },
     "execution_count": 39,
     "metadata": {},
     "output_type": "execute_result"
    }
   ],
   "source": [
    "flim.waitUntilFinished()\n",
    "flim.getFramesAcquired()"
   ]
  },
  {
   "cell_type": "code",
   "execution_count": 24,
   "id": "7f926f50-5737-44eb-8e22-9561fe331784",
   "metadata": {},
   "outputs": [],
   "source": [
    "flim_frames = flim.getSummedFrames()"
   ]
  },
  {
   "cell_type": "code",
   "execution_count": 27,
   "id": "69455ab4-471b-471c-a067-2c27a8df13a7",
   "metadata": {},
   "outputs": [
    {
     "data": {
      "text/plain": [
       "array([[0, 4, 2, ..., 1, 2, 4],\n",
       "       [0, 0, 0, ..., 0, 0, 1],\n",
       "       [0, 0, 0, ..., 0, 0, 0],\n",
       "       ...,\n",
       "       [0, 0, 0, ..., 0, 0, 0],\n",
       "       [0, 0, 0, ..., 0, 0, 0],\n",
       "       [0, 0, 0, ..., 0, 0, 0]], dtype=uint32)"
      ]
     },
     "execution_count": 27,
     "metadata": {},
     "output_type": "execute_result"
    }
   ],
   "source": [
    "flim_frames"
   ]
  },
  {
   "cell_type": "code",
   "execution_count": 91,
   "id": "bef74bd4-97ea-4505-9a8e-9f2147134c72",
   "metadata": {},
   "outputs": [
    {
     "data": {
      "text/plain": [
       "(65536, 256)"
      ]
     },
     "execution_count": 91,
     "metadata": {},
     "output_type": "execute_result"
    }
   ],
   "source": [
    "flim_frames.shape"
   ]
  },
  {
   "cell_type": "code",
   "execution_count": 28,
   "id": "7afa164c-2b2c-4b9f-90db-8c3cf96fbb63",
   "metadata": {},
   "outputs": [],
   "source": [
    "flim_2d = flim_frames.reshape(256,256,256)"
   ]
  },
  {
   "cell_type": "code",
   "execution_count": 29,
   "id": "2a0e02e2-09f8-41be-ba49-e49c41c90e5c",
   "metadata": {},
   "outputs": [
    {
     "data": {
      "text/plain": [
       "(256, 256)"
      ]
     },
     "execution_count": 29,
     "metadata": {},
     "output_type": "execute_result"
    }
   ],
   "source": [
    "flim_minus_last = flim_2d[:,:,:].sum(2)\n",
    "flim_minus_last.shape"
   ]
  },
  {
   "cell_type": "code",
   "execution_count": 30,
   "id": "8f9bf729-56e3-4018-a42d-51fb043a6361",
   "metadata": {},
   "outputs": [
    {
     "data": {
      "text/plain": [
       "array([[1270,    2,    1, ...,    0,    1,   99],\n",
       "       [ 106,    0,    1, ...,    2,    0,   92],\n",
       "       [ 106,    0,    1, ...,    0,    1,  102],\n",
       "       ...,\n",
       "       [   0,    1,    0, ...,    1,    1,    1],\n",
       "       [   0,    0,    2, ...,    0,    1,    0],\n",
       "       [   0,    0,    0, ...,    0,    0,    0]], dtype=uint32)"
      ]
     },
     "execution_count": 30,
     "metadata": {},
     "output_type": "execute_result"
    }
   ],
   "source": [
    "flim_minus_last"
   ]
  },
  {
   "cell_type": "code",
   "execution_count": 31,
   "id": "2fbb7717-da01-44c9-9b77-2244b1379dc3",
   "metadata": {},
   "outputs": [
    {
     "data": {
      "text/plain": [
       "(0, 1270)"
      ]
     },
     "execution_count": 31,
     "metadata": {},
     "output_type": "execute_result"
    }
   ],
   "source": [
    "flim_minus_last.min(), flim_minus_last.max()"
   ]
  },
  {
   "cell_type": "code",
   "execution_count": 32,
   "id": "c91eab75-72cd-4a09-820e-eff0365123d1",
   "metadata": {},
   "outputs": [
    {
     "data": {
      "text/plain": [
       "(7, 0)"
      ]
     },
     "execution_count": 32,
     "metadata": {},
     "output_type": "execute_result"
    }
   ],
   "source": [
    "flim_minus_last.argmin(), flim_minus_last.argmax()"
   ]
  },
  {
   "cell_type": "code",
   "execution_count": 33,
   "id": "fa122159-07fc-4d42-a275-70835bb2c7ca",
   "metadata": {},
   "outputs": [
    {
     "data": {
      "text/plain": [
       "(3.0870361328125, 16.018424653307655)"
      ]
     },
     "execution_count": 33,
     "metadata": {},
     "output_type": "execute_result"
    }
   ],
   "source": [
    "flim_minus_last.mean(), flim_minus_last.std()"
   ]
  },
  {
   "cell_type": "code",
   "execution_count": 34,
   "id": "9de6dfbd-80cc-4a3e-b271-a1f47d453d45",
   "metadata": {},
   "outputs": [
    {
     "data": {
      "text/plain": [
       "<matplotlib.image.AxesImage at 0x12a03cc7bd0>"
      ]
     },
     "execution_count": 41,
     "metadata": {},
     "output_type": "execute_result"
    },
    {
     "data": {
      "image/png": "[encoded data removed]",
      "text/plain": [
       "<Figure size 360x360 with 1 Axes>"
      ]
     },
     "metadata": {
      "needs_background": "light"
     },
     "output_type": "display_data"
    }
   ],
   "source": [
    "#rcParams['figure.figsize'] = [10,10]\n",
    "figure(figsize=[5,5])\n",
    "imshow(flim_minus_last)"
   ]
  },
  {
   "cell_type": "markdown",
   "id": "1da2a7cd-94c2-4580-b3d5-9150fad650ca",
   "metadata": {},
   "source": [
    "# intensity renderer class"
   ]
  },
  {
   "cell_type": "markdown",
   "id": "eae7657f-97cb-4f0c-b8fc-6ab1e629bf89",
   "metadata": {},
   "source": [
    "#with the parameter 'divider', you can select how many input frames are integrated over to get one output frame\n",
    "intensity = IntensityRenderer(time_tag_virt, start_channel=photon, click_channel=laser, pixel_begin_channel=pixel, pixels_x=256, pixels_y=256,\n",
    "                              n_bins=bins, binwidth=binwidth, pixel_end_channel=pixelEnd, frame_begin_channel=frame, num_frames=0, divider=4, is_resonant=True)"
   ]
  },
  {
   "cell_type": "markdown",
   "id": "8046d625-b1ad-4284-b127-0325a32282f6",
   "metadata": {
    "jp-MarkdownHeadingCollapsed": true,
    "tags": []
   },
   "source": [
    "# swab ex"
   ]
  },
  {
   "cell_type": "code",
   "execution_count": 34,
   "id": "fed4ebeb-168a-4ef3-8a0b-68aba31ad05b",
   "metadata": {},
   "outputs": [],
   "source": [
    "# The format for the table and the head of the table\n",
    "format_string = '{:>8} | {:>17} | {:>7} | {:>14} | {:>13}'\n",
    "#print(format_string.format('TAG #', 'EVENT TYPE', 'CHANNEL', 'TIMESTAMP (ps)', 'MISSED EVENTS'))\n",
    "#print('---------+-------------------+---------+----------------+--------------')"
   ]
  },
  {
   "cell_type": "code",
   "execution_count": 35,
   "id": "4fe329fe-a00b-429c-9a50-9f5c7cf312a8",
   "metadata": {},
   "outputs": [
    {
     "name": "stdout",
     "output_type": "stream",
     "text": [
      "         |                   |         |                |              \n",
      "=============  Start of data chunk 1 with 100000 events  ==============\n",
      "         |                   |         |                |              \n",
      "       1 |       0 (TimeTag) |       1 | 279827555654787 |             0\n",
      "       2 |       0 (TimeTag) |      -1 | 279827555661643 |             0\n",
      "     ... |               ... |     ... |            ... |           ...\n",
      "  100000 |       0 (TimeTag) |       1 | 279828179922494 |             0\n",
      "         |                   |         |                |              \n",
      "=============  Start of data chunk 2 with 100000 events  ==============\n",
      "         |                   |         |                |              \n",
      "  100001 |       0 (TimeTag) |      -1 | 279828179929321 |             0\n",
      "  100002 |       0 (TimeTag) |       1 | 279828179934930 |             0\n",
      "     ... |               ... |     ... |            ... |           ...\n",
      "  200000 |       0 (TimeTag) |       1 | 279828804139874 |             0\n",
      "         |                   |         |                |              \n",
      "       . |                 . |       . |              . |             .\n",
      "       . |                 . |       . |              . |             .\n",
      "       . |                 . |       . |              . |             .\n",
      "         |                   |         |                |              \n",
      "============  Start of data chunk 18544 with 99131 events  ============\n",
      "         |                   |         |                |              \n",
      "1854300001 |       0 (TimeTag) |      -1 | 329627808907710 |             0\n",
      "1854300002 |       0 (TimeTag) |       1 | 329627808913386 |             0\n",
      "     ... |               ... |     ... |            ... |           ...\n",
      "1854399131 |       0 (TimeTag) |       1 | 329628425454596 |             0\n",
      "done\n",
      "CPU times: total: 44.5 s\n",
      "Wall time: 44.5 s\n"
     ]
    }
   ],
   "source": [
    "%%time\n",
    "\n",
    "n_events = 100000  # Number of events to read at once\n",
    "event_name = ['0 (TimeTag)', '1 (Error)', '2 (OverflowBegin)', '3 (OverflowEnd)', '4 (MissedEvents)']\n",
    "i = 0\n",
    "\n",
    "t_events =0\n",
    "while fr.hasData():\n",
    "    # getData() does not return timestamps, but an instance of TimeTagStreamBuffer\n",
    "    # that contains more information than just the timestamp\n",
    "    data = fr.getData(n_events=n_events)\n",
    "\n",
    "    # With the following methods, we can retrieve a numpy array for the particular information:\n",
    "    channel = data.getChannels()            # The channel numbers\n",
    "    timestamps = data.getTimestamps()       # The timestamps in ps\n",
    "    overflow_types = data.getEventTypes()   # TimeTag = 0, Error = 1, OverflowBegin = 2, OverflowEnd = 3, MissedEvents = 4\n",
    "    missed_events = data.getMissedEvents()  # The numbers of missed events in case of overflow\n",
    "\n",
    "    # Output to table\n",
    "    if i < 2 or not fr.hasData():\n",
    "        print(format_string.format(*\" \"*5))\n",
    "        heading = ' Start of data chunk {} with {} events '.format(i+1, data.size)\n",
    "        extra_width = 69 - len(heading)\n",
    "        print('{} {} {}'.format(\"=\"*(extra_width//2), heading, \"=\"*(extra_width - extra_width//2)))\n",
    "        print(format_string.format(*\" \"*5))\n",
    "        print(format_string.format(i*n_events + 1, event_name[overflow_types[0]], channel[0], timestamps[0], missed_events[0]))\n",
    "        if data.size > 1:\n",
    "            print(format_string.format(i*n_events + 2, event_name[overflow_types[1]], channel[1], timestamps[1], missed_events[1]))\n",
    "        if data.size > 3:\n",
    "            print(format_string.format(*[\"...\"]*5))\n",
    "        if data.size > 2:\n",
    "            print(format_string.format(i*n_events + data.size, event_name[overflow_types[-1]], channel[-1], timestamps[-1], missed_events[-1]))\n",
    "    if i == 1:\n",
    "        print(format_string.format(*\" \"*5))\n",
    "        for j in range(3):\n",
    "            print(format_string.format(*\".\"*5))\n",
    "    i += 1\n",
    "    \n",
    "    t_events = t_events + len(channel)\n",
    "    \n",
    "\n",
    "#show that it's done\n",
    "print(\"done\")\n"
   ]
  },
  {
   "cell_type": "code",
   "execution_count": null,
   "id": "1f90fdc6-1bae-4892-ab42-e99e50ad7eb9",
   "metadata": {},
   "outputs": [],
   "source": []
  },
  {
   "cell_type": "markdown",
   "id": "d3390564-f615-4596-a15b-c37af9fa6037",
   "metadata": {},
   "source": [
    "#### length of events : 1854399131 "
   ]
  },
  {
   "cell_type": "code",
   "execution_count": 36,
   "id": "ed923eac-3bda-4796-a70d-d002a22c82e1",
   "metadata": {},
   "outputs": [
    {
     "data": {
      "text/plain": [
       "array([], dtype=int32)"
      ]
     },
     "execution_count": 36,
     "metadata": {},
     "output_type": "execute_result"
    }
   ],
   "source": [
    "fr.getData(1).getChannels()"
   ]
  },
  {
   "cell_type": "markdown",
   "id": "15eb09cd-7519-4cf3-82d8-71d512fde815",
   "metadata": {
    "tags": []
   },
   "source": [
    "# my exp:"
   ]
  },
  {
   "cell_type": "code",
   "execution_count": 37,
   "id": "8f9ace2e-fbec-4e51-85cf-9e0bbf1f1c52",
   "metadata": {},
   "outputs": [
    {
     "data": {
      "text/plain": [
       "{'channel number scheme': 2,\n",
       " 'configure version': 1,\n",
       " 'current time': '2022-06-10 16:33:51 -0500',\n",
       " 'devices': [{'PCB version': '1.6b (1)',\n",
       "   'model': 'Time Tagger Ultra',\n",
       "   'serial': '2143000XZI'}],\n",
       " 'firmware version': 'TT-Ultra, FW 5, TS 2022-02-02 13:09:16, OK 1.31',\n",
       " 'hardware buffer size': 67108864,\n",
       " 'inputs': [{'channel': [1, -1],\n",
       "   'conditional filter filtered': [False, False],\n",
       "   'conditional filter triggers': [False, False],\n",
       "   'deadtime': [2000, 2000],\n",
       "   'delay hardware': [0, 0],\n",
       "   'delay software': [0, 0],\n",
       "   'event divider': [0, 0],\n",
       "   'hardware delay compensation': [552, 552],\n",
       "   'input mux': 0,\n",
       "   'normalization': [True, True],\n",
       "   'resolution': 'Standard',\n",
       "   'resolution rms': 9.0,\n",
       "   'trigger level': -0.050011444266422345},\n",
       "  {'channel': [2, -2],\n",
       "   'conditional filter filtered': [False, False],\n",
       "   'conditional filter triggers': [False, False],\n",
       "   'deadtime': [2000, 2000],\n",
       "   'delay hardware': [0, 0],\n",
       "   'delay software': [0, 0],\n",
       "   'event divider': [0, 0],\n",
       "   'hardware delay compensation': [1210, 1210],\n",
       "   'input mux': 0,\n",
       "   'normalization': [True, True],\n",
       "   'resolution': 'Standard',\n",
       "   'resolution rms': 9.0,\n",
       "   'trigger level': 2.0000381475547417},\n",
       "  {'channel': [3, -3],\n",
       "   'conditional filter filtered': [False, False],\n",
       "   'conditional filter triggers': [False, False],\n",
       "   'deadtime': [2000, 2000],\n",
       "   'delay hardware': [0, 0],\n",
       "   'delay software': [0, 0],\n",
       "   'event divider': [0, 0],\n",
       "   'hardware delay compensation': [1458, 1458],\n",
       "   'input mux': 0,\n",
       "   'normalization': [True, True],\n",
       "   'resolution': 'Standard',\n",
       "   'resolution rms': 9.0,\n",
       "   'trigger level': 2.0000381475547417},\n",
       "  {'channel': [4, -4],\n",
       "   'conditional filter filtered': [False, False],\n",
       "   'conditional filter triggers': [False, False],\n",
       "   'deadtime': [2000, 2000],\n",
       "   'delay hardware': [0, 0],\n",
       "   'delay software': [0, 0],\n",
       "   'event divider': [0, 0],\n",
       "   'hardware delay compensation': [324, 324],\n",
       "   'input mux': 0,\n",
       "   'normalization': [True, True],\n",
       "   'resolution': 'Standard',\n",
       "   'resolution rms': 9.0,\n",
       "   'trigger level': -0.020027466239413982}],\n",
       " 'led bitmask': 0,\n",
       " 'measurements': [{'name': 'FileWriter',\n",
       "   'params': {'channels': [1, 2, 3, 4, -1, -2, -3, -4],\n",
       "    'filename': 'test_PMTON.ttbin'},\n",
       "   'registered channels': [-4, -3, -2, -1, 1, 2, 3, 4],\n",
       "   'virtual channels': []},\n",
       "  {'name': 'FileWriter',\n",
       "   'params': {'channels': [1, 2, 3, 4, -1, -2, -3, -4],\n",
       "    'filename': 'test_PMTON_2.ttbin'},\n",
       "   'registered channels': [-4, -3, -2, -1, 1, 2, 3, 4],\n",
       "   'virtual channels': []},\n",
       "  {'name': 'FileWriter',\n",
       "   'params': {'channels': [1, 2, 3, 4, -1, -2, -3, -4],\n",
       "    'filename': 'test.ttbin'},\n",
       "   'registered channels': [-4, -3, -2, -1, 1, 2, 3, 4],\n",
       "   'virtual channels': []}],\n",
       " 'network': {'client count': 0,\n",
       "  'protocol version major': 3,\n",
       "  'protocol version minor': 1,\n",
       "  'server running': False,\n",
       "  'server runs': 0},\n",
       " 'registered channels': [-4, -3, -2, -1, 1, 2, 3, 4],\n",
       " 'resolution': 'Standard',\n",
       " 'serial': '2143000XZI',\n",
       " 'software clock': None,\n",
       " 'software version': '2.11.0',\n",
       " 'stream block size events': 131072,\n",
       " 'stream block size latency': 20,\n",
       " 'test signal divider': 63}"
      ]
     },
     "execution_count": 37,
     "metadata": {},
     "output_type": "execute_result"
    }
   ],
   "source": [
    "## pretty print for json\n",
    "fr.getConfiguration()"
   ]
  },
  {
   "cell_type": "code",
   "execution_count": null,
   "id": "8fd4240d-37e8-44af-a525-b961395c0471",
   "metadata": {},
   "outputs": [],
   "source": [
    "buf = fr.getData(0)\n",
    "print(buf.tStart, buf.getTimestamps(), buf.getChannels())"
   ]
  },
  {
   "cell_type": "markdown",
   "id": "5c634da1-feb4-4d3a-9944-27f7e38d2e3e",
   "metadata": {},
   "source": [
    "#### last byte on the stream : 329628425460000 \n"
   ]
  },
  {
   "cell_type": "code",
   "execution_count": 235,
   "id": "3ada6572-aca3-4c5b-bfe1-a9374be57a73",
   "metadata": {},
   "outputs": [],
   "source": [
    "fr = TT.FileReader(r\"C:\\Users\\lociu\\Desktop\\PriyaM\\Data\\Swabian_tests\\test.ttbin\")"
   ]
  },
  {
   "cell_type": "code",
   "execution_count": 236,
   "id": "adde294a-2926-45ba-aafa-fce9c3bc161a",
   "metadata": {},
   "outputs": [
    {
     "data": {
      "text/plain": [
       "(1, 2, 3, 4, -1, -2, -3, -4)"
      ]
     },
     "execution_count": 236,
     "metadata": {},
     "output_type": "execute_result"
    }
   ],
   "source": [
    "fr.getChannelList()"
   ]
  },
  {
   "cell_type": "code",
   "execution_count": 237,
   "id": "2dca2263-bade-49fe-9097-db9fca9abd81",
   "metadata": {},
   "outputs": [
    {
     "name": "stdout",
     "output_type": "stream",
     "text": [
      "-1 [] []\n"
     ]
    }
   ],
   "source": [
    "buf = fr.getData(0)\n",
    "print(buf.tStart, buf.getTimestamps(), buf.getChannels())"
   ]
  },
  {
   "cell_type": "raw",
   "id": "27d51cc8-c754-47bb-b763-a29882a638c8",
   "metadata": {},
   "source": [
    "for buf_event_ix in range(10):\n",
    "    buf = fr.getData(1)\n",
    "    print(buf_event_ix, buf.tStart, buf.getTimestamps(), buf.getChannels())"
   ]
  },
  {
   "cell_type": "raw",
   "id": "be62f559-aa40-47fb-90d0-8e0688dcfdd7",
   "metadata": {},
   "source": [
    "buf = fr.getData(1)\n",
    "print(buf.tStart, buf.getTimestamps(), buf.getChannels(),buf.getEventTypes(),buf.tGetData())"
   ]
  },
  {
   "cell_type": "raw",
   "id": "89743114-c66f-4376-8edd-8e43c014fd09",
   "metadata": {},
   "source": [
    "type(fr.getData(1))"
   ]
  },
  {
   "cell_type": "raw",
   "id": "7dbc429c-a0d2-4860-9fca-7819b66a26d9",
   "metadata": {},
   "source": [
    "n_events = int(1E5)\n",
    "\n",
    "while fr.hasData():\n",
    "    # getData() does not return timestamps, but an instance of TimeTagStreamBuffer\n",
    "    # that contains more information than just the timestamp\n",
    "    data = fr.getData(n_events=n_events)\n",
    "\n",
    "    # With the following methods, we can retrieve a numpy array for the particular information:\n",
    "    channel = data.getChannels()            # The channel numbers\n",
    "    timestamps = data.getTimestamps()       # The timestamps in ps\n",
    "    overflow_types = data.getEventTypes()   # TimeTag = 0, Error = 1, OverflowBegin = 2, OverflowEnd = 3, MissedEvents = 4\n",
    "    missed_events = data.getMissedEvents()  # The numbers of missed events in case of overflow\n",
    "    \n",
    "    "
   ]
  },
  {
   "cell_type": "code",
   "execution_count": 238,
   "id": "66effaff-18b7-47aa-9230-6ad23f2da258",
   "metadata": {},
   "outputs": [
    {
     "ename": "NameError",
     "evalue": "name 'total_events' is not defined",
     "output_type": "error",
     "traceback": [
      "\u001b[1;31m---------------------------------------------------------------------------\u001b[0m",
      "\u001b[1;31mNameError\u001b[0m                                 Traceback (most recent call last)",
      "Cell \u001b[1;32mIn[238], line 1\u001b[0m\n\u001b[1;32m----> 1\u001b[0m total_events\n",
      "\u001b[1;31mNameError\u001b[0m: name 'total_events' is not defined"
     ]
    }
   ],
   "source": [
    "total_events"
   ]
  },
  {
   "cell_type": "code",
   "execution_count": 239,
   "id": "4d32cf48-7e55-4227-81f4-ff1521fe2713",
   "metadata": {},
   "outputs": [],
   "source": [
    "n_events = int(1854399131.0)\n",
    "\n",
    "while fr.hasData():\n",
    "    data = fr.getData(n_events=n_events)\n",
    "\n",
    "# With the following methods, we can retrieve a numpy array for the particular information:\n",
    "channel = data.getChannels()            # The channel numbers\n",
    "timestamps = data.getTimestamps()       # The timestamps in ps\n",
    "event_types = data.getEventTypes()   # TimeTag = 0, Error = 1, OverflowBegin = 2, OverflowEnd = 3, MissedEvents = 4\n",
    "missed_events = data.getMissedEvents()  # The numbers of missed events in case of overflow"
   ]
  },
  {
   "cell_type": "code",
   "execution_count": 240,
   "id": "eba40262-7f26-4e34-bc16-65029e3a3d33",
   "metadata": {},
   "outputs": [
    {
     "data": {
      "text/plain": [
       "TimeTagger.TimeTagStreamBuffer"
      ]
     },
     "execution_count": 240,
     "metadata": {},
     "output_type": "execute_result"
    }
   ],
   "source": [
    "type(data)"
   ]
  },
  {
   "cell_type": "code",
   "execution_count": 242,
   "id": "5d99f6e7-8d5c-40d7-a0a9-1b751478500f",
   "metadata": {},
   "outputs": [
    {
     "data": {
      "text/plain": [
       "(1854399131, 1854399131)"
      ]
     },
     "execution_count": 242,
     "metadata": {},
     "output_type": "execute_result"
    }
   ],
   "source": [
    "len(channel), len(event_types)"
   ]
  },
  {
   "cell_type": "code",
   "execution_count": 243,
   "id": "ab7b0d7d-c229-43d7-8444-8755304e114e",
   "metadata": {},
   "outputs": [],
   "source": [
    "import numpy as np"
   ]
  },
  {
   "cell_type": "code",
   "execution_count": 244,
   "id": "3060ee0c-d390-4fc0-9e41-94508947fc36",
   "metadata": {},
   "outputs": [
    {
     "name": "stdout",
     "output_type": "stream",
     "text": [
      "CPU times: total: 11.1 s\n",
      "Wall time: 11.2 s\n"
     ]
    },
    {
     "data": {
      "text/plain": [
       "1"
      ]
     },
     "execution_count": 244,
     "metadata": {},
     "output_type": "execute_result"
    }
   ],
   "source": [
    "%%time\n",
    "len(np.where(channel==1))"
   ]
  },
  {
   "cell_type": "code",
   "execution_count": 245,
   "id": "728d0e4a-26ef-4ab7-b9b4-329a0c3bd582",
   "metadata": {},
   "outputs": [
    {
     "name": "stdout",
     "output_type": "stream",
     "text": [
      "-4 (2377917,)\n",
      "-3 (10,)\n",
      "-2 (4821,)\n",
      "-1 (924769909,)\n",
      "0 (0,)\n",
      "1 (924769906,)\n",
      "2 (4812,)\n",
      "3 (20,)\n",
      "4 (2377130,)\n",
      "CPU times: total: 29.9 s\n",
      "Wall time: 29.9 s\n"
     ]
    }
   ],
   "source": [
    "%%time\n",
    "for ch in range(-4,5):\n",
    "    ch_1 = np.where(np.logical_and(channel==ch, event_types == 0))\n",
    "    print(ch, ch_1[0].shape)\n",
    "    "
   ]
  },
  {
   "cell_type": "code",
   "execution_count": 249,
   "id": "c1e1ce48-8b6b-44cf-ad9e-799d76967c44",
   "metadata": {},
   "outputs": [
    {
     "name": "stdout",
     "output_type": "stream",
     "text": [
      "-4 (271,)\n",
      "-3 (42,)\n",
      "-2 (42,)\n",
      "-1 (46906,)\n",
      "0 (0,)\n",
      "1 (46906,)\n",
      "2 (42,)\n",
      "3 (42,)\n",
      "4 (271,)\n",
      "CPU times: total: 23.7 s\n",
      "Wall time: 23.8 s\n"
     ]
    }
   ],
   "source": [
    "%%time\n",
    "for ch in range(-4,5):\n",
    "    ch_1 = np.where(np.logical_and(channel==ch, event_types == 4))\n",
    "    print(ch, ch_1[0].shape)\n",
    "    "
   ]
  },
  {
   "cell_type": "code",
   "execution_count": 2,
   "id": "4fd2ce6a-a78a-49a2-bc96-2aba17282965",
   "metadata": {},
   "outputs": [
    {
     "data": {
      "text/plain": [
       "5.0721806087658934e-05"
      ]
     },
     "execution_count": 2,
     "metadata": {},
     "output_type": "execute_result"
    }
   ],
   "source": [
    "46906/924769909"
   ]
  },
  {
   "cell_type": "code",
   "execution_count": null,
   "id": "adca03a6-800c-4dcb-8cfb-1ee5cd22c688",
   "metadata": {},
   "outputs": [],
   "source": [
    "1:laser/sync\n",
    "2: line clock\n",
    "3: frame clock\n",
    "4: photons"
   ]
  },
  {
   "cell_type": "code",
   "execution_count": 23,
   "id": "c358f456-e488-4042-b5f9-4a944c42407e",
   "metadata": {},
   "outputs": [],
   "source": [
    "def tests(n,m):\n",
    "    print(\"\\nSize:\")\n",
    "    for i in range(n,m):\n",
    "        x = fr.getData(i)\n",
    "        print(i,\":\", x.size)\n",
    "    \n",
    "    print(\"\\nChannels:\")\n",
    "    for i in range(n,m):\n",
    "        x = fr.getData(i)\n",
    "        print(i,\":\", x.getChannels())\n",
    "        \n",
    "    print(\"\\nEvent Types:\")    \n",
    "    for i in range(n,m):\n",
    "        x = fr.getData(i)\n",
    "        print(i,\":\", x.getEventTypes())\n",
    "        \n",
    "    print(\"\\nTime Stamps:\")\n",
    "    for i in range(n,m):\n",
    "        x = fr.getData(i)\n",
    "        print(i,\":\", x.getTimestamps())\n",
    "        \n",
    "    print(\"\\nGet Data:\")\n",
    "    for i in range(n,m):\n",
    "        x = fr.getData(i)\n",
    "        print(i,\":\", x.tGetData)\n",
    "        \n",
    "    print(\"\\nT Start:\")\n",
    "    for i in range(n,m):\n",
    "        x = fr.getData(i)\n",
    "        print(i,\":\", x.tStart)"
   ]
  },
  {
   "cell_type": "code",
   "execution_count": 24,
   "id": "d9197130-84c5-4e55-8ced-368c3fd4fe2e",
   "metadata": {},
   "outputs": [
    {
     "name": "stdout",
     "output_type": "stream",
     "text": [
      "\n",
      "Size:\n",
      "1 : 0\n",
      "2 : 0\n",
      "3 : 0\n",
      "4 : 0\n",
      "5 : 0\n",
      "6 : 0\n",
      "7 : 0\n",
      "8 : 0\n",
      "9 : 0\n",
      "\n",
      "Channels:\n",
      "1 : []\n",
      "2 : []\n",
      "3 : []\n",
      "4 : []\n",
      "5 : []\n",
      "6 : []\n",
      "7 : []\n",
      "8 : []\n",
      "9 : []\n",
      "\n",
      "Event Types:\n",
      "1 : []\n",
      "2 : []\n",
      "3 : []\n",
      "4 : []\n",
      "5 : []\n",
      "6 : []\n",
      "7 : []\n",
      "8 : []\n",
      "9 : []\n",
      "\n",
      "Time Stamps:\n",
      "1 : []\n",
      "2 : []\n",
      "3 : []\n",
      "4 : []\n",
      "5 : []\n",
      "6 : []\n",
      "7 : []\n",
      "8 : []\n",
      "9 : []\n",
      "\n",
      "Get Data:\n",
      "1 : 329628425460000\n",
      "2 : 329628425460000\n",
      "3 : 329628425460000\n",
      "4 : 329628425460000\n",
      "5 : 329628425460000\n",
      "6 : 329628425460000\n",
      "7 : 329628425460000\n",
      "8 : 329628425460000\n",
      "9 : 329628425460000\n",
      "\n",
      "T Start:\n",
      "1 : 329628425460000\n",
      "2 : 329628425460000\n",
      "3 : 329628425460000\n",
      "4 : 329628425460000\n",
      "5 : 329628425460000\n",
      "6 : 329628425460000\n",
      "7 : 329628425460000\n",
      "8 : 329628425460000\n",
      "9 : 329628425460000\n"
     ]
    }
   ],
   "source": [
    "tests(1,10)"
   ]
  },
  {
   "cell_type": "code",
   "execution_count": null,
   "id": "177ef442-459b-40cd-8c98-8660730a4e5b",
   "metadata": {},
   "outputs": [],
   "source": []
  },
  {
   "cell_type": "code",
   "execution_count": null,
   "id": "e12aeb7a-85e1-4db9-b2b1-8ee888703703",
   "metadata": {},
   "outputs": [],
   "source": []
  },
  {
   "cell_type": "code",
   "execution_count": null,
   "id": "8ca1d437-2c92-4b0f-9efb-19fa84079301",
   "metadata": {},
   "outputs": [],
   "source": []
  },
  {
   "cell_type": "markdown",
   "id": "d7bb44e4-5612-40da-b181-243c847383c6",
   "metadata": {
    "jp-MarkdownHeadingCollapsed": true,
    "tags": []
   },
   "source": [
    "# server and client?"
   ]
  },
  {
   "cell_type": "raw",
   "id": "6ea8b29d-ea40-4332-b234-a0636a2773a5",
   "metadata": {},
   "source": [
    "import Pyro5.api\n",
    "import TimeTagger as TT"
   ]
  },
  {
   "cell_type": "raw",
   "id": "028ebd2f-f538-4864-86e7-184fad0624a0",
   "metadata": {},
   "source": [
    "@Pyro5.api.expose\n",
    "class TimeTaggerRPC:\n",
    "    \"\"\"Adapter for the Time Tagger Library\"\"\"\n",
    "\n",
    "    def scanTimeTagger(self):\n",
    "        \"\"\"This method will become available remotely.\"\"\"\n",
    "        return TT.scanTimeTagger()\n",
    "\n",
    "\n",
    "if __name__ == '__main__':\n",
    "    # Start server and expose the TimeTaggerRPC class\n",
    "    with Pyro5.api.Daemon(host='localhost', port=23000) as daemon:\n",
    "        # Register class with Pyro\n",
    "        uri = daemon.register(TimeTaggerRPC, 'TimeTagger')\n",
    "        # Print the URI of the published object\n",
    "        print(uri)\n",
    "        # Start the server event loop\n",
    "        daemon.requestLoop()"
   ]
  },
  {
   "cell_type": "raw",
   "id": "a4a35f06-6af5-4fdc-9d1e-7eae5b7a7e0f",
   "metadata": {},
   "source": [
    "# Connect to the TimeTaggerRPC object on the server\n",
    "# This line is all we need to establish remote communication\n",
    "TimeTagger = Pyro5.api.Proxy(\"PYRO:TimeTagger@localhost:23000\")\n",
    "\n",
    "# Now, we can call methods that will be executed on the server.\n",
    "# Lets check what Time Taggers are available at the server\n",
    "timetaggers = TimeTagger.scanTimeTagger()\n",
    "print(timetaggers)"
   ]
  },
  {
   "cell_type": "raw",
   "id": "de8c7798-33ee-4d8e-847f-9e62b6413c82",
   "metadata": {},
   "source": [
    "@Pyro5.api.expose\n",
    "class TimeTagger:\n",
    "    \"\"\"Adapter for the Time Tagger object\"\"\"\n",
    "\n",
    "    def __init__(self, args, kwargs):\n",
    "        self._obj = TT.createTimeTagger(*args, **kwargs)\n",
    "\n",
    "    def setTestSignal(self, *args):\n",
    "        return self._obj.setTestSignal(*args)\n",
    "\n",
    "    def getSerial(self):\n",
    "        return self._obj.getSerial()\n",
    "\n",
    "    # ... Other methods of the TT.TimeTagger class are omitted here.\n",
    "\n",
    "\n",
    "@Pyro5.api.expose\n",
    "class TimeTaggerRPC:\n",
    "    \"\"\"Adapter for the Time Tagger Library\"\"\"\n",
    "\n",
    "    def scanTimeTagger(self):\n",
    "        \"\"\"Return the serial numbers of the available Time Taggers.\"\"\"\n",
    "        return TT.scanTimeTagger()\n",
    "\n",
    "    def createTimeTagger(self, *args, **kwargs):\n",
    "        \"\"\"Create the Time Tagger.\"\"\"\n",
    "        tagger = TimeTagger(args, kwargs)\n",
    "        self._pyroDaemon.register(tagger)\n",
    "        return tagger\n",
    "        # Pyro will automatically create and send a proxy object\n",
    "        # to the client.\n",
    "\n",
    "    def freeTimeTagger(self, tagger_proxy):\n",
    "        \"\"\"Free Time Tagger. \"\"\"\n",
    "        # Client only has a proxy object.\n",
    "        objectId = tagger_proxy._pyroUri.object\n",
    "        # Get adapter object from the server.\n",
    "        tagger = self._pyroDaemon.objectsById.get(objectId)\n",
    "        self._pyroDaemon.unregister(tagger)\n",
    "        return TT.freeTimeTagger(tagger._obj)"
   ]
  },
  {
   "cell_type": "raw",
   "id": "6fb4378f-3444-408b-9463-ad2caf961bc9",
   "metadata": {},
   "source": [
    "with client.createProxy(host='localhost', port=23000) as TT:\n",
    "    tagger = TT.createTimeTagger()\n",
    "    tagger.setTestSignal(1, True)\n",
    "    tagger.setTestSignal(2, True)\n",
    "\n",
    "    hist = TT.Correlation(tagger, 1, 2, binwidth=5, n_bins=2000)\n",
    "    hist.startFor(int(10e12), clear=True)\n",
    "\n",
    "    x = hist.getIndex()\n",
    "    while hist.isRunning():\n",
    "        plt.pause(0.1)\n",
    "        y = hist.getData()\n",
    "        plt.cla()\n",
    "        plt.plot(x, y)\n",
    "\n",
    "    TT.freeTimeTagger(tagger)"
   ]
  },
  {
   "cell_type": "code",
   "execution_count": null,
   "id": "f320ef47-80f7-4282-8de5-acb46646d4df",
   "metadata": {},
   "outputs": [],
   "source": []
  }
 ],
 "metadata": {
  "kernelspec": {
   "display_name": "Python 3 (ipykernel)",
   "language": "python",
   "name": "python3"
  },
  "language_info": {
   "codemirror_mode": {
    "name": "ipython",
    "version": 3
   },
   "file_extension": ".py",
   "mimetype": "text/x-python",
   "name": "python",
   "nbconvert_exporter": "python",
   "pygments_lexer": "ipython3",
   "version": "3.11.3"
  }
 },
 "nbformat": 4,
 "nbformat_minor": 5
}
