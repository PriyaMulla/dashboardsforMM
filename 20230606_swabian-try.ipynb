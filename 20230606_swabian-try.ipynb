{
 "cells": [
  {
   "cell_type": "markdown",
   "id": "341475f0-3162-4685-9301-940e2c14a8dc",
   "metadata": {},
   "source": [
    "# env: swabian"
   ]
  },
  {
   "cell_type": "code",
   "execution_count": 66,
   "id": "bd6d44c0-dcf6-42d2-9d2b-5f2c71ad95a1",
   "metadata": {},
   "outputs": [],
   "source": [
    "import TimeTagger as TT\n",
    "from TimeTagger import Flim, TimeTagStream, createTimeTaggerVirtual"
   ]
  },
  {
   "cell_type": "code",
   "execution_count": 32,
   "id": "22cd6b36-86a6-4c1d-b7e7-b039166f11a1",
   "metadata": {},
   "outputs": [],
   "source": [
    "fr = TT.FileReader(r\"C:\\Users\\lociu\\Desktop\\PriyaM\\Data\\Swabian_tests\\test.ttbin\")"
   ]
  },
  {
   "cell_type": "markdown",
   "id": "4c2bc33b-7b4b-4eca-a271-59a18b1b8251",
   "metadata": {},
   "source": [
    "# flim"
   ]
  },
  {
   "cell_type": "code",
   "execution_count": 92,
   "id": "2850c356-1f1e-41fc-bff8-8abeeca95267",
   "metadata": {},
   "outputs": [
    {
     "ename": "RuntimeError",
     "evalue": "No license file found or no Time Tagger connected. Please connect a Time Tagger if you want to use the virtual Time Tagger for the first time.",
     "output_type": "error",
     "traceback": [
      "\u001b[1;31m---------------------------------------------------------------------------\u001b[0m",
      "\u001b[1;31mRuntimeError\u001b[0m                              Traceback (most recent call last)",
      "Cell \u001b[1;32mIn [92], line 1\u001b[0m\n\u001b[1;32m----> 1\u001b[0m ttv\u001b[38;5;241m=\u001b[39m\u001b[43mTT\u001b[49m\u001b[38;5;241;43m.\u001b[39;49m\u001b[43mcreateTimeTaggerVirtual\u001b[49m\u001b[43m(\u001b[49m\u001b[43m)\u001b[49m\n",
      "File \u001b[1;32mC:\\Program Files\\Swabian Instruments\\Time Tagger\\driver\\python\\TimeTagger.py:2799\u001b[0m, in \u001b[0;36mcreateTimeTaggerVirtual\u001b[1;34m()\u001b[0m\n\u001b[0;32m   2797\u001b[0m \u001b[38;5;28;01mdef\u001b[39;00m \u001b[38;5;21mcreateTimeTaggerVirtual\u001b[39m() \u001b[38;5;241m-\u001b[39m\u001b[38;5;241m>\u001b[39m \u001b[38;5;124m\"\u001b[39m\u001b[38;5;124mTimeTaggerVirtual\u001b[39m\u001b[38;5;124m\"\u001b[39m:\n\u001b[0;32m   2798\u001b[0m     \u001b[38;5;124mr\u001b[39m\u001b[38;5;124;03m\"\"\"createTimeTaggerVirtual() -> TimeTaggerVirtual\"\"\"\u001b[39;00m\n\u001b[1;32m-> 2799\u001b[0m     \u001b[38;5;28;01mreturn\u001b[39;00m \u001b[43m_TimeTagger\u001b[49m\u001b[38;5;241;43m.\u001b[39;49m\u001b[43mcreateTimeTaggerVirtual\u001b[49m\u001b[43m(\u001b[49m\u001b[43m)\u001b[49m\n",
      "\u001b[1;31mRuntimeError\u001b[0m: No license file found or no Time Tagger connected. Please connect a Time Tagger if you want to use the virtual Time Tagger for the first time."
     ]
    }
   ],
   "source": [
    "ttv=TT.createTimeTaggerVirtual()"
   ]
  },
  {
   "cell_type": "code",
   "execution_count": 81,
   "id": "59b9da73-bcf7-47ba-83f6-44e2dd68e25c",
   "metadata": {},
   "outputs": [],
   "source": [
    "laser = 1\n",
    "click1 = -2\n",
    "click2 = -3\n",
    "frame = 4\n",
    "pixel = 5\n",
    "line = 6\n",
    "bins = 100\n",
    "binwidth = 125\n",
    "xDim = 513\n",
    "yDim = 513\n",
    "\n",
    "laser_frequency = 80e6\n",
    "total_frames = 2"
   ]
  },
  {
   "cell_type": "code",
   "execution_count": 91,
   "id": "01366005-8277-4cb1-9b2c-1cd1752046df",
   "metadata": {},
   "outputs": [
    {
     "ename": "TypeError",
     "evalue": "in method 'new_Flim', argument 2 of type 'TimeTaggerBase *'",
     "output_type": "error",
     "traceback": [
      "\u001b[1;31m---------------------------------------------------------------------------\u001b[0m",
      "\u001b[1;31mTypeError\u001b[0m                                 Traceback (most recent call last)",
      "Cell \u001b[1;32mIn [91], line 1\u001b[0m\n\u001b[1;32m----> 1\u001b[0m flim1 \u001b[38;5;241m=\u001b[39m \u001b[43mFlim\u001b[49m\u001b[43m(\u001b[49m\u001b[43mttv\u001b[49m\u001b[43m,\u001b[49m\u001b[43m \u001b[49m\u001b[43mstart_channel\u001b[49m\u001b[38;5;241;43m=\u001b[39;49m\u001b[43mlaser\u001b[49m\u001b[43m,\u001b[49m\u001b[43m \u001b[49m\u001b[43mclick_channel\u001b[49m\u001b[38;5;241;43m=\u001b[39;49m\u001b[43mclick1\u001b[49m\u001b[43m,\u001b[49m\u001b[43m \u001b[49m\u001b[43mpixel_begin_channel\u001b[49m\u001b[38;5;241;43m=\u001b[39;49m\u001b[43mpixel\u001b[49m\u001b[43m,\u001b[49m\u001b[43m \u001b[49m\u001b[43mn_pixels\u001b[49m\u001b[38;5;241;43m=\u001b[39;49m\u001b[43mxDim\u001b[49m\u001b[38;5;241;43m*\u001b[39;49m\u001b[43myDim\u001b[49m\u001b[43m,\u001b[49m\n\u001b[0;32m      2\u001b[0m \u001b[43m             \u001b[49m\u001b[43mn_bins\u001b[49m\u001b[38;5;241;43m=\u001b[39;49m\u001b[43mbins\u001b[49m\u001b[43m,\u001b[49m\u001b[43m \u001b[49m\u001b[43mbinwidth\u001b[49m\u001b[38;5;241;43m=\u001b[39;49m\u001b[43mbinwidth\u001b[49m\u001b[43m,\u001b[49m\u001b[43m \u001b[49m\u001b[43mframe_begin_channel\u001b[49m\u001b[38;5;241;43m=\u001b[39;49m\u001b[43mframe\u001b[49m\u001b[43m,\u001b[49m\u001b[43m \u001b[49m\u001b[43mfinish_after_outputframe\u001b[49m\u001b[38;5;241;43m=\u001b[39;49m\u001b[43mtotal_frames\u001b[49m\u001b[43m,\u001b[49m\u001b[43m \u001b[49m\u001b[43mn_frame_average\u001b[49m\u001b[38;5;241;43m=\u001b[39;49m\u001b[38;5;241;43m1\u001b[39;49m\u001b[43m)\u001b[49m\n",
      "File \u001b[1;32mC:\\Program Files\\Swabian Instruments\\Time Tagger\\driver\\python\\TimeTagger.py:4772\u001b[0m, in \u001b[0;36mFlim.__init__\u001b[1;34m(self, *args, **kwargs)\u001b[0m\n\u001b[0;32m   4770\u001b[0m \u001b[38;5;28;01melse\u001b[39;00m:\n\u001b[0;32m   4771\u001b[0m     _self \u001b[38;5;241m=\u001b[39m \u001b[38;5;28mself\u001b[39m\n\u001b[1;32m-> 4772\u001b[0m _TimeTagger\u001b[38;5;241m.\u001b[39mFlim_swiginit(\u001b[38;5;28mself\u001b[39m, _TimeTagger\u001b[38;5;241m.\u001b[39mnew_Flim(_self, \u001b[38;5;241m*\u001b[39margs, \u001b[38;5;241m*\u001b[39m\u001b[38;5;241m*\u001b[39mkwargs))\n",
      "\u001b[1;31mTypeError\u001b[0m: in method 'new_Flim', argument 2 of type 'TimeTaggerBase *'"
     ]
    }
   ],
   "source": [
    "flim1 = Flim(ttv, start_channel=laser, click_channel=click1, pixel_begin_channel=pixel, n_pixels=xDim*yDim,\n",
    "             n_bins=bins, binwidth=binwidth, frame_begin_channel=frame, finish_after_outputframe=total_frames, n_frame_average=1)"
   ]
  },
  {
   "cell_type": "markdown",
   "id": "8046d625-b1ad-4284-b127-0325a32282f6",
   "metadata": {
    "jp-MarkdownHeadingCollapsed": true,
    "tags": []
   },
   "source": [
    "# swab ex"
   ]
  },
  {
   "cell_type": "code",
   "execution_count": 34,
   "id": "fed4ebeb-168a-4ef3-8a0b-68aba31ad05b",
   "metadata": {},
   "outputs": [],
   "source": [
    "# The format for the table and the head of the table\n",
    "format_string = '{:>8} | {:>17} | {:>7} | {:>14} | {:>13}'\n",
    "#print(format_string.format('TAG #', 'EVENT TYPE', 'CHANNEL', 'TIMESTAMP (ps)', 'MISSED EVENTS'))\n",
    "#print('---------+-------------------+---------+----------------+--------------')"
   ]
  },
  {
   "cell_type": "code",
   "execution_count": 35,
   "id": "4fe329fe-a00b-429c-9a50-9f5c7cf312a8",
   "metadata": {},
   "outputs": [
    {
     "name": "stdout",
     "output_type": "stream",
     "text": [
      "         |                   |         |                |              \n",
      "=============  Start of data chunk 1 with 100000 events  ==============\n",
      "         |                   |         |                |              \n",
      "       1 |       0 (TimeTag) |       1 | 279827555654787 |             0\n",
      "       2 |       0 (TimeTag) |      -1 | 279827555661643 |             0\n",
      "     ... |               ... |     ... |            ... |           ...\n",
      "  100000 |       0 (TimeTag) |       1 | 279828179922494 |             0\n",
      "         |                   |         |                |              \n",
      "=============  Start of data chunk 2 with 100000 events  ==============\n",
      "         |                   |         |                |              \n",
      "  100001 |       0 (TimeTag) |      -1 | 279828179929321 |             0\n",
      "  100002 |       0 (TimeTag) |       1 | 279828179934930 |             0\n",
      "     ... |               ... |     ... |            ... |           ...\n",
      "  200000 |       0 (TimeTag) |       1 | 279828804139874 |             0\n",
      "         |                   |         |                |              \n",
      "       . |                 . |       . |              . |             .\n",
      "       . |                 . |       . |              . |             .\n",
      "       . |                 . |       . |              . |             .\n",
      "         |                   |         |                |              \n",
      "============  Start of data chunk 18544 with 99131 events  ============\n",
      "         |                   |         |                |              \n",
      "1854300001 |       0 (TimeTag) |      -1 | 329627808907710 |             0\n",
      "1854300002 |       0 (TimeTag) |       1 | 329627808913386 |             0\n",
      "     ... |               ... |     ... |            ... |           ...\n",
      "1854399131 |       0 (TimeTag) |       1 | 329628425454596 |             0\n",
      "done\n",
      "CPU times: total: 44.5 s\n",
      "Wall time: 44.5 s\n"
     ]
    }
   ],
   "source": [
    "%%time\n",
    "\n",
    "n_events = 100000  # Number of events to read at once\n",
    "event_name = ['0 (TimeTag)', '1 (Error)', '2 (OverflowBegin)', '3 (OverflowEnd)', '4 (MissedEvents)']\n",
    "i = 0\n",
    "\n",
    "t_events =0\n",
    "while fr.hasData():\n",
    "    # getData() does not return timestamps, but an instance of TimeTagStreamBuffer\n",
    "    # that contains more information than just the timestamp\n",
    "    data = fr.getData(n_events=n_events)\n",
    "\n",
    "    # With the following methods, we can retrieve a numpy array for the particular information:\n",
    "    channel = data.getChannels()            # The channel numbers\n",
    "    timestamps = data.getTimestamps()       # The timestamps in ps\n",
    "    overflow_types = data.getEventTypes()   # TimeTag = 0, Error = 1, OverflowBegin = 2, OverflowEnd = 3, MissedEvents = 4\n",
    "    missed_events = data.getMissedEvents()  # The numbers of missed events in case of overflow\n",
    "\n",
    "    # Output to table\n",
    "    if i < 2 or not fr.hasData():\n",
    "        print(format_string.format(*\" \"*5))\n",
    "        heading = ' Start of data chunk {} with {} events '.format(i+1, data.size)\n",
    "        extra_width = 69 - len(heading)\n",
    "        print('{} {} {}'.format(\"=\"*(extra_width//2), heading, \"=\"*(extra_width - extra_width//2)))\n",
    "        print(format_string.format(*\" \"*5))\n",
    "        print(format_string.format(i*n_events + 1, event_name[overflow_types[0]], channel[0], timestamps[0], missed_events[0]))\n",
    "        if data.size > 1:\n",
    "            print(format_string.format(i*n_events + 2, event_name[overflow_types[1]], channel[1], timestamps[1], missed_events[1]))\n",
    "        if data.size > 3:\n",
    "            print(format_string.format(*[\"...\"]*5))\n",
    "        if data.size > 2:\n",
    "            print(format_string.format(i*n_events + data.size, event_name[overflow_types[-1]], channel[-1], timestamps[-1], missed_events[-1]))\n",
    "    if i == 1:\n",
    "        print(format_string.format(*\" \"*5))\n",
    "        for j in range(3):\n",
    "            print(format_string.format(*\".\"*5))\n",
    "    i += 1\n",
    "    \n",
    "    t_events = t_events + len(channel)\n",
    "    \n",
    "\n",
    "#show that it's done\n",
    "print(\"done\")\n"
   ]
  },
  {
   "cell_type": "code",
   "execution_count": null,
   "id": "1f90fdc6-1bae-4892-ab42-e99e50ad7eb9",
   "metadata": {},
   "outputs": [],
   "source": []
  },
  {
   "cell_type": "markdown",
   "id": "d3390564-f615-4596-a15b-c37af9fa6037",
   "metadata": {},
   "source": [
    "#### length of events : 1854399131 "
   ]
  },
  {
   "cell_type": "code",
   "execution_count": 36,
   "id": "ed923eac-3bda-4796-a70d-d002a22c82e1",
   "metadata": {},
   "outputs": [
    {
     "data": {
      "text/plain": [
       "array([], dtype=int32)"
      ]
     },
     "execution_count": 36,
     "metadata": {},
     "output_type": "execute_result"
    }
   ],
   "source": [
    "fr.getData(1).getChannels()"
   ]
  },
  {
   "cell_type": "markdown",
   "id": "15eb09cd-7519-4cf3-82d8-71d512fde815",
   "metadata": {
    "tags": []
   },
   "source": [
    "# my exp:"
   ]
  },
  {
   "cell_type": "code",
   "execution_count": 37,
   "id": "8f9ace2e-fbec-4e51-85cf-9e0bbf1f1c52",
   "metadata": {},
   "outputs": [
    {
     "data": {
      "text/plain": [
       "{'channel number scheme': 2,\n",
       " 'configure version': 1,\n",
       " 'current time': '2022-06-10 16:33:51 -0500',\n",
       " 'devices': [{'PCB version': '1.6b (1)',\n",
       "   'model': 'Time Tagger Ultra',\n",
       "   'serial': '2143000XZI'}],\n",
       " 'firmware version': 'TT-Ultra, FW 5, TS 2022-02-02 13:09:16, OK 1.31',\n",
       " 'hardware buffer size': 67108864,\n",
       " 'inputs': [{'channel': [1, -1],\n",
       "   'conditional filter filtered': [False, False],\n",
       "   'conditional filter triggers': [False, False],\n",
       "   'deadtime': [2000, 2000],\n",
       "   'delay hardware': [0, 0],\n",
       "   'delay software': [0, 0],\n",
       "   'event divider': [0, 0],\n",
       "   'hardware delay compensation': [552, 552],\n",
       "   'input mux': 0,\n",
       "   'normalization': [True, True],\n",
       "   'resolution': 'Standard',\n",
       "   'resolution rms': 9.0,\n",
       "   'trigger level': -0.050011444266422345},\n",
       "  {'channel': [2, -2],\n",
       "   'conditional filter filtered': [False, False],\n",
       "   'conditional filter triggers': [False, False],\n",
       "   'deadtime': [2000, 2000],\n",
       "   'delay hardware': [0, 0],\n",
       "   'delay software': [0, 0],\n",
       "   'event divider': [0, 0],\n",
       "   'hardware delay compensation': [1210, 1210],\n",
       "   'input mux': 0,\n",
       "   'normalization': [True, True],\n",
       "   'resolution': 'Standard',\n",
       "   'resolution rms': 9.0,\n",
       "   'trigger level': 2.0000381475547417},\n",
       "  {'channel': [3, -3],\n",
       "   'conditional filter filtered': [False, False],\n",
       "   'conditional filter triggers': [False, False],\n",
       "   'deadtime': [2000, 2000],\n",
       "   'delay hardware': [0, 0],\n",
       "   'delay software': [0, 0],\n",
       "   'event divider': [0, 0],\n",
       "   'hardware delay compensation': [1458, 1458],\n",
       "   'input mux': 0,\n",
       "   'normalization': [True, True],\n",
       "   'resolution': 'Standard',\n",
       "   'resolution rms': 9.0,\n",
       "   'trigger level': 2.0000381475547417},\n",
       "  {'channel': [4, -4],\n",
       "   'conditional filter filtered': [False, False],\n",
       "   'conditional filter triggers': [False, False],\n",
       "   'deadtime': [2000, 2000],\n",
       "   'delay hardware': [0, 0],\n",
       "   'delay software': [0, 0],\n",
       "   'event divider': [0, 0],\n",
       "   'hardware delay compensation': [324, 324],\n",
       "   'input mux': 0,\n",
       "   'normalization': [True, True],\n",
       "   'resolution': 'Standard',\n",
       "   'resolution rms': 9.0,\n",
       "   'trigger level': -0.020027466239413982}],\n",
       " 'led bitmask': 0,\n",
       " 'measurements': [{'name': 'FileWriter',\n",
       "   'params': {'channels': [1, 2, 3, 4, -1, -2, -3, -4],\n",
       "    'filename': 'test_PMTON.ttbin'},\n",
       "   'registered channels': [-4, -3, -2, -1, 1, 2, 3, 4],\n",
       "   'virtual channels': []},\n",
       "  {'name': 'FileWriter',\n",
       "   'params': {'channels': [1, 2, 3, 4, -1, -2, -3, -4],\n",
       "    'filename': 'test_PMTON_2.ttbin'},\n",
       "   'registered channels': [-4, -3, -2, -1, 1, 2, 3, 4],\n",
       "   'virtual channels': []},\n",
       "  {'name': 'FileWriter',\n",
       "   'params': {'channels': [1, 2, 3, 4, -1, -2, -3, -4],\n",
       "    'filename': 'test.ttbin'},\n",
       "   'registered channels': [-4, -3, -2, -1, 1, 2, 3, 4],\n",
       "   'virtual channels': []}],\n",
       " 'network': {'client count': 0,\n",
       "  'protocol version major': 3,\n",
       "  'protocol version minor': 1,\n",
       "  'server running': False,\n",
       "  'server runs': 0},\n",
       " 'registered channels': [-4, -3, -2, -1, 1, 2, 3, 4],\n",
       " 'resolution': 'Standard',\n",
       " 'serial': '2143000XZI',\n",
       " 'software clock': None,\n",
       " 'software version': '2.11.0',\n",
       " 'stream block size events': 131072,\n",
       " 'stream block size latency': 20,\n",
       " 'test signal divider': 63}"
      ]
     },
     "execution_count": 37,
     "metadata": {},
     "output_type": "execute_result"
    }
   ],
   "source": [
    "## pretty print for json\n",
    "fr.getConfiguration()"
   ]
  },
  {
   "cell_type": "code",
   "execution_count": null,
   "id": "8fd4240d-37e8-44af-a525-b961395c0471",
   "metadata": {},
   "outputs": [],
   "source": [
    "buf = fr.getData(0)\n",
    "print(buf.tStart, buf.getTimestamps(), buf.getChannels())"
   ]
  },
  {
   "cell_type": "markdown",
   "id": "5c634da1-feb4-4d3a-9944-27f7e38d2e3e",
   "metadata": {},
   "source": [
    "#### last byte on the stream : 329628425460000 \n"
   ]
  },
  {
   "cell_type": "code",
   "execution_count": 19,
   "id": "3ada6572-aca3-4c5b-bfe1-a9374be57a73",
   "metadata": {},
   "outputs": [],
   "source": [
    "fr = TT.FileReader(r\"C:\\Users\\lociu\\Desktop\\PriyaM\\Data\\Swabian_tests\\test.ttbin\")"
   ]
  },
  {
   "cell_type": "code",
   "execution_count": 39,
   "id": "adde294a-2926-45ba-aafa-fce9c3bc161a",
   "metadata": {},
   "outputs": [
    {
     "data": {
      "text/plain": [
       "(1, 2, 3, 4, -1, -2, -3, -4)"
      ]
     },
     "execution_count": 39,
     "metadata": {},
     "output_type": "execute_result"
    }
   ],
   "source": [
    "fr.getChannelList()"
   ]
  },
  {
   "cell_type": "code",
   "execution_count": 40,
   "id": "2dca2263-bade-49fe-9097-db9fca9abd81",
   "metadata": {},
   "outputs": [
    {
     "name": "stdout",
     "output_type": "stream",
     "text": [
      "-1 [] []\n"
     ]
    }
   ],
   "source": [
    "buf = fr.getData(0)\n",
    "print(buf.tStart, buf.getTimestamps(), buf.getChannels())"
   ]
  },
  {
   "cell_type": "raw",
   "id": "27d51cc8-c754-47bb-b763-a29882a638c8",
   "metadata": {},
   "source": [
    "for buf_event_ix in range(10):\n",
    "    buf = fr.getData(1)\n",
    "    print(buf_event_ix, buf.tStart, buf.getTimestamps(), buf.getChannels())"
   ]
  },
  {
   "cell_type": "raw",
   "id": "be62f559-aa40-47fb-90d0-8e0688dcfdd7",
   "metadata": {},
   "source": [
    "buf = fr.getData(1)\n",
    "print(buf.tStart, buf.getTimestamps(), buf.getChannels(),buf.getEventTypes(),buf.tGetData())"
   ]
  },
  {
   "cell_type": "raw",
   "id": "89743114-c66f-4376-8edd-8e43c014fd09",
   "metadata": {},
   "source": [
    "type(fr.getData(1))"
   ]
  },
  {
   "cell_type": "raw",
   "id": "7dbc429c-a0d2-4860-9fca-7819b66a26d9",
   "metadata": {},
   "source": [
    "n_events = int(1E5)\n",
    "\n",
    "while fr.hasData():\n",
    "    # getData() does not return timestamps, but an instance of TimeTagStreamBuffer\n",
    "    # that contains more information than just the timestamp\n",
    "    data = fr.getData(n_events=n_events)\n",
    "\n",
    "    # With the following methods, we can retrieve a numpy array for the particular information:\n",
    "    channel = data.getChannels()            # The channel numbers\n",
    "    timestamps = data.getTimestamps()       # The timestamps in ps\n",
    "    overflow_types = data.getEventTypes()   # TimeTag = 0, Error = 1, OverflowBegin = 2, OverflowEnd = 3, MissedEvents = 4\n",
    "    missed_events = data.getMissedEvents()  # The numbers of missed events in case of overflow\n",
    "    \n",
    "    "
   ]
  },
  {
   "cell_type": "code",
   "execution_count": 41,
   "id": "66effaff-18b7-47aa-9230-6ad23f2da258",
   "metadata": {},
   "outputs": [
    {
     "data": {
      "text/plain": [
       "1854399131.0"
      ]
     },
     "execution_count": 41,
     "metadata": {},
     "output_type": "execute_result"
    }
   ],
   "source": [
    "total_events"
   ]
  },
  {
   "cell_type": "code",
   "execution_count": 38,
   "id": "4d32cf48-7e55-4227-81f4-ff1521fe2713",
   "metadata": {},
   "outputs": [],
   "source": [
    "n_events = int(1854399131.0)\n",
    "\n",
    "while fr.hasData():\n",
    "    data = fr.getData(n_events=n_events)\n",
    "\n",
    "    # With the following methods, we can retrieve a numpy array for the particular information:\n",
    "    channel = data.getChannels()            # The channel numbers\n",
    "    timestamps = data.getTimestamps()       # The timestamps in ps\n",
    "    overflow_types = data.getEventTypes()   # TimeTag = 0, Error = 1, OverflowBegin = 2, OverflowEnd = 3, MissedEvents = 4\n",
    "    missed_events = data.getMissedEvents()  # The numbers of missed events in case of overflow\n",
    "    "
   ]
  },
  {
   "cell_type": "code",
   "execution_count": 54,
   "id": "eba40262-7f26-4e34-bc16-65029e3a3d33",
   "metadata": {},
   "outputs": [
    {
     "data": {
      "text/plain": [
       "TimeTagger.TimeTagStreamBuffer"
      ]
     },
     "execution_count": 54,
     "metadata": {},
     "output_type": "execute_result"
    }
   ],
   "source": [
    "type(data)"
   ]
  },
  {
   "cell_type": "code",
   "execution_count": 39,
   "id": "5d99f6e7-8d5c-40d7-a0a9-1b751478500f",
   "metadata": {},
   "outputs": [
    {
     "data": {
      "text/plain": [
       "1854399131"
      ]
     },
     "execution_count": 39,
     "metadata": {},
     "output_type": "execute_result"
    }
   ],
   "source": [
    "len(channel)"
   ]
  },
  {
   "cell_type": "code",
   "execution_count": 7,
   "id": "ab7b0d7d-c229-43d7-8444-8755304e114e",
   "metadata": {},
   "outputs": [],
   "source": [
    "import numpy as np"
   ]
  },
  {
   "cell_type": "code",
   "execution_count": 49,
   "id": "3060ee0c-d390-4fc0-9e41-94508947fc36",
   "metadata": {},
   "outputs": [
    {
     "name": "stdout",
     "output_type": "stream",
     "text": [
      "CPU times: total: 5.92 s\n",
      "Wall time: 6 s\n"
     ]
    },
    {
     "data": {
      "text/plain": [
       "1"
      ]
     },
     "execution_count": 49,
     "metadata": {},
     "output_type": "execute_result"
    }
   ],
   "source": [
    "%%time\n",
    "len(np.where(channel==1))"
   ]
  },
  {
   "cell_type": "code",
   "execution_count": 57,
   "id": "728d0e4a-26ef-4ab7-b9b4-329a0c3bd582",
   "metadata": {},
   "outputs": [
    {
     "name": "stdout",
     "output_type": "stream",
     "text": [
      "-4 (2378188,)\n",
      "-3 (52,)\n",
      "-2 (4863,)\n",
      "-1 (924816815,)\n",
      "0 (0,)\n",
      "1 (924816812,)\n",
      "2 (4854,)\n",
      "3 (62,)\n",
      "4 (2377401,)\n",
      "CPU times: total: 15.3 s\n",
      "Wall time: 15.3 s\n"
     ]
    }
   ],
   "source": [
    "%%time\n",
    "for ch in range(-4,5):\n",
    "    ch_1 = np.where(channel==ch)\n",
    "    print(ch, ch_1[0].shape)\n",
    "    "
   ]
  },
  {
   "cell_type": "code",
   "execution_count": null,
   "id": "adca03a6-800c-4dcb-8cfb-1ee5cd22c688",
   "metadata": {},
   "outputs": [],
   "source": [
    "1:laser/sync\n",
    "2: line clock\n",
    "3: frame clock\n",
    "4: photons"
   ]
  },
  {
   "cell_type": "code",
   "execution_count": 23,
   "id": "c358f456-e488-4042-b5f9-4a944c42407e",
   "metadata": {},
   "outputs": [],
   "source": [
    "def tests(n,m):\n",
    "    print(\"\\nSize:\")\n",
    "    for i in range(n,m):\n",
    "        x = fr.getData(i)\n",
    "        print(i,\":\", x.size)\n",
    "    \n",
    "    print(\"\\nChannels:\")\n",
    "    for i in range(n,m):\n",
    "        x = fr.getData(i)\n",
    "        print(i,\":\", x.getChannels())\n",
    "        \n",
    "    print(\"\\nEvent Types:\")    \n",
    "    for i in range(n,m):\n",
    "        x = fr.getData(i)\n",
    "        print(i,\":\", x.getEventTypes())\n",
    "        \n",
    "    print(\"\\nTime Stamps:\")\n",
    "    for i in range(n,m):\n",
    "        x = fr.getData(i)\n",
    "        print(i,\":\", x.getTimestamps())\n",
    "        \n",
    "    print(\"\\nGet Data:\")\n",
    "    for i in range(n,m):\n",
    "        x = fr.getData(i)\n",
    "        print(i,\":\", x.tGetData)\n",
    "        \n",
    "    print(\"\\nT Start:\")\n",
    "    for i in range(n,m):\n",
    "        x = fr.getData(i)\n",
    "        print(i,\":\", x.tStart)"
   ]
  },
  {
   "cell_type": "code",
   "execution_count": 24,
   "id": "d9197130-84c5-4e55-8ced-368c3fd4fe2e",
   "metadata": {},
   "outputs": [
    {
     "name": "stdout",
     "output_type": "stream",
     "text": [
      "\n",
      "Size:\n",
      "1 : 0\n",
      "2 : 0\n",
      "3 : 0\n",
      "4 : 0\n",
      "5 : 0\n",
      "6 : 0\n",
      "7 : 0\n",
      "8 : 0\n",
      "9 : 0\n",
      "\n",
      "Channels:\n",
      "1 : []\n",
      "2 : []\n",
      "3 : []\n",
      "4 : []\n",
      "5 : []\n",
      "6 : []\n",
      "7 : []\n",
      "8 : []\n",
      "9 : []\n",
      "\n",
      "Event Types:\n",
      "1 : []\n",
      "2 : []\n",
      "3 : []\n",
      "4 : []\n",
      "5 : []\n",
      "6 : []\n",
      "7 : []\n",
      "8 : []\n",
      "9 : []\n",
      "\n",
      "Time Stamps:\n",
      "1 : []\n",
      "2 : []\n",
      "3 : []\n",
      "4 : []\n",
      "5 : []\n",
      "6 : []\n",
      "7 : []\n",
      "8 : []\n",
      "9 : []\n",
      "\n",
      "Get Data:\n",
      "1 : 329628425460000\n",
      "2 : 329628425460000\n",
      "3 : 329628425460000\n",
      "4 : 329628425460000\n",
      "5 : 329628425460000\n",
      "6 : 329628425460000\n",
      "7 : 329628425460000\n",
      "8 : 329628425460000\n",
      "9 : 329628425460000\n",
      "\n",
      "T Start:\n",
      "1 : 329628425460000\n",
      "2 : 329628425460000\n",
      "3 : 329628425460000\n",
      "4 : 329628425460000\n",
      "5 : 329628425460000\n",
      "6 : 329628425460000\n",
      "7 : 329628425460000\n",
      "8 : 329628425460000\n",
      "9 : 329628425460000\n"
     ]
    }
   ],
   "source": [
    "tests(1,10)"
   ]
  },
  {
   "cell_type": "code",
   "execution_count": null,
   "id": "177ef442-459b-40cd-8c98-8660730a4e5b",
   "metadata": {},
   "outputs": [],
   "source": []
  },
  {
   "cell_type": "code",
   "execution_count": null,
   "id": "e12aeb7a-85e1-4db9-b2b1-8ee888703703",
   "metadata": {},
   "outputs": [],
   "source": []
  },
  {
   "cell_type": "code",
   "execution_count": null,
   "id": "8ca1d437-2c92-4b0f-9efb-19fa84079301",
   "metadata": {},
   "outputs": [],
   "source": []
  },
  {
   "cell_type": "markdown",
   "id": "d7bb44e4-5612-40da-b181-243c847383c6",
   "metadata": {
    "jp-MarkdownHeadingCollapsed": true,
    "tags": []
   },
   "source": [
    "# server and client?"
   ]
  },
  {
   "cell_type": "raw",
   "id": "6ea8b29d-ea40-4332-b234-a0636a2773a5",
   "metadata": {},
   "source": [
    "import Pyro5.api\n",
    "import TimeTagger as TT"
   ]
  },
  {
   "cell_type": "raw",
   "id": "028ebd2f-f538-4864-86e7-184fad0624a0",
   "metadata": {},
   "source": [
    "@Pyro5.api.expose\n",
    "class TimeTaggerRPC:\n",
    "    \"\"\"Adapter for the Time Tagger Library\"\"\"\n",
    "\n",
    "    def scanTimeTagger(self):\n",
    "        \"\"\"This method will become available remotely.\"\"\"\n",
    "        return TT.scanTimeTagger()\n",
    "\n",
    "\n",
    "if __name__ == '__main__':\n",
    "    # Start server and expose the TimeTaggerRPC class\n",
    "    with Pyro5.api.Daemon(host='localhost', port=23000) as daemon:\n",
    "        # Register class with Pyro\n",
    "        uri = daemon.register(TimeTaggerRPC, 'TimeTagger')\n",
    "        # Print the URI of the published object\n",
    "        print(uri)\n",
    "        # Start the server event loop\n",
    "        daemon.requestLoop()"
   ]
  },
  {
   "cell_type": "raw",
   "id": "a4a35f06-6af5-4fdc-9d1e-7eae5b7a7e0f",
   "metadata": {},
   "source": [
    "# Connect to the TimeTaggerRPC object on the server\n",
    "# This line is all we need to establish remote communication\n",
    "TimeTagger = Pyro5.api.Proxy(\"PYRO:TimeTagger@localhost:23000\")\n",
    "\n",
    "# Now, we can call methods that will be executed on the server.\n",
    "# Lets check what Time Taggers are available at the server\n",
    "timetaggers = TimeTagger.scanTimeTagger()\n",
    "print(timetaggers)"
   ]
  },
  {
   "cell_type": "raw",
   "id": "de8c7798-33ee-4d8e-847f-9e62b6413c82",
   "metadata": {},
   "source": [
    "@Pyro5.api.expose\n",
    "class TimeTagger:\n",
    "    \"\"\"Adapter for the Time Tagger object\"\"\"\n",
    "\n",
    "    def __init__(self, args, kwargs):\n",
    "        self._obj = TT.createTimeTagger(*args, **kwargs)\n",
    "\n",
    "    def setTestSignal(self, *args):\n",
    "        return self._obj.setTestSignal(*args)\n",
    "\n",
    "    def getSerial(self):\n",
    "        return self._obj.getSerial()\n",
    "\n",
    "    # ... Other methods of the TT.TimeTagger class are omitted here.\n",
    "\n",
    "\n",
    "@Pyro5.api.expose\n",
    "class TimeTaggerRPC:\n",
    "    \"\"\"Adapter for the Time Tagger Library\"\"\"\n",
    "\n",
    "    def scanTimeTagger(self):\n",
    "        \"\"\"Return the serial numbers of the available Time Taggers.\"\"\"\n",
    "        return TT.scanTimeTagger()\n",
    "\n",
    "    def createTimeTagger(self, *args, **kwargs):\n",
    "        \"\"\"Create the Time Tagger.\"\"\"\n",
    "        tagger = TimeTagger(args, kwargs)\n",
    "        self._pyroDaemon.register(tagger)\n",
    "        return tagger\n",
    "        # Pyro will automatically create and send a proxy object\n",
    "        # to the client.\n",
    "\n",
    "    def freeTimeTagger(self, tagger_proxy):\n",
    "        \"\"\"Free Time Tagger. \"\"\"\n",
    "        # Client only has a proxy object.\n",
    "        objectId = tagger_proxy._pyroUri.object\n",
    "        # Get adapter object from the server.\n",
    "        tagger = self._pyroDaemon.objectsById.get(objectId)\n",
    "        self._pyroDaemon.unregister(tagger)\n",
    "        return TT.freeTimeTagger(tagger._obj)"
   ]
  },
  {
   "cell_type": "raw",
   "id": "6fb4378f-3444-408b-9463-ad2caf961bc9",
   "metadata": {},
   "source": [
    "with client.createProxy(host='localhost', port=23000) as TT:\n",
    "    tagger = TT.createTimeTagger()\n",
    "    tagger.setTestSignal(1, True)\n",
    "    tagger.setTestSignal(2, True)\n",
    "\n",
    "    hist = TT.Correlation(tagger, 1, 2, binwidth=5, n_bins=2000)\n",
    "    hist.startFor(int(10e12), clear=True)\n",
    "\n",
    "    x = hist.getIndex()\n",
    "    while hist.isRunning():\n",
    "        plt.pause(0.1)\n",
    "        y = hist.getData()\n",
    "        plt.cla()\n",
    "        plt.plot(x, y)\n",
    "\n",
    "    TT.freeTimeTagger(tagger)"
   ]
  },
  {
   "cell_type": "code",
   "execution_count": null,
   "id": "f320ef47-80f7-4282-8de5-acb46646d4df",
   "metadata": {},
   "outputs": [],
   "source": []
  }
 ],
 "metadata": {
  "kernelspec": {
   "display_name": "Python 3 (ipykernel)",
   "language": "python",
   "name": "python3"
  },
  "language_info": {
   "codemirror_mode": {
    "name": "ipython",
    "version": 3
   },
   "file_extension": ".py",
   "mimetype": "text/x-python",
   "name": "python",
   "nbconvert_exporter": "python",
   "pygments_lexer": "ipython3",
   "version": "3.10.7"
  }
 },
 "nbformat": 4,
 "nbformat_minor": 5
}
