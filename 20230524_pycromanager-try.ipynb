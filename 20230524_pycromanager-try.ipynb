{
 "cells": [
  {
   "cell_type": "markdown",
   "id": "dd72c796-3a0f-4225-9833-0d299e4a32ec",
   "metadata": {
    "jp-MarkdownHeadingCollapsed": true,
    "tags": []
   },
   "source": [
    "## env : pycromanager"
   ]
  },
  {
   "cell_type": "code",
   "execution_count": 3,
   "id": "797815d2-9512-4f30-9be3-c4be60bfa98e",
   "metadata": {},
   "outputs": [
    {
     "name": "stdout",
     "output_type": "stream",
     "text": [
      "Last updated: 2023-05-30T10:22:33.995157-05:00\n",
      "\n",
      "Python implementation: CPython\n",
      "Python version       : 3.10.11\n",
      "IPython version      : 8.13.2\n",
      "\n",
      "Compiler    : MSC v.1916 64 bit (AMD64)\n",
      "OS          : Windows\n",
      "Release     : 10\n",
      "Machine     : AMD64\n",
      "Processor   : Intel64 Family 6 Model 85 Stepping 4, GenuineIntel\n",
      "CPU cores   : 8\n",
      "Architecture: 64bit\n",
      "\n"
     ]
    }
   ],
   "source": [
    "from watermark import watermark\n",
    "print(watermark())"
   ]
  },
  {
   "cell_type": "markdown",
   "id": "3f128555-d801-4735-9dea-f2d4bfc605ac",
   "metadata": {
    "tags": []
   },
   "source": [
    "## loading dependencies"
   ]
  },
  {
   "cell_type": "code",
   "execution_count": 5,
   "id": "abdf0ec9-7ca5-415e-8de9-0a6339461191",
   "metadata": {},
   "outputs": [],
   "source": [
    "import numpy as np\n",
    "from matplotlib.pyplot import *\n",
    "%matplotlib inline\n",
    "from PIL import Image\n",
    "\n",
    "from scipy.ndimage import maximum_filter"
   ]
  },
  {
   "cell_type": "code",
   "execution_count": 22,
   "id": "1dd21c7f-9aa7-480c-ab79-13f497ca65c7",
   "metadata": {},
   "outputs": [
    {
     "name": "stdout",
     "output_type": "stream",
     "text": [
      "<pycromanager.zmq_bridge._bridge.mmcorej_CMMCore object at 0x000002567D7B7670>\n"
     ]
    }
   ],
   "source": [
    "from pycromanager import Core\n",
    "\n",
    "core = Core()\n",
    "print(core)"
   ]
  },
  {
   "cell_type": "code",
   "execution_count": 7,
   "id": "9c43e4ce-b5f4-4467-8bf8-5906ee9a2b7f",
   "metadata": {},
   "outputs": [],
   "source": [
    "def obj_to_list(name):\n",
    "    name = [name.get(i) for i in range(name.size())]\n",
    "    return name"
   ]
  },
  {
   "cell_type": "markdown",
   "id": "24476193-e07f-46de-a322-74b619e33b09",
   "metadata": {},
   "source": [
    "# fixing stuff"
   ]
  },
  {
   "cell_type": "code",
   "execution_count": 10,
   "id": "6e7936ca-5e45-4da4-9f69-d532600b5616",
   "metadata": {},
   "outputs": [
    {
     "data": {
      "text/plain": [
       "0.5"
      ]
     },
     "execution_count": 10,
     "metadata": {},
     "output_type": "execute_result"
    }
   ],
   "source": [
    "core.get_pixel_size_um()"
   ]
  },
  {
   "cell_type": "code",
   "execution_count": 24,
   "id": "494084ad-1785-41c5-8d9b-21ebc09b1d6b",
   "metadata": {},
   "outputs": [],
   "source": [
    "pos = core.get_xy_stage_position()"
   ]
  },
  {
   "cell_type": "code",
   "execution_count": 26,
   "id": "605010a2-e4bc-4ed0-97c7-15a95d699846",
   "metadata": {},
   "outputs": [
    {
     "data": {
      "text/plain": [
       "'Point2D.Double[0.495, -0.0]'"
      ]
     },
     "execution_count": 26,
     "metadata": {},
     "output_type": "execute_result"
    }
   ],
   "source": [
    "pos.to_string()"
   ]
  },
  {
   "cell_type": "code",
   "execution_count": 34,
   "id": "c1453cb1-c8e9-4c6a-9127-f586b8e74ade",
   "metadata": {},
   "outputs": [
    {
     "data": {
      "text/plain": [
       "'512'"
      ]
     },
     "execution_count": 34,
     "metadata": {},
     "output_type": "execute_result"
    }
   ],
   "source": [
    "core.get_property('Camera', 'OnCameraCCDXSize')"
   ]
  },
  {
   "cell_type": "code",
   "execution_count": null,
   "id": "8a44277e-0c49-4df6-be2d-85a90a2e96d6",
   "metadata": {},
   "outputs": [],
   "source": []
  },
  {
   "cell_type": "code",
   "execution_count": 35,
   "id": "fc2df1a6-416e-4131-bf03-1ef8a2b725a7",
   "metadata": {},
   "outputs": [],
   "source": [
    "obj = core.get_device_property_names('Objective')"
   ]
  },
  {
   "cell_type": "code",
   "execution_count": 39,
   "id": "f9b1f1a2-bf60-4296-9f44-6469007bc07d",
   "metadata": {},
   "outputs": [],
   "source": [
    "dev_prop = obj_to_list(obj)"
   ]
  },
  {
   "cell_type": "code",
   "execution_count": 41,
   "id": "36f6085d-3531-4aab-bcdc-8b44e4d3cf96",
   "metadata": {},
   "outputs": [
    {
     "name": "stdout",
     "output_type": "stream",
     "text": [
      "Description : Demo objective turret driver \n",
      "\n",
      "HubID :  \n",
      "\n",
      "Label : Nikon 20X Plan Fluor ELWD \n",
      "\n",
      "Name : DObjective \n",
      "\n",
      "State : 3 \n",
      "\n",
      "Trigger : - \n",
      "\n"
     ]
    }
   ],
   "source": [
    "for name in dev_prop:\n",
    "    prop = core.get_property('Objective', name)\n",
    "    print(name,\":\", prop, \"\\n\")"
   ]
  },
  {
   "cell_type": "code",
   "execution_count": 38,
   "id": "785157df-d764-4eb3-8876-dad74e21fa38",
   "metadata": {},
   "outputs": [
    {
     "data": {
      "text/plain": [
       "'3'"
      ]
     },
     "execution_count": 38,
     "metadata": {},
     "output_type": "execute_result"
    }
   ],
   "source": [
    "core.get_property('Objective', 'State')"
   ]
  },
  {
   "cell_type": "code",
   "execution_count": null,
   "id": "91ea5cfb-e9f9-4041-aab3-3b4697883ebd",
   "metadata": {},
   "outputs": [],
   "source": []
  },
  {
   "cell_type": "markdown",
   "id": "241cdb11-786e-41af-ada3-6cfce40bcc63",
   "metadata": {
    "jp-MarkdownHeadingCollapsed": true,
    "tags": []
   },
   "source": [
    "## demo for core functions"
   ]
  },
  {
   "cell_type": "code",
   "execution_count": 32,
   "id": "5972ced3-b55a-4aed-8c5a-c3450d1b0656",
   "metadata": {},
   "outputs": [],
   "source": [
    "loaded_devices = core.get_loaded_devices()"
   ]
  },
  {
   "cell_type": "code",
   "execution_count": 42,
   "id": "caaaf55c-ccbd-457c-855c-274ed8ae12fe",
   "metadata": {},
   "outputs": [],
   "source": [
    "loaded_devices_names = obj_to_list(loaded_devices)"
   ]
  },
  {
   "cell_type": "markdown",
   "id": "d3e3ab09-a248-4600-9924-b52e5639a44b",
   "metadata": {},
   "source": [
    "for device_name in loaded_devices_names:\n",
    "    device_prop = core.get_device_property_names(device_name)\n",
    "    print(device_name,\"\\n\",obj_to_list(device_prop), \"\\n\")\n",
    "    props = obj_to_list(device_prop)\n",
    "    for prop in props:\n",
    "        val = core.get_property(device_name, prop)\n",
    "        print(prop,\":\", val, \"\\n\")\n",
    "    print(\"\\n-----\\n\")"
   ]
  },
  {
   "cell_type": "code",
   "execution_count": 54,
   "id": "e2c99552-d5d3-4b3b-ad47-4eabcb2d8f91",
   "metadata": {},
   "outputs": [
    {
     "data": {
      "text/plain": [
       "['Camera', 'Channel', 'LightPath', 'Objective', 'System']"
      ]
     },
     "execution_count": 54,
     "metadata": {},
     "output_type": "execute_result"
    }
   ],
   "source": [
    "obj_to_list(core.get_available_config_groups())"
   ]
  },
  {
   "cell_type": "code",
   "execution_count": 55,
   "id": "fee84d47-c3f3-452b-9c4c-3b92fa349726",
   "metadata": {},
   "outputs": [
    {
     "data": {
      "text/plain": [
       "['10X', '20X', '40X']"
      ]
     },
     "execution_count": 55,
     "metadata": {},
     "output_type": "execute_result"
    }
   ],
   "source": [
    "obj_to_list(core.get_available_configs('Objective'))"
   ]
  },
  {
   "cell_type": "code",
   "execution_count": 81,
   "id": "de52cd8a-0217-44e8-8ebe-140ace67eec6",
   "metadata": {},
   "outputs": [],
   "source": [
    "p = core.get_current_config('Objective')"
   ]
  },
  {
   "cell_type": "code",
   "execution_count": 80,
   "id": "13180248-9287-4e4a-bcd8-75665be12520",
   "metadata": {},
   "outputs": [],
   "source": [
    "core.set_config('Objective', '40X')"
   ]
  },
  {
   "cell_type": "code",
   "execution_count": 82,
   "id": "26b19149-c204-4f23-a65b-2ee4521034ac",
   "metadata": {},
   "outputs": [
    {
     "data": {
      "text/plain": [
       "'40X'"
      ]
     },
     "execution_count": 82,
     "metadata": {},
     "output_type": "execute_result"
    }
   ],
   "source": [
    "p"
   ]
  },
  {
   "cell_type": "code",
   "execution_count": 63,
   "id": "700966bb-c0d7-4895-a0a8-b45ebb1a62e7",
   "metadata": {},
   "outputs": [],
   "source": [
    "auto_shutter = core.get_property('Core', 'AutoShutter')\n",
    "##core.set_property('Core', 'AutoShutter', 0)"
   ]
  },
  {
   "cell_type": "markdown",
   "id": "c3b51530-1539-4830-b680-97841085344d",
   "metadata": {
    "jp-MarkdownHeadingCollapsed": true,
    "tags": []
   },
   "source": [
    "### Snap an Image"
   ]
  },
  {
   "cell_type": "code",
   "execution_count": 64,
   "id": "1e6c60f4-b0c3-4cf2-acd0-1bb170baf882",
   "metadata": {},
   "outputs": [],
   "source": [
    "core.snap_image()"
   ]
  },
  {
   "cell_type": "code",
   "execution_count": 65,
   "id": "b7e16afe-f9c2-456f-91ae-1a37f1a402d3",
   "metadata": {},
   "outputs": [],
   "source": [
    "tagged_image = core.get_tagged_image()"
   ]
  },
  {
   "cell_type": "code",
   "execution_count": 67,
   "id": "a469dcc3-f5ed-4192-95e4-fc42e98cdc2b",
   "metadata": {},
   "outputs": [],
   "source": [
    "pixels = np.reshape(tagged_image.pix,\n",
    "                        newshape=[tagged_image.tags['Height'], tagged_image.tags['Width']])\n"
   ]
  },
  {
   "cell_type": "code",
   "execution_count": 68,
   "id": "ff9ecfb4-a9c0-4f17-8db6-4ad085ee96dc",
   "metadata": {},
   "outputs": [],
   "source": []
  },
  {
   "cell_type": "code",
   "execution_count": 69,
   "id": "8551763d-358e-40ad-96d3-72c473117d09",
   "metadata": {},
   "outputs": [
    {
     "data": {
      "text/plain": [
       "<matplotlib.image.AxesImage at 0x278d1c70880>"
      ]
     },
     "execution_count": 69,
     "metadata": {},
     "output_type": "execute_result"
    },
    {
     "data": {
      "image/png": "[encoded data removed]",
      "text/plain": [
       "<Figure size 640x480 with 1 Axes>"
      ]
     },
     "metadata": {},
     "output_type": "display_data"
    }
   ],
   "source": [
    "imshow(pixels)"
   ]
  },
  {
   "cell_type": "code",
   "execution_count": 70,
   "id": "a5417beb-f841-45e0-b0dd-e3f2ed165252",
   "metadata": {},
   "outputs": [
    {
     "data": {
      "text/plain": [
       "<pycromanager.zmq_bridge._bridge.java_awt_geom_Point2D$Double at 0x278cf247e80>"
      ]
     },
     "execution_count": 70,
     "metadata": {},
     "output_type": "execute_result"
    }
   ],
   "source": [
    "core.get_xy_stage_position()"
   ]
  },
  {
   "cell_type": "code",
   "execution_count": 71,
   "id": "2b978531-6b03-447f-892e-8f4afe005a02",
   "metadata": {},
   "outputs": [],
   "source": [
    "def obj_to_list(name):\n",
    "    name = [name.get(i) for i in range(name.size())]\n",
    "    return name"
   ]
  },
  {
   "cell_type": "code",
   "execution_count": 72,
   "id": "bf2d1db9-71a8-4c43-a8da-7c73d70144a3",
   "metadata": {},
   "outputs": [
    {
     "data": {
      "text/plain": [
       "['DHub',\n",
       " 'Camera',\n",
       " 'Dichroic',\n",
       " 'Emission',\n",
       " 'Excitation',\n",
       " 'Objective',\n",
       " 'Z',\n",
       " 'Path',\n",
       " 'XY',\n",
       " 'Shutter',\n",
       " 'Autofocus',\n",
       " 'Core']"
      ]
     },
     "execution_count": 72,
     "metadata": {},
     "output_type": "execute_result"
    }
   ],
   "source": [
    "devices = core.get_loaded_devices()\n",
    "obj_to_list(devices)"
   ]
  },
  {
   "cell_type": "code",
   "execution_count": 73,
   "id": "38521c4d-284a-410b-89f1-30df34f49625",
   "metadata": {},
   "outputs": [
    {
     "data": {
      "text/plain": [
       "'DCam'"
      ]
     },
     "execution_count": 73,
     "metadata": {},
     "output_type": "execute_result"
    }
   ],
   "source": [
    "core.get_device_name('Camera')"
   ]
  },
  {
   "cell_type": "code",
   "execution_count": 79,
   "id": "7811125a-998a-417c-9346-8fc8765300e1",
   "metadata": {},
   "outputs": [
    {
     "data": {
      "text/plain": [
       "['AllowMultiROI',\n",
       " 'AsyncPropertyDelayMS',\n",
       " 'AsyncPropertyFollower',\n",
       " 'AsyncPropertyLeader',\n",
       " 'Binning',\n",
       " 'BitDepth',\n",
       " 'CCDTemperature',\n",
       " 'CCDTemperature RO',\n",
       " 'CameraID',\n",
       " 'CameraName',\n",
       " 'Description',\n",
       " 'DisplayImageNumber',\n",
       " 'DropPixels',\n",
       " 'Exposure',\n",
       " 'FastImage',\n",
       " 'FractionOfPixelsToDropOrSaturate',\n",
       " 'Gain',\n",
       " 'HubID',\n",
       " 'MaximumExposureMs',\n",
       " 'Mode',\n",
       " 'MultiROIFillValue',\n",
       " 'Name',\n",
       " 'Offset',\n",
       " 'OnCameraCCDXSize',\n",
       " 'OnCameraCCDYSize',\n",
       " 'Photon Conversion Factor',\n",
       " 'Photon Flux',\n",
       " 'PixelType',\n",
       " 'ReadNoise (electrons)',\n",
       " 'ReadoutTime',\n",
       " 'RotateImages',\n",
       " 'SaturatePixels',\n",
       " 'ScanMode',\n",
       " 'SimulateCrash',\n",
       " 'StripeWidth',\n",
       " 'TestProperty1',\n",
       " 'TestProperty2',\n",
       " 'TestProperty3',\n",
       " 'TestProperty4',\n",
       " 'TestProperty5',\n",
       " 'TestProperty6',\n",
       " 'TransposeCorrection',\n",
       " 'TransposeMirrorX',\n",
       " 'TransposeMirrorY',\n",
       " 'TransposeXY',\n",
       " 'TriggerDevice',\n",
       " 'UseExposureSequences']"
      ]
     },
     "execution_count": 79,
     "metadata": {},
     "output_type": "execute_result"
    }
   ],
   "source": [
    "cam_prop = core.get_device_property_names('Camera')\n",
    "obj_to_list(cam_prop)"
   ]
  },
  {
   "cell_type": "code",
   "execution_count": 80,
   "id": "b98307d6-0ad7-4b84-b7de-c83d2ce5f94d",
   "metadata": {},
   "outputs": [
    {
     "data": {
      "text/plain": [
       "'3'"
      ]
     },
     "execution_count": 80,
     "metadata": {},
     "output_type": "execute_result"
    }
   ],
   "source": [
    "core.get_property('Camera', 'Gain')"
   ]
  },
  {
   "cell_type": "code",
   "execution_count": 81,
   "id": "1b206597-aa9c-4c7b-9372-504557d95172",
   "metadata": {},
   "outputs": [
    {
     "data": {
      "text/plain": [
       "'3'"
      ]
     },
     "execution_count": 81,
     "metadata": {},
     "output_type": "execute_result"
    }
   ],
   "source": [
    "core.set_property('Camera', 'Gain', 3)\n",
    "core.get_property('Camera', 'Gain')"
   ]
  },
  {
   "cell_type": "code",
   "execution_count": 82,
   "id": "f4baffca-e89d-4b15-bba3-f4321815d5d0",
   "metadata": {},
   "outputs": [
    {
     "data": {
      "text/plain": [
       "['Camera', 'Channel', 'LightPath', 'Objective', 'System']"
      ]
     },
     "execution_count": 82,
     "metadata": {},
     "output_type": "execute_result"
    }
   ],
   "source": [
    "config_groups = core.get_available_config_groups()\n",
    "obj_to_list(config_groups)"
   ]
  },
  {
   "cell_type": "code",
   "execution_count": 83,
   "id": "31b73659-51a6-4a9a-869e-7236972a5cd0",
   "metadata": {},
   "outputs": [
    {
     "data": {
      "text/plain": [
       "['HighRes', 'LowRes', 'MedRes']"
      ]
     },
     "execution_count": 83,
     "metadata": {},
     "output_type": "execute_result"
    }
   ],
   "source": [
    "camera_config_presets = core.get_available_configs('Camera')\n",
    "obj_to_list(camera_config_presets)"
   ]
  },
  {
   "cell_type": "code",
   "execution_count": 96,
   "id": "1029bf0c-7dbb-4397-ad0f-c5726e8cf3e0",
   "metadata": {},
   "outputs": [
    {
     "data": {
      "text/plain": [
       "'Point2D.Double[-0.0, -0.0]'"
      ]
     },
     "execution_count": 96,
     "metadata": {},
     "output_type": "execute_result"
    }
   ],
   "source": [
    "xy_pos = core.get_xy_stage_position()\n",
    "xy_pos.to_string()"
   ]
  },
  {
   "cell_type": "code",
   "execution_count": 97,
   "id": "7bd67f85-2ef0-4629-ba67-57090ed42af7",
   "metadata": {},
   "outputs": [
    {
     "data": {
      "text/plain": [
       "0"
      ]
     },
     "execution_count": 97,
     "metadata": {},
     "output_type": "execute_result"
    }
   ],
   "source": [
    "core.get_position()"
   ]
  },
  {
   "cell_type": "code",
   "execution_count": 113,
   "id": "26f7d52e-e596-44df-a017-ab76f58af3ee",
   "metadata": {},
   "outputs": [],
   "source": [
    "core.set_relative_xy_position(1.0, 1.0)"
   ]
  },
  {
   "cell_type": "code",
   "execution_count": 114,
   "id": "65ac27f8-278d-4c64-bc98-5a29bb1796ce",
   "metadata": {},
   "outputs": [
    {
     "data": {
      "text/plain": [
       "'Point2D.Double[101.00999999999999, 101.00999999999999]'"
      ]
     },
     "execution_count": 114,
     "metadata": {},
     "output_type": "execute_result"
    }
   ],
   "source": [
    "xy_pos = core.get_xy_stage_position()\n",
    "xy_pos.to_string()"
   ]
  },
  {
   "cell_type": "code",
   "execution_count": 115,
   "id": "79d33471-cc89-4906-b843-ff229c6f1e41",
   "metadata": {},
   "outputs": [
    {
     "data": {
      "text/plain": [
       "<matplotlib.image.AxesImage at 0x278d24c36d0>"
      ]
     },
     "execution_count": 115,
     "metadata": {},
     "output_type": "execute_result"
    },
    {
     "data": {
      "image/png": "[encoded data removed]",
      "text/plain": [
       "<Figure size 640x480 with 1 Axes>"
      ]
     },
     "metadata": {},
     "output_type": "display_data"
    }
   ],
   "source": [
    "core.snap_image()\n",
    "tagged_image = core.get_tagged_image()\n",
    "pix = np.reshape(tagged_image.pix,\n",
    "                        newshape=[tagged_image.tags['Height'], tagged_image.tags['Width']])\n",
    "imshow(pix)"
   ]
  },
  {
   "cell_type": "markdown",
   "id": "7c6c50fe-2ff2-42b2-bb90-8fa68275e6fc",
   "metadata": {
    "tags": []
   },
   "source": [
    "## MOSAIC"
   ]
  },
  {
   "cell_type": "code",
   "execution_count": 7,
   "id": "20bd2e8a-5c0b-4776-a99f-84e68022f695",
   "metadata": {},
   "outputs": [],
   "source": [
    "from pycromanager import Acquisition, multi_d_acquisition_events, Dataset\n"
   ]
  },
  {
   "cell_type": "code",
   "execution_count": 49,
   "id": "b4d98d4c-0fe1-449a-9d6e-41979b3617c0",
   "metadata": {},
   "outputs": [
    {
     "data": {
      "text/plain": [
       "array([[0, 1],\n",
       "       [1, 1],\n",
       "       [2, 1],\n",
       "       [0, 2],\n",
       "       [1, 2],\n",
       "       [2, 2],\n",
       "       [0, 3],\n",
       "       [1, 3],\n",
       "       [2, 3]])"
      ]
     },
     "execution_count": 49,
     "metadata": {},
     "output_type": "execute_result"
    }
   ],
   "source": [
    "def center_grid(x, y) :\n",
    "    #3x3 grid centered on x,y coord\n",
    "    return np.array([[x-1,y-1], [x,y-1], [x+1,y-1],\n",
    "                     [x-1,y], [x,y], [x+1,y],\n",
    "                     [x-1,y+1], [x,y+1], [x+1,y+1]])\n",
    "    \n",
    "xy = center_grid(1,2)\n",
    "xy"
   ]
  },
  {
   "cell_type": "code",
   "execution_count": 44,
   "id": "bdb26583-224a-489e-b35e-ac4495e15354",
   "metadata": {},
   "outputs": [],
   "source": [
    "with Acquisition(directory=r\"C:\\Users\\lociu\\Desktop\\PriyaM\\Data\\image_collection\", \n",
    "                        name='xy_tile_try23') as acq:\n",
    "    events = multi_d_acquisition_events(xy_positions=xy)\n",
    "    acq.acquire(events)  \n",
    "                            \n",
    "    dataset = acq.get_dataset()"
   ]
  },
  {
   "cell_type": "markdown",
   "id": "7e55218f-0075-45cf-9cf2-6e960550835d",
   "metadata": {
    "jp-MarkdownHeadingCollapsed": true,
    "tags": []
   },
   "source": [
    "# Tiling scratch"
   ]
  },
  {
   "cell_type": "code",
   "execution_count": 51,
   "id": "66de453a-24ba-467c-b8f1-c2ba6c6790ba",
   "metadata": {},
   "outputs": [
    {
     "data": {
      "text/plain": [
       "<matplotlib.image.AxesImage at 0x1a9a5323c40>"
      ]
     },
     "execution_count": 51,
     "metadata": {},
     "output_type": "execute_result"
    },
    {
     "data": {
      "image/png": "[encoded data removed]",
      "text/plain": [
       "<Figure size 640x480 with 1 Axes>"
      ]
     },
     "metadata": {},
     "output_type": "display_data"
    }
   ],
   "source": [
    "#getting image from dataset\n",
    "img11 = dataset.read_image(position=0)\n",
    "imshow(img11)"
   ]
  },
  {
   "cell_type": "code",
   "execution_count": 52,
   "id": "2797f397-eabf-4451-ab18-b9cda3bb1a2f",
   "metadata": {},
   "outputs": [
    {
     "data": {
      "text/plain": [
       "(512, 512)"
      ]
     },
     "execution_count": 52,
     "metadata": {},
     "output_type": "execute_result"
    }
   ],
   "source": [
    "img11.shape"
   ]
  },
  {
   "cell_type": "code",
   "execution_count": 58,
   "id": "7f27ca09-b989-44c7-803c-f8452df330a8",
   "metadata": {},
   "outputs": [
    {
     "data": {
      "text/plain": [
       "'I;16'"
      ]
     },
     "execution_count": 58,
     "metadata": {},
     "output_type": "execute_result"
    }
   ],
   "source": [
    "img21 = dataset.read_image(position=1)\n",
    "img2 = Image.fromarray(img21)\n",
    "img1 = Image.fromarray(img11)\n",
    "\n",
    "img2.mode"
   ]
  },
  {
   "cell_type": "code",
   "execution_count": 66,
   "id": "b614434d-f9d7-4efc-a51d-fe56656b17c1",
   "metadata": {},
   "outputs": [
    {
     "data": {
      "text/plain": [
       "<matplotlib.image.AxesImage at 0x1a9a9100af0>"
      ]
     },
     "execution_count": 66,
     "metadata": {},
     "output_type": "execute_result"
    },
    {
     "data": {
      "image/png": "[encoded data removed]",
      "text/plain": [
       "<Figure size 640x480 with 1 Axes>"
      ]
     },
     "metadata": {},
     "output_type": "display_data"
    }
   ],
   "source": [
    "#stitching 2 images\n",
    "new_image = Image.new(mode='I;16', size=(2*512, 512))\n",
    "type(new_image)\n",
    "new_image.paste(img1,(0,0))\n",
    "new_image.paste(img2,(512,0))\n",
    "imshow(new_image)"
   ]
  },
  {
   "cell_type": "code",
   "execution_count": 55,
   "id": "40883f66-ee05-4b66-bda1-49759d5e7e10",
   "metadata": {},
   "outputs": [],
   "source": [
    "ax = dataset.axes\n",
    "amount = ax[\"position\"]"
   ]
  },
  {
   "cell_type": "code",
   "execution_count": 56,
   "id": "5f9d85f8-3048-4bf5-9eb2-222195109220",
   "metadata": {},
   "outputs": [
    {
     "data": {
      "text/plain": [
       "(512, 512)"
      ]
     },
     "execution_count": 56,
     "metadata": {},
     "output_type": "execute_result"
    }
   ],
   "source": [
    "q = images_list(dataset)\n",
    "q[0].size"
   ]
  },
  {
   "cell_type": "markdown",
   "id": "135c47b9-94f7-4a44-8bb7-f2c58327d209",
   "metadata": {
    "jp-MarkdownHeadingCollapsed": true,
    "tags": []
   },
   "source": [
    "# functions for stitching"
   ]
  },
  {
   "cell_type": "code",
   "execution_count": 45,
   "id": "f74da8a7-d9f7-4a50-b6d6-b62553820f8c",
   "metadata": {},
   "outputs": [],
   "source": [
    "def images_list(dataset):\n",
    "    #dataset to list of images\n",
    "    ax = dataset.axes\n",
    "    amount = ax[\"position\"]\n",
    "\n",
    "    im_list = []\n",
    "    for i in amount:\n",
    "        im_list.append(Image.fromarray(dataset.read_image(position=i)))\n",
    "    \n",
    "    return im_list\n",
    "        "
   ]
  },
  {
   "cell_type": "code",
   "execution_count": 46,
   "id": "c9490037-e458-45eb-95f3-274020563099",
   "metadata": {},
   "outputs": [],
   "source": [
    "def stitch_images(lst, n, m):\n",
    "    #list of images stitched in nxm grid\n",
    "    sizing = lst[0].size\n",
    "    mod = lst[0].mode\n",
    "    #nxwidth of image, mxheight of images\n",
    "    new_image = Image.new(mode=mod, size=(n*sizing[0], m*sizing[1]))\n",
    "\n",
    "    iter=0\n",
    "    for i in range(m):\n",
    "        for j in range(n):\n",
    "            #coord are (x,y)\n",
    "            new_image.paste(lst[iter], (j*sizing[0], i*sizing[1]))\n",
    "            iter+=1\n",
    "    return new_image"
   ]
  },
  {
   "cell_type": "code",
   "execution_count": 47,
   "id": "0c6ea7ac-aa46-4dde-a5f7-be5d124d604b",
   "metadata": {},
   "outputs": [],
   "source": [
    "im_lst= images_list(dataset)\n",
    "stitched_im= stitch_images(im_lst, 3, 3)"
   ]
  },
  {
   "cell_type": "code",
   "execution_count": 48,
   "id": "724537d0-1e0e-4f76-9540-ef3a5d1aa8a1",
   "metadata": {},
   "outputs": [
    {
     "data": {
      "text/plain": [
       "<matplotlib.image.AxesImage at 0x1a9a52bc400>"
      ]
     },
     "execution_count": 48,
     "metadata": {},
     "output_type": "execute_result"
    },
    {
     "data": {
      "image/png": "[encoded data removed]",
      "text/plain": [
       "<Figure size 640x480 with 1 Axes>"
      ]
     },
     "metadata": {},
     "output_type": "display_data"
    }
   ],
   "source": [
    "imshow(stitched_im)"
   ]
  },
  {
   "cell_type": "markdown",
   "id": "4399f9c1-c57e-4f45-849a-f3caaa17f22b",
   "metadata": {
    "jp-MarkdownHeadingCollapsed": true
   },
   "source": [
    "# XYTiledAcq"
   ]
  },
  {
   "cell_type": "markdown",
   "id": "c81e628f-3136-4324-b098-588ec8383b86",
   "metadata": {
    "editable": true,
    "slideshow": {
     "slide_type": ""
    },
    "tags": []
   },
   "source": [
    "with XYTiledAcquisition(directory=r\"C:\\Users\\lociu\\Desktop\\PriyaM\\image_collection\", \n",
    "                        name='xy_tile_try15', \n",
    "                        tile_overlap=10) as acq:\n",
    "    #acquire a 2 x 1 grid\n",
    "    acq.acquire({'axes':\n",
    "                    {'row': 0, 'col': 0}\n",
    "                            })\n",
    "    time.sleep(2)                        \n",
    "    acq.acquire({'axes':\n",
    "                    {'row': 1, 'col': 0}\n",
    "                            })\n",
    "    time.sleep(2)     "
   ]
  },
  {
   "cell_type": "code",
   "execution_count": 43,
   "id": "f3765dd8-4921-4df8-8813-c7c4b6248587",
   "metadata": {},
   "outputs": [],
   "source": [
    "acq.mark_finished()"
   ]
  },
  {
   "cell_type": "code",
   "execution_count": 39,
   "id": "7408c1f0-5c90-416b-ac1d-a94faa5ab40a",
   "metadata": {},
   "outputs": [],
   "source": [
    "dataset = acq.get_dataset()"
   ]
  },
  {
   "cell_type": "code",
   "execution_count": 41,
   "id": "d3f23363-503a-470c-a22d-39f60951c39e",
   "metadata": {},
   "outputs": [],
   "source": [
    "#dataset.as_array()"
   ]
  },
  {
   "cell_type": "code",
   "execution_count": 8,
   "id": "49a7deed-cdf3-4251-a4ec-9e00a02d9f79",
   "metadata": {},
   "outputs": [
    {
     "name": "stdout",
     "output_type": "stream",
     "text": [
      "binding 4828\n"
     ]
    }
   ],
   "source": [
    "save_dir = r\"C:\\Users\\lociu\\Desktop\\PriyaM\\image_collection\"\n",
    "acq = XYTiledAcquisition(directory= save_dir, \n",
    "                         name='xy_tile_try12', #int = 4827,\n",
    "                         tile_overlap=10,debug = True)"
   ]
  },
  {
   "cell_type": "code",
   "execution_count": 47,
   "id": "50b805ef-be81-4b6d-a3c8-34ec4972db71",
   "metadata": {},
   "outputs": [],
   "source": [
    "axis_dict = {'axes':{'row': 0, 'col': 0}}\n",
    "acq.acquire(axis_dict)\n",
    "\n",
    "axis_dict = {'axes':{'row': 1, 'col': 0}}\n",
    "acq.acquire(axis_dict)\n",
    "\n",
    "axis_dict = {'axes':{'row': 1, 'col': 1}}\n",
    "acq.acquire(axis_dict)\n",
    "\n",
    "axis_dict = {'axes':{'row': 0, 'col': 1}}\n",
    "acq.acquire(axis_dict)"
   ]
  },
  {
   "cell_type": "code",
   "execution_count": 9,
   "id": "b55631c6-1681-4cbf-900d-39faff2a7ac8",
   "metadata": {},
   "outputs": [],
   "source": [
    "data = acq.get_dataset()"
   ]
  },
  {
   "cell_type": "code",
   "execution_count": 10,
   "id": "15fead09-8b8b-41f0-a7ea-faf3a85b6240",
   "metadata": {},
   "outputs": [],
   "source": [
    "#data.path"
   ]
  },
  {
   "cell_type": "code",
   "execution_count": 11,
   "id": "3108622d-5a4d-49cd-8fd3-cd61349e2167",
   "metadata": {},
   "outputs": [
    {
     "data": {
      "text/plain": [
       "False"
      ]
     },
     "execution_count": 11,
     "metadata": {},
     "output_type": "execute_result"
    }
   ],
   "source": [
    "#data.has_image()"
   ]
  },
  {
   "cell_type": "code",
   "execution_count": 13,
   "id": "52f056c2-e3ae-4e2e-86de-87728191c3be",
   "metadata": {},
   "outputs": [],
   "source": [
    "#data.axes"
   ]
  },
  {
   "cell_type": "code",
   "execution_count": null,
   "id": "526af468-8428-4815-954a-10d85111c96d",
   "metadata": {
    "editable": true,
    "slideshow": {
     "slide_type": ""
    },
    "tags": []
   },
   "outputs": [],
   "source": [
    "#acq.await_completion()"
   ]
  },
  {
   "cell_type": "code",
   "execution_count": 14,
   "id": "f84b0015-a685-40af-8255-2375088465bb",
   "metadata": {},
   "outputs": [
    {
     "name": "stdout",
     "output_type": "stream",
     "text": [
      "got event(s): None\n",
      "DEBUG, sending: {'events': [{'special': 'acquisition-end'}]}\n",
      "closed socket 4828\n"
     ]
    }
   ],
   "source": [
    "acq.mark_finished()"
   ]
  },
  {
   "cell_type": "code",
   "execution_count": 16,
   "id": "7512d054-f7bf-4312-afce-02b4396533e3",
   "metadata": {},
   "outputs": [],
   "source": [
    "data = acq.get_dataset()"
   ]
  },
  {
   "cell_type": "code",
   "execution_count": 23,
   "id": "48b42008-3438-4ab9-81c8-9e1500a48ac0",
   "metadata": {},
   "outputs": [],
   "source": [
    "v = acq.get_viewer()"
   ]
  },
  {
   "cell_type": "code",
   "execution_count": 24,
   "id": "6b0ef2a3-9821-45c0-8153-50cd9a960309",
   "metadata": {},
   "outputs": [],
   "source": [
    "v.close()"
   ]
  },
  {
   "cell_type": "code",
   "execution_count": 27,
   "id": "c501dd72-c76f-45b2-97d4-a3cab9894778",
   "metadata": {},
   "outputs": [],
   "source": [
    "#v.is_acquisition_paused()"
   ]
  },
  {
   "cell_type": "code",
   "execution_count": 50,
   "id": "7a0867c2-88a8-4b3b-bc7f-c462920e2d24",
   "metadata": {},
   "outputs": [],
   "source": [
    "#data.read_image(row=0, col =1)"
   ]
  },
  {
   "cell_type": "code",
   "execution_count": 51,
   "id": "88bae67f-1d93-4dbc-9abe-ed0598ddc300",
   "metadata": {},
   "outputs": [],
   "source": [
    "#data.as_array().shape"
   ]
  },
  {
   "cell_type": "code",
   "execution_count": 28,
   "id": "a88e6fc7-4a85-4ad3-8db0-c25377cf2f75",
   "metadata": {},
   "outputs": [],
   "source": [
    "acq.abort()"
   ]
  },
  {
   "cell_type": "code",
   "execution_count": 52,
   "id": "6987d3ed-62fa-40da-9d0f-3bb9b0a6bdcb",
   "metadata": {},
   "outputs": [],
   "source": [
    "#data.as_array().shape"
   ]
  },
  {
   "cell_type": "code",
   "execution_count": null,
   "id": "0a15b899-28f3-48bb-903a-f7fcc920b986",
   "metadata": {},
   "outputs": [],
   "source": []
  }
 ],
 "metadata": {
  "kernelspec": {
   "display_name": "Python 3 (ipykernel)",
   "language": "python",
   "name": "python3"
  },
  "language_info": {
   "codemirror_mode": {
    "name": "ipython",
    "version": 3
   },
   "file_extension": ".py",
   "mimetype": "text/x-python",
   "name": "python",
   "nbconvert_exporter": "python",
   "pygments_lexer": "ipython3",
   "version": "3.10.9"
  }
 },
 "nbformat": 4,
 "nbformat_minor": 5
}
