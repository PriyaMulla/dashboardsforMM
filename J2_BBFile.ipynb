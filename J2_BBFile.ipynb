{
 "cells": [
  {
   "cell_type": "code",
   "execution_count": 2,
   "id": "9ec6f935-609e-40db-ac72-f5daa05127a9",
   "metadata": {
    "tags": []
   },
   "outputs": [],
   "source": [
    "import os\n",
    "import glob"
   ]
  },
  {
   "cell_type": "code",
   "execution_count": 3,
   "id": "8f995bdb-9adc-4cc8-afaf-5c43b1e07899",
   "metadata": {
    "tags": []
   },
   "outputs": [],
   "source": [
    "import numpy as np\n",
    "from matplotlib.pyplot import *"
   ]
  },
  {
   "cell_type": "code",
   "execution_count": 4,
   "id": "c4991048-446c-4295-b5aa-a8ac7d855ee1",
   "metadata": {
    "tags": []
   },
   "outputs": [],
   "source": [
    "import TimeTagger as TT\n",
    "from TimeTagger import Flim, TimeTagStream, createTimeTaggerVirtual, EventGenerator, Countrate,ConstantFractionDiscriminator, DelayedChannel"
   ]
  },
  {
   "cell_type": "code",
   "execution_count": 25,
   "id": "fae294f7-9f0b-4feb-8264-2464e6f096bb",
   "metadata": {
    "tags": []
   },
   "outputs": [],
   "source": [
    "#from tqdm.notebook import tqdm\n",
    "from fastprogress.fastprogress import progress_bar,master_bar\n",
    "import tifffile as tf"
   ]
  },
  {
   "cell_type": "code",
   "execution_count": 6,
   "id": "fbf99cdd-4b49-4636-9d4c-fa35803d91fe",
   "metadata": {
    "tags": []
   },
   "outputs": [],
   "source": [
    "filename = 'C:\\\\Users\\\\lociuser\\\\Documents\\\\UserData\\\\Jenu\\\\BB_data\\\\CYCLE_000001_RAWDATA_000034'"
   ]
  },
  {
   "cell_type": "code",
   "execution_count": 7,
   "id": "ee41f11b-804f-437e-83ab-9c2f4bb3b69c",
   "metadata": {
    "tags": []
   },
   "outputs": [],
   "source": [
    "tagformat = np.dtype([\n",
    "    # TimeTag = 0, Error = 1, OverflowBegin = 2, OverflowEnd = 3, MissedEvents = 4\n",
    "    ('type', 'u1'),\n",
    "    # ('reserved',      'i1'),\n",
    "    ('missed_events', '<u2'),\n",
    "    ('channel', '<i4'),\n",
    "    ('time', '<i8'),], align=True)"
   ]
  },
  {
   "cell_type": "code",
   "execution_count": 27,
   "id": "7e597b26-1e23-484c-9fe4-e545909ad2b0",
   "metadata": {
    "tags": []
   },
   "outputs": [
    {
     "data": {
      "text/plain": [
       "77"
      ]
     },
     "execution_count": 27,
     "metadata": {},
     "output_type": "execute_result"
    }
   ],
   "source": [
    "foldername = r'D:\\Data\\BrianBurkel\\TSeries-ms499_NADH_FLIM_780_230620-001'\n",
    "filelist = glob.glob(os.path.join(foldername,'CYCLE_*_RAWDATA_*'))\n",
    "len(filelist) # 46 GB"
   ]
  },
  {
   "cell_type": "code",
   "execution_count": 23,
   "id": "f0a454d9-bbb1-4359-aec0-c1dcf7bade30",
   "metadata": {
    "tags": []
   },
   "outputs": [
    {
     "data": {
      "text/plain": [
       "'CYCLE_000001_RAWDATA_000034'"
      ]
     },
     "execution_count": 23,
     "metadata": {},
     "output_type": "execute_result"
    }
   ],
   "source": []
  },
  {
   "cell_type": "code",
   "execution_count": 29,
   "id": "4a754d61",
   "metadata": {
    "tags": []
   },
   "outputs": [
    {
     "data": {
      "text/html": [
       "\n",
       "<style>\n",
       "    /* Turns off some styling */\n",
       "    progress {\n",
       "        /* gets rid of default border in Firefox and Opera. */\n",
       "        border: none;\n",
       "        /* Needs to be in here for Safari polyfill so background images work as expected. */\n",
       "        background-size: auto;\n",
       "    }\n",
       "    progress:not([value]), progress:not([value])::-webkit-progress-bar {\n",
       "        background: repeating-linear-gradient(45deg, #7e7e7e, #7e7e7e 10px, #5c5c5c 10px, #5c5c5c 20px);\n",
       "    }\n",
       "    .progress-bar-interrupted, .progress-bar-interrupted::-webkit-progress-bar {\n",
       "        background: #F44336;\n",
       "    }\n",
       "</style>\n"
      ],
      "text/plain": [
       "<IPython.core.display.HTML object>"
      ]
     },
     "metadata": {},
     "output_type": "display_data"
    },
    {
     "data": {
      "text/html": [],
      "text/plain": [
       "<IPython.core.display.HTML object>"
      ]
     },
     "metadata": {},
     "output_type": "display_data"
    },
    {
     "name": "stdout",
     "output_type": "stream",
     "text": [
      "CYCLE_000001_RAWDATA_000034 || 39.20 secs\n",
      "|| NONTAGGED 0|| MISSED 0|| PIXELS 8388716|| CH1 6627869|| CH2 5039643CYCLE_000001_RAWDATA_000035 || 38.52 secs\n",
      "|| NONTAGGED 0|| MISSED 0|| PIXELS 8390121|| CH1 5265453|| CH2 4506213CYCLE_000001_RAWDATA_000036 || 37.82 secs\n",
      "|| NONTAGGED 0|| MISSED 0|| PIXELS 8394626|| CH1 4052790|| CH2 3871444CYCLE_000001_RAWDATA_000037 || 37.33 secs\n",
      "|| NONTAGGED 0|| MISSED 0|| PIXELS 8390260|| CH1 3488869|| CH2 3452072CYCLE_000002_RAWDATA_000038 || 39.10 secs\n",
      "|| NONTAGGED 0|| MISSED 0|| PIXELS 8389595|| CH1 6352377|| CH2 4936084CYCLE_000002_RAWDATA_000039 || 38.53 secs\n",
      "|| NONTAGGED 0|| MISSED 0|| PIXELS 8392207|| CH1 5312333|| CH2 4426089CYCLE_000002_RAWDATA_000040 || 37.81 secs\n",
      "|| NONTAGGED 0|| MISSED 0|| PIXELS 8391641|| CH1 4127610|| CH2 3787095CYCLE_000002_RAWDATA_000041 || 37.38 secs\n",
      "|| NONTAGGED 0|| MISSED 0|| PIXELS 8394189|| CH1 3553641|| CH2 3376669CYCLE_000003_RAWDATA_000042 || 39.03 secs\n",
      "|| NONTAGGED 0|| MISSED 0|| PIXELS 8390369|| CH1 6271166|| CH2 4897163CYCLE_000003_RAWDATA_000043 || 38.47 secs\n",
      "|| NONTAGGED 0|| MISSED 0|| PIXELS 8390658|| CH1 5056206|| CH2 4390970CYCLE_000003_RAWDATA_000044 || 37.70 secs\n",
      "|| NONTAGGED 0|| MISSED 0|| PIXELS 8393976|| CH1 3885380|| CH2 3739779CYCLE_000003_RAWDATA_000045 || 37.28 secs\n",
      "|| NONTAGGED 0|| MISSED 0|| PIXELS 8393733|| CH1 3368536|| CH2 3308958CYCLE_000004_RAWDATA_000046 || 39.01 secs\n",
      "|| NONTAGGED 0|| MISSED 0|| PIXELS 8391378|| CH1 6134720|| CH2 4831999CYCLE_000004_RAWDATA_000047 || 42.28 secs\n",
      "|| NONTAGGED 0|| MISSED 0|| PIXELS 8392118|| CH1 4935607|| CH2 4338064CYCLE_000004_RAWDATA_000048 || 37.61 secs\n",
      "|| NONTAGGED 0|| MISSED 0|| PIXELS 8394640|| CH1 3788274|| CH2 3682784CYCLE_000004_RAWDATA_000049 || 37.27 secs\n",
      "|| NONTAGGED 0|| MISSED 0|| PIXELS 8391088|| CH1 3242744|| CH2 3262135CYCLE_000005_RAWDATA_000050 || 38.94 secs\n",
      "|| NONTAGGED 0|| MISSED 0|| PIXELS 8390899|| CH1 5962099|| CH2 4792138CYCLE_000005_RAWDATA_000051 || 38.37 secs\n",
      "|| NONTAGGED 0|| MISSED 0|| PIXELS 8392056|| CH1 4773342|| CH2 4311701CYCLE_000005_RAWDATA_000052 || 37.64 secs\n",
      "|| NONTAGGED 0|| MISSED 0|| PIXELS 8394591|| CH1 3718606|| CH2 3649016CYCLE_000005_RAWDATA_000053 || 42.37 secs\n",
      "|| NONTAGGED 0|| MISSED 0|| PIXELS 8394240|| CH1 3286355|| CH2 3226153CYCLE_000006_RAWDATA_000054 || 38.97 secs\n",
      "|| NONTAGGED 0|| MISSED 0|| PIXELS 8392379|| CH1 5980040|| CH2 4734141CYCLE_000006_RAWDATA_000055 || 38.27 secs\n",
      "|| NONTAGGED 0|| MISSED 0|| PIXELS 8390249|| CH1 4768446|| CH2 4194600CYCLE_000006_RAWDATA_000056 || 37.49 secs\n",
      "|| NONTAGGED 0|| MISSED 0|| PIXELS 8389859|| CH1 3667349|| CH2 3558732CYCLE_000006_RAWDATA_000057 || 37.07 secs\n",
      "|| NONTAGGED 0|| MISSED 0|| PIXELS 8394834|| CH1 3143929|| CH2 3107116CYCLE_000007_RAWDATA_000058 || 38.90 secs\n",
      "|| NONTAGGED 0|| MISSED 0|| PIXELS 8390654|| CH1 5882742|| CH2 4598662CYCLE_000007_RAWDATA_000059 || 38.19 secs\n",
      "|| NONTAGGED 0|| MISSED 0|| PIXELS 8389405|| CH1 4723062|| CH2 4111281CYCLE_000007_RAWDATA_000060 || 37.50 secs\n",
      "|| NONTAGGED 0|| MISSED 0|| PIXELS 8393730|| CH1 3613560|| CH2 3469871CYCLE_000007_RAWDATA_000061 || 36.94 secs\n",
      "|| NONTAGGED 0|| MISSED 0|| PIXELS 8389123|| CH1 3126193|| CH2 3046197CYCLE_000008_RAWDATA_000062 || 38.82 secs\n",
      "|| NONTAGGED 0|| MISSED 0|| PIXELS 8388878|| CH1 5658905|| CH2 4536619CYCLE_000008_RAWDATA_000064 || 37.33 secs\n",
      "|| NONTAGGED 0|| MISSED 0|| PIXELS 8391804|| CH1 3523797|| CH2 3450081CYCLE_000008_RAWDATA_000065 || 36.97 secs\n",
      "|| NONTAGGED 0|| MISSED 0|| PIXELS 8393422|| CH1 3044584|| CH2 3020935CYCLE_000009_RAWDATA_000066 || 38.87 secs\n",
      "|| NONTAGGED 0|| MISSED 0|| PIXELS 8391202|| CH1 5665677|| CH2 4492588CYCLE_000009_RAWDATA_000067 || 38.12 secs\n",
      "|| NONTAGGED 0|| MISSED 0|| PIXELS 8388697|| CH1 4521929|| CH2 4022850CYCLE_000009_RAWDATA_000068 || 37.37 secs\n",
      "|| NONTAGGED 0|| MISSED 0|| PIXELS 8390539|| CH1 3507589|| CH2 3422123CYCLE_000009_RAWDATA_000069 || 36.92 secs\n",
      "|| NONTAGGED 0|| MISSED 0|| PIXELS 8392287|| CH1 3031886|| CH2 3002356CYCLE_000010_RAWDATA_000070 || 38.76 secs\n",
      "|| NONTAGGED 0|| MISSED 0|| PIXELS 8392201|| CH1 5608892|| CH2 4451358CYCLE_000010_RAWDATA_000071 || 38.06 secs\n",
      "|| NONTAGGED 0|| MISSED 0|| PIXELS 8388665|| CH1 4505377|| CH2 3985532CYCLE_000010_RAWDATA_000072 || 37.37 secs\n",
      "|| NONTAGGED 0|| MISSED 0|| PIXELS 8394329|| CH1 3502036|| CH2 3388548CYCLE_000010_RAWDATA_000073 || 36.85 secs\n",
      "|| NONTAGGED 0|| MISSED 0|| PIXELS 8390937|| CH1 3001099|| CH2 2963410CYCLE_000011_RAWDATA_000074 || 38.79 secs\n",
      "|| NONTAGGED 0|| MISSED 0|| PIXELS 8392710|| CH1 5576464|| CH2 4394226CYCLE_000011_RAWDATA_000075 || 38.07 secs\n",
      "|| NONTAGGED 0|| MISSED 0|| PIXELS 8394582|| CH1 4498702|| CH2 3911654CYCLE_000011_RAWDATA_000076 || 42.27 secs\n",
      "|| NONTAGGED 0|| MISSED 0|| PIXELS 8391680|| CH1 3473072|| CH2 3335915CYCLE_000011_RAWDATA_000077 || 36.81 secs\n",
      "|| NONTAGGED 0|| MISSED 0|| PIXELS 8393225|| CH1 3007480|| CH2 2927645CYCLE_000012_RAWDATA_000078 || 38.80 secs\n",
      "|| NONTAGGED 0|| MISSED 0|| PIXELS 8393340|| CH1 5522007|| CH2 4361126CYCLE_000012_RAWDATA_000079 || 37.92 secs\n",
      "|| NONTAGGED 0|| MISSED 0|| PIXELS 8393338|| CH1 4362375|| CH2 3877481CYCLE_000012_RAWDATA_000080 || 37.21 secs\n",
      "|| NONTAGGED 0|| MISSED 0|| PIXELS 8391739|| CH1 3388546|| CH2 3301794CYCLE_000012_RAWDATA_000081 || 36.76 secs\n",
      "|| NONTAGGED 0|| MISSED 0|| PIXELS 8390010|| CH1 2965945|| CH2 2911531CYCLE_000013_RAWDATA_000082 || 38.77 secs\n",
      "|| NONTAGGED 0|| MISSED 0|| PIXELS 8390695|| CH1 5409022|| CH2 4312189CYCLE_000013_RAWDATA_000083 || 37.88 secs\n",
      "|| NONTAGGED 0|| MISSED 0|| PIXELS 8394245|| CH1 4311109|| CH2 3831807CYCLE_000013_RAWDATA_000084 || 37.19 secs\n",
      "|| NONTAGGED 0|| MISSED 0|| PIXELS 8390150|| CH1 3308569|| CH2 3247397CYCLE_000014_RAWDATA_000086 || 42.47 secs\n",
      "|| NONTAGGED 0|| MISSED 0|| PIXELS 8393888|| CH1 5259986|| CH2 4278714CYCLE_000014_RAWDATA_000087 || 42.29 secs\n",
      "|| NONTAGGED 0|| MISSED 0|| PIXELS 8391939|| CH1 4166928|| CH2 3789948CYCLE_000014_RAWDATA_000088 || 37.16 secs\n",
      "|| NONTAGGED 0|| MISSED 0|| PIXELS 8393516|| CH1 3291478|| CH2 3229855CYCLE_000014_RAWDATA_000089 || 42.31 secs\n",
      "|| NONTAGGED 0|| MISSED 0|| PIXELS 8388781|| CH1 2892566|| CH2 2852869CYCLE_000015_RAWDATA_000090 || 38.71 secs\n",
      "|| NONTAGGED 0|| MISSED 0|| PIXELS 8389905|| CH1 5308646|| CH2 4224273CYCLE_000015_RAWDATA_000091 || 37.88 secs\n",
      "|| NONTAGGED 0|| MISSED 0|| PIXELS 8394969|| CH1 4259502|| CH2 3733625CYCLE_000015_RAWDATA_000092 || 37.15 secs\n",
      "|| NONTAGGED 0|| MISSED 0|| PIXELS 8393752|| CH1 3318810|| CH2 3174616CYCLE_000015_RAWDATA_000093 || 36.65 secs\n",
      "|| NONTAGGED 0|| MISSED 0|| PIXELS 8392816|| CH1 2868440|| CH2 2803742CYCLE_000016_RAWDATA_000094 || 38.57 secs\n",
      "|| NONTAGGED 0|| MISSED 0|| PIXELS 8393080|| CH1 5325259|| CH2 4177996CYCLE_000016_RAWDATA_000095 || 37.82 secs\n",
      "|| NONTAGGED 0|| MISSED 0|| PIXELS 8393737|| CH1 4254235|| CH2 3691882CYCLE_000016_RAWDATA_000096 || 37.11 secs\n",
      "|| NONTAGGED 0|| MISSED 0|| PIXELS 8389082|| CH1 3296374|| CH2 3152163CYCLE_000016_RAWDATA_000097 || 36.55 secs\n",
      "|| NONTAGGED 0|| MISSED 0|| PIXELS 8388673|| CH1 2825197|| CH2 2786511CYCLE_000017_RAWDATA_000098 || 38.57 secs\n",
      "|| NONTAGGED 0|| MISSED 0|| PIXELS 8394581|| CH1 5163122|| CH2 4145429CYCLE_000017_RAWDATA_000099 || 37.78 secs\n",
      "|| NONTAGGED 0|| MISSED 0|| PIXELS 8389638|| CH1 4181865|| CH2 3667610CYCLE_000017_RAWDATA_000100 || 37.04 secs\n",
      "|| NONTAGGED 0|| MISSED 0|| PIXELS 8392975|| CH1 3226667|| CH2 3139682CYCLE_000017_RAWDATA_000101 || 36.60 secs\n",
      "|| NONTAGGED 0|| MISSED 0|| PIXELS 8391912|| CH1 2845130|| CH2 2793181CYCLE_000018_RAWDATA_000102 || 38.61 secs\n",
      "|| NONTAGGED 0|| MISSED 0|| PIXELS 8390658|| CH1 5234483|| CH2 4121006CYCLE_000018_RAWDATA_000103 || 37.77 secs\n",
      "|| NONTAGGED 0|| MISSED 0|| PIXELS 8391374|| CH1 4197666|| CH2 3638524CYCLE_000018_RAWDATA_000104 || 36.98 secs\n",
      "|| NONTAGGED 0|| MISSED 0|| PIXELS 8392704|| CH1 3223435|| CH2 3113646CYCLE_000018_RAWDATA_000105 || 36.52 secs\n",
      "|| NONTAGGED 0|| MISSED 0|| PIXELS 8389038|| CH1 2789499|| CH2 2758668CYCLE_000019_RAWDATA_000106 || 38.52 secs\n",
      "|| NONTAGGED 0|| MISSED 0|| PIXELS 8394754|| CH1 5146257|| CH2 4086207CYCLE_000019_RAWDATA_000108 || 37.05 secs\n",
      "|| NONTAGGED 0|| MISSED 0|| PIXELS 8394757|| CH1 3216058|| CH2 3089989CYCLE_000019_RAWDATA_000109 || 36.54 secs\n",
      "|| NONTAGGED 0|| MISSED 0|| PIXELS 8390847|| CH1 2832500|| CH2 2747301CYCLE_000020_RAWDATA_000110 || 38.57 secs\n",
      "|| NONTAGGED 0|| MISSED 0|| PIXELS 8392266|| CH1 5180056|| CH2 4036404CYCLE_000020_RAWDATA_000111 || 37.72 secs\n",
      "|| NONTAGGED 0|| MISSED 0|| PIXELS 8393521|| CH1 4127703|| CH2 3560948CYCLE_000020_RAWDATA_000112 || 36.99 secs\n",
      "|| NONTAGGED 0|| MISSED 0|| PIXELS 8392182|| CH1 3181180|| CH2 3056793CYCLE_000020_RAWDATA_000113 || 36.50 secs\n",
      "|| NONTAGGED 0|| MISSED 0|| PIXELS 8391296|| CH1 2776791|| CH2 2729485"
     ]
    }
   ],
   "source": [
    "mb = master_bar(filelist)\n",
    "for filename in mb:\n",
    "\n",
    "    with open(filename,'rb') as fid:\n",
    "        data_ = np.frombuffer(fid.read(), dtype=tagformat)\n",
    "\n",
    "    tm = (data_[-1]['time'] - data_[0]['time'])/1e12\n",
    "    print(f'{os.path.split(filename)[-1]} || {tm:.2f} secs')\n",
    "    print('|| NONTAGGED' ,len(np.where(data_['type']!=0)[0]),end='')\n",
    "    print('|| MISSED' ,len(np.where(data_['missed_events']!=0)[0]),end='')\n",
    "    print('|| PIXELS',len(np.where(data_['channel']==2)[0]),end='')\n",
    "    print('|| CH1',len(np.where(data_['channel']==1013)[0]),end='')\n",
    "    print('|| CH2',len(np.where(data_['channel']==1014)[0]),end='\\n')\n",
    "        \n",
    "        \n",
    "    sdts=[]\n",
    "    current_pixel=0\n",
    "    arr1=[]#np.zeros(512*512)\n",
    "    arr2=[]#np.zeros(512*512)\n",
    "    frm_pixel=[0]\n",
    "    \n",
    "    for ix,photon_event in progress_bar(enumerate(data_),total=len(data_), parent=mb):\n",
    "        if current_pixel==0:\n",
    "            times1 = []\n",
    "            times2 = []\n",
    "        if photon_event['channel']==3:\n",
    "            prev_event=None\n",
    "            prev_step=1\n",
    "            while not (prev_event):\n",
    "                prev_ = data_[ix-prev_step]\n",
    "                if (prev_['channel']==1013):\n",
    "                    prev_event=prev_    \n",
    "                    #px1.append((photon_event,prev_))   \n",
    "                    times1.append(prev_['time']- photon_event['time'])\n",
    "                if (prev_['channel']==1014):        \n",
    "                    prev_event=prev_    \n",
    "                    #px2.append((photon_event,prev_))\n",
    "                    times2.append(prev_['time']- photon_event['time'])\n",
    "                prev_step+=1\n",
    "        if photon_event['channel']==2:\n",
    "            current_pixel+=1\n",
    "            if times1:\n",
    "                arr1.append(times1)\n",
    "            else:\n",
    "                arr1.append([-12501])\n",
    "            if times2:\n",
    "                arr2.append(times2)\n",
    "            else:\n",
    "                arr2.append([-12501])\n",
    "            times1 = []\n",
    "            times2 = []\n",
    "        #frm = current_pixel/(512*512)\n",
    "        if (current_pixel%(512*512)==0)&(current_pixel>frm_pixel[-1]):        \n",
    "            #print(ix,f'\\t {ix/len(data_):.2f}',photon_event, current_pixel)\n",
    "            sdt1=np.zeros([512*512,256])\n",
    "            sdt2=np.zeros([512*512,256])\n",
    "            bin1 = int(12500/256)\n",
    "            for a1x,a in enumerate(arr1):\n",
    "                if a:\n",
    "                    tsx=[a1//bin1 for a1 in a if (a1//bin1)>-256]\n",
    "                    sdt1[a1x,tsx]+=1\n",
    "            for a1x,a in enumerate(arr2):\n",
    "                if a:\n",
    "                    tsx=[a1//bin1 for a1 in a if (a1//bin1)>-256]\n",
    "                    sdt2[a1x,tsx]+=1\n",
    "\n",
    "            arr1=[]#np.zeros(512*512)\n",
    "            arr2=[]#np.zeros(512*512)\n",
    "            sdts.append((sdt1,sdt2))\n",
    "\n",
    "            frm_pixel.append(current_pixel)\n",
    "            \n",
    "    for ix,(sdt1x,sdt2x) in enumerate(sdts):\n",
    "        #print(sdt1x.sum(),sdt2x.sum())\n",
    "\n",
    "        sdt1a = sdt1.reshape([512,512,256]).transpose([2,0,1])\n",
    "        sdt2a = sdt2.reshape([512,512,256]).transpose([2,0,1])\n",
    "\n",
    "        tf.imwrite(f'{filename}_ch1_f{ix:>02}.tif',sdt1a.astype(np.uint16))\n",
    "        tf.imwrite(f'{filename}_ch2_f{ix:>02}.tif',sdt2a.astype(np.uint16))\n",
    "        "
   ]
  },
  {
   "cell_type": "raw",
   "id": "8d494029-d8f7-4271-85a5-ab524b97269b",
   "metadata": {},
   "source": [
    "CYCLE_000001_RAWDATA_000034 || 39.20 secs || NONTAGGED 0|| MISSED 0|| PIXELS 8388716|| CH1 6627869|| CH2 5039643 \n",
    "CYCLE_000001_RAWDATA_000035 || 38.52 secs || NONTAGGED 0|| MISSED 0|| PIXELS 8390121|| CH1 5265453|| CH2 4506213\n",
    "CYCLE_000001_RAWDATA_000036 || 37.82 secs || NONTAGGED 0|| MISSED 0|| PIXELS 8394626|| CH1 4052790|| CH2 3871444\n",
    "CYCLE_000001_RAWDATA_000037 || 37.33 secs || NONTAGGED 0|| MISSED 0|| PIXELS 8390260|| CH1 3488869|| CH2 3452072\n",
    "CYCLE_000002_RAWDATA_000038 || 39.10 secs || NONTAGGED 0|| MISSED 0|| PIXELS 8389595|| CH1 6352377|| CH2 4936084\n",
    "CYCLE_000002_RAWDATA_000039 || 38.53 secs || NONTAGGED 0|| MISSED 0|| PIXELS 8392207|| CH1 5312333|| CH2 4426089\n",
    "CYCLE_000002_RAWDATA_000040 || 37.81 secs || NONTAGGED 0|| MISSED 0|| PIXELS 8391641|| CH1 4127610|| CH2 3787095\n",
    "CYCLE_000002_RAWDATA_000041 || 37.38 secs || NONTAGGED 0|| MISSED 0|| PIXELS 8394189|| CH1 3553641|| CH2 3376669\n",
    "CYCLE_000003_RAWDATA_000042 || 39.03 secs || NONTAGGED 0|| MISSED 0|| PIXELS 8390369|| CH1 6271166|| CH2 4897163\n",
    "CYCLE_000003_RAWDATA_000043 || 38.47 secs || NONTAGGED 0|| MISSED 0|| PIXELS 8390658|| CH1 5056206|| CH2 4390970\n",
    "CYCLE_000003_RAWDATA_000044 || 37.70 secs || NONTAGGED 0|| MISSED 0|| PIXELS 8393976|| CH1 3885380|| CH2 3739779\n",
    "CYCLE_000003_RAWDATA_000045 || 37.28 secs || NONTAGGED 0|| MISSED 0|| PIXELS 8393733|| CH1 3368536|| CH2 3308958\n",
    "CYCLE_000004_RAWDATA_000046 || 39.01 secs || NONTAGGED 0|| MISSED 0|| PIXELS 8391378|| CH1 6134720|| CH2 4831999\n",
    "CYCLE_000004_RAWDATA_000047 || 42.28 secs || NONTAGGED 0|| MISSED 0|| PIXELS 8392118|| CH1 4935607|| CH2 4338064\n",
    "CYCLE_000004_RAWDATA_000048 || 37.61 secs || NONTAGGED 0|| MISSED 0|| PIXELS 8394640|| CH1 3788274|| CH2 3682784\n",
    "CYCLE_000004_RAWDATA_000049 || 37.27 secs || NONTAGGED 0|| MISSED 0|| PIXELS 8391088|| CH1 3242744|| CH2 3262135\n",
    "CYCLE_000005_RAWDATA_000050 || 38.94 secs || NONTAGGED 0|| MISSED 0|| PIXELS 8390899|| CH1 5962099|| CH2 4792138\n",
    "CYCLE_000005_RAWDATA_000051 || 38.37 secs || NONTAGGED 0|| MISSED 0|| PIXELS 8392056|| CH1 4773342|| CH2 4311701\n",
    "CYCLE_000005_RAWDATA_000052 || 37.64 secs || NONTAGGED 0|| MISSED 0|| PIXELS 8394591|| CH1 3718606|| CH2 3649016\n",
    "CYCLE_000005_RAWDATA_000053 || 42.37 secs || NONTAGGED 0|| MISSED 0|| PIXELS 8394240|| CH1 3286355|| CH2 3226153\n",
    "CYCLE_000006_RAWDATA_000054 || 38.97 secs || NONTAGGED 0|| MISSED 0|| PIXELS 8392379|| CH1 5980040|| CH2 4734141\n",
    "CYCLE_000006_RAWDATA_000055 || 38.27 secs || NONTAGGED 0|| MISSED 0|| PIXELS 8390249|| CH1 4768446|| CH2 4194600\n",
    "CYCLE_000006_RAWDATA_000056 || 37.49 secs || NONTAGGED 0|| MISSED 0|| PIXELS 8389859|| CH1 3667349|| CH2 3558732\n",
    "CYCLE_000006_RAWDATA_000057 || 37.07 secs || NONTAGGED 0|| MISSED 0|| PIXELS 8394834|| CH1 3143929|| CH2 3107116\n",
    "CYCLE_000007_RAWDATA_000058 || 38.90 secs || NONTAGGED 0|| MISSED 0|| PIXELS 8390654|| CH1 5882742|| CH2 4598662\n",
    "CYCLE_000007_RAWDATA_000059 || 38.19 secs || NONTAGGED 0|| MISSED 0|| PIXELS 8389405|| CH1 4723062|| CH2 4111281\n",
    "CYCLE_000007_RAWDATA_000060 || 37.50 secs || NONTAGGED 0|| MISSED 0|| PIXELS 8393730|| CH1 3613560|| CH2 3469871\n",
    "CYCLE_000007_RAWDATA_000061 || 36.94 secs || NONTAGGED 0|| MISSED 0|| PIXELS 8389123|| CH1 3126193|| CH2 3046197\n",
    "CYCLE_000008_RAWDATA_000062 || 38.82 secs || NONTAGGED 0|| MISSED 0|| PIXELS 8388878|| CH1 5658905|| CH2 4536619\n",
    "CYCLE_000008_RAWDATA_000064 || 37.33 secs || NONTAGGED 0|| MISSED 0|| PIXELS 8391804|| CH1 3523797|| CH2 3450081\n",
    "CYCLE_000008_RAWDATA_000065 || 36.97 secs || NONTAGGED 0|| MISSED 0|| PIXELS 8393422|| CH1 3044584|| CH2 3020935\n",
    "CYCLE_000009_RAWDATA_000066 || 38.87 secs || NONTAGGED 0|| MISSED 0|| PIXELS 8391202|| CH1 5665677|| CH2 4492588\n",
    "CYCLE_000009_RAWDATA_000067 || 38.12 secs || NONTAGGED 0|| MISSED 0|| PIXELS 8388697|| CH1 4521929|| CH2 4022850\n",
    "CYCLE_000009_RAWDATA_000068 || 37.37 secs || NONTAGGED 0|| MISSED 0|| PIXELS 8390539|| CH1 3507589|| CH2 3422123\n",
    "CYCLE_000009_RAWDATA_000069 || 36.92 secs || NONTAGGED 0|| MISSED 0|| PIXELS 8392287|| CH1 3031886|| CH2 3002356\n",
    "CYCLE_000010_RAWDATA_000070 || 38.76 secs || NONTAGGED 0|| MISSED 0|| PIXELS 8392201|| CH1 5608892|| CH2 4451358\n",
    "CYCLE_000010_RAWDATA_000071 || 38.06 secs || NONTAGGED 0|| MISSED 0|| PIXELS 8388665|| CH1 4505377|| CH2 3985532\n",
    "CYCLE_000010_RAWDATA_000072 || 37.37 secs || NONTAGGED 0|| MISSED 0|| PIXELS 8394329|| CH1 3502036|| CH2 3388548\n",
    "CYCLE_000010_RAWDATA_000073 || 36.85 secs || NONTAGGED 0|| MISSED 0|| PIXELS 8390937|| CH1 3001099|| CH2 2963410\n",
    "CYCLE_000011_RAWDATA_000074 || 38.79 secs || NONTAGGED 0|| MISSED 0|| PIXELS 8392710|| CH1 5576464|| CH2 4394226\n",
    "CYCLE_000011_RAWDATA_000075 || 38.07 secs || NONTAGGED 0|| MISSED 0|| PIXELS 8394582|| CH1 4498702|| CH2 3911654\n",
    "CYCLE_000011_RAWDATA_000076 || 42.27 secs || NONTAGGED 0|| MISSED 0|| PIXELS 8391680|| CH1 3473072|| CH2 3335915\n",
    "CYCLE_000011_RAWDATA_000077 || 36.81 secs || NONTAGGED 0|| MISSED 0|| PIXELS 8393225|| CH1 3007480|| CH2 2927645\n",
    "CYCLE_000012_RAWDATA_000078 || 38.80 secs || NONTAGGED 0|| MISSED 0|| PIXELS 8393340|| CH1 5522007|| CH2 4361126\n",
    "CYCLE_000012_RAWDATA_000079 || 37.92 secs || NONTAGGED 0|| MISSED 0|| PIXELS 8393338|| CH1 4362375|| CH2 3877481\n",
    "CYCLE_000012_RAWDATA_000080 || 37.21 secs || NONTAGGED 0|| MISSED 0|| PIXELS 8391739|| CH1 3388546|| CH2 3301794\n",
    "CYCLE_000012_RAWDATA_000081 || 36.76 secs || NONTAGGED 0|| MISSED 0|| PIXELS 8390010|| CH1 2965945|| CH2 2911531\n",
    "CYCLE_000013_RAWDATA_000082 || 38.77 secs || NONTAGGED 0|| MISSED 0|| PIXELS 8390695|| CH1 5409022|| CH2 4312189\n",
    "CYCLE_000013_RAWDATA_000083 || 37.88 secs || NONTAGGED 0|| MISSED 0|| PIXELS 8394245|| CH1 4311109|| CH2 3831807\n",
    "CYCLE_000013_RAWDATA_000084 || 37.19 secs || NONTAGGED 0|| MISSED 0|| PIXELS 8390150|| CH1 3308569|| CH2 3247397\n",
    "CYCLE_000014_RAWDATA_000086 || 42.47 secs || NONTAGGED 0|| MISSED 0|| PIXELS 8393888|| CH1 5259986|| CH2 4278714\n",
    "CYCLE_000014_RAWDATA_000087 || 42.29 secs || NONTAGGED 0|| MISSED 0|| PIXELS 8391939|| CH1 4166928|| CH2 3789948\n",
    "CYCLE_000014_RAWDATA_000088 || 37.16 secs || NONTAGGED 0|| MISSED 0|| PIXELS 8393516|| CH1 3291478|| CH2 3229855\n",
    "CYCLE_000014_RAWDATA_000089 || 42.31 secs || NONTAGGED 0|| MISSED 0|| PIXELS 8388781|| CH1 2892566|| CH2 2852869\n",
    "CYCLE_000015_RAWDATA_000090 || 38.71 secs || NONTAGGED 0|| MISSED 0|| PIXELS 8389905|| CH1 5308646|| CH2 4224273\n",
    "CYCLE_000015_RAWDATA_000091 || 37.88 secs || NONTAGGED 0|| MISSED 0|| PIXELS 8394969|| CH1 4259502|| CH2 3733625\n",
    "CYCLE_000015_RAWDATA_000092 || 37.15 secs || NONTAGGED 0|| MISSED 0|| PIXELS 8393752|| CH1 3318810|| CH2 3174616\n",
    "CYCLE_000015_RAWDATA_000093 || 36.65 secs || NONTAGGED 0|| MISSED 0|| PIXELS 8392816|| CH1 2868440|| CH2 2803742\n",
    "CYCLE_000016_RAWDATA_000094 || 38.57 secs || NONTAGGED 0|| MISSED 0|| PIXELS 8393080|| CH1 5325259|| CH2 4177996\n",
    "CYCLE_000016_RAWDATA_000095 || 37.82 secs || NONTAGGED 0|| MISSED 0|| PIXELS 8393737|| CH1 4254235|| CH2 3691882\n",
    "CYCLE_000016_RAWDATA_000096 || 37.11 secs || NONTAGGED 0|| MISSED 0|| PIXELS 8389082|| CH1 3296374|| CH2 3152163\n",
    "CYCLE_000016_RAWDATA_000097 || 36.55 secs || NONTAGGED 0|| MISSED 0|| PIXELS 8388673|| CH1 2825197|| CH2 2786511\n",
    "CYCLE_000017_RAWDATA_000098 || 38.57 secs || NONTAGGED 0|| MISSED 0|| PIXELS 8394581|| CH1 5163122|| CH2 4145429\n",
    "CYCLE_000017_RAWDATA_000099 || 37.78 secs || NONTAGGED 0|| MISSED 0|| PIXELS 8389638|| CH1 4181865|| CH2 3667610\n",
    "CYCLE_000017_RAWDATA_000100 || 37.04 secs || NONTAGGED 0|| MISSED 0|| PIXELS 8392975|| CH1 3226667|| CH2 3139682\n",
    "CYCLE_000017_RAWDATA_000101 || 36.60 secs || NONTAGGED 0|| MISSED 0|| PIXELS 8391912|| CH1 2845130|| CH2 2793181\n",
    "CYCLE_000018_RAWDATA_000102 || 38.61 secs || NONTAGGED 0|| MISSED 0|| PIXELS 8390658|| CH1 5234483|| CH2 4121006\n",
    "CYCLE_000018_RAWDATA_000103 || 37.77 secs || NONTAGGED 0|| MISSED 0|| PIXELS 8391374|| CH1 4197666|| CH2 3638524\n",
    "CYCLE_000018_RAWDATA_000104 || 36.98 secs || NONTAGGED 0|| MISSED 0|| PIXELS 8392704|| CH1 3223435|| CH2 3113646\n",
    "CYCLE_000018_RAWDATA_000105 || 36.52 secs || NONTAGGED 0|| MISSED 0|| PIXELS 8389038|| CH1 2789499|| CH2 2758668\n",
    "CYCLE_000019_RAWDATA_000106 || 38.52 secs || NONTAGGED 0|| MISSED 0|| PIXELS 8394754|| CH1 5146257|| CH2 4086207\n",
    "CYCLE_000019_RAWDATA_000108 || 37.05 secs || NONTAGGED 0|| MISSED 0|| PIXELS 8394757|| CH1 3216058|| CH2 3089989\n",
    "CYCLE_000019_RAWDATA_000109 || 36.54 secs || NONTAGGED 0|| MISSED 0|| PIXELS 8390847|| CH1 2832500|| CH2 2747301\n",
    "CYCLE_000020_RAWDATA_000110 || 38.57 secs || NONTAGGED 0|| MISSED 0|| PIXELS 8392266|| CH1 5180056|| CH2 4036404\n",
    "CYCLE_000020_RAWDATA_000111 || 37.72 secs || NONTAGGED 0|| MISSED 0|| PIXELS 8393521|| CH1 4127703|| CH2 3560948\n",
    "CYCLE_000020_RAWDATA_000112 || 36.99 secs || NONTAGGED 0|| MISSED 0|| PIXELS 8392182|| CH1 3181180|| CH2 3056793\n",
    "CYCLE_000020_RAWDATA_000113 || 36.50 secs || NONTAGGED 0|| MISSED 0|| PIXELS 8391296|| CH1 2776791|| CH2 2729485"
   ]
  },
  {
   "cell_type": "code",
   "execution_count": null,
   "id": "2875fbcf-49f1-4c9a-9d44-e49bfc5ea339",
   "metadata": {},
   "outputs": [],
   "source": []
  }
 ],
 "metadata": {
  "kernelspec": {
   "display_name": "Python 3 (ipykernel)",
   "language": "python",
   "name": "python3"
  },
  "language_info": {
   "codemirror_mode": {
    "name": "ipython",
    "version": 3
   },
   "file_extension": ".py",
   "mimetype": "text/x-python",
   "name": "python",
   "nbconvert_exporter": "python",
   "pygments_lexer": "ipython3",
   "version": "3.11.3"
  }
 },
 "nbformat": 4,
 "nbformat_minor": 5
}
